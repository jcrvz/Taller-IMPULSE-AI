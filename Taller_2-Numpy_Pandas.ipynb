{
 "cells": [
  {
   "cell_type": "markdown",
   "source": [
    "# Manipulación de datos con Python"
   ],
   "metadata": {
    "collapsed": false
   },
   "id": "a2813d26fc0f7b26"
  },
  {
   "cell_type": "markdown",
   "source": [
    "## Numpy\n",
    "Numpy es una librería de Python que permite trabajar con arreglos multidimensionales de manera eficiente. Además, provee de funciones matemáticas de alto nivel para operar con estos arreglos.\n",
    "\n",
    "Para poder utilizar Numpy, primero debemos importar la librería. Para ello, ejecutamos la siguiente línea de código:"
   ],
   "metadata": {
    "collapsed": false
   },
   "id": "e138a09e1e945e00"
  },
  {
   "cell_type": "code",
   "execution_count": 1,
   "id": "initial_id",
   "metadata": {
    "collapsed": true,
    "ExecuteTime": {
     "end_time": "2024-01-16T04:18:05.597878Z",
     "start_time": "2024-01-16T04:18:05.024501Z"
    }
   },
   "outputs": [],
   "source": [
    "# Importamos la biblioteca\n",
    "import numpy as np"
   ]
  },
  {
   "cell_type": "markdown",
   "source": [
    "### Creación de arreglos\n",
    "Para crear un arreglo, podemos utilizar la función array de Numpy. Esta función recibe como parámetro una lista de Python y devuelve un arreglo de Numpy."
   ],
   "metadata": {
    "collapsed": false
   },
   "id": "df2ccacfed17bbbd"
  },
  {
   "cell_type": "code",
   "outputs": [
    {
     "name": "stdout",
     "output_type": "stream",
     "text": [
      "[1 2 3]\n"
     ]
    }
   ],
   "source": [
    "# Creamos un arreglo de una dimensión\n",
    "a = np.array([1, 2, 3])\n",
    "print(a)"
   ],
   "metadata": {
    "collapsed": false,
    "ExecuteTime": {
     "end_time": "2024-01-16T04:18:05.625519Z",
     "start_time": "2024-01-16T04:18:05.598478Z"
    }
   },
   "id": "1d1466896339774b",
   "execution_count": 2
  },
  {
   "cell_type": "code",
   "outputs": [
    {
     "name": "stdout",
     "output_type": "stream",
     "text": [
      "[[1 2 3]\n",
      " [4 5 6]]\n"
     ]
    }
   ],
   "source": [
    "# Creamos un arreglo de dos dimensiones\n",
    "b = np.array([[1, 2, 3], [4, 5, 6]])\n",
    "print(b)"
   ],
   "metadata": {
    "collapsed": false,
    "ExecuteTime": {
     "end_time": "2024-01-16T04:18:05.662823Z",
     "start_time": "2024-01-16T04:18:05.623135Z"
    }
   },
   "id": "4dc977d933048958",
   "execution_count": 3
  },
  {
   "cell_type": "code",
   "outputs": [
    {
     "name": "stdout",
     "output_type": "stream",
     "text": [
      "[[[ 1  2  3]\n",
      "  [ 4  5  6]]\n",
      "\n",
      " [[ 7  8  9]\n",
      "  [-1 -2 -3]]]\n"
     ]
    }
   ],
   "source": [
    "# Creamos un arreglo de tres dimensiones\n",
    "c = np.array([[[1, 2, 3], [4, 5, 6]], [[7, 8, 9], [-1, -2, -3]]])\n",
    "print(c)"
   ],
   "metadata": {
    "collapsed": false,
    "ExecuteTime": {
     "end_time": "2024-01-16T04:18:05.704733Z",
     "start_time": "2024-01-16T04:18:05.645875Z"
    }
   },
   "id": "ca46ecb797b7a714",
   "execution_count": 4
  },
  {
   "cell_type": "markdown",
   "source": [
    "### Propiedades de los arreglos\n",
    "Podemos obtener la dimensión de un arreglo utilizando la propiedad ndim."
   ],
   "metadata": {
    "collapsed": false
   },
   "id": "8bc2d9900077a6a"
  },
  {
   "cell_type": "code",
   "outputs": [
    {
     "name": "stdout",
     "output_type": "stream",
     "text": [
      "1\n",
      "2\n",
      "3\n"
     ]
    }
   ],
   "source": [
    "# Obtenemos la dimensión de un arreglo\n",
    "print(a.ndim)\n",
    "print(b.ndim)\n",
    "print(c.ndim)"
   ],
   "metadata": {
    "collapsed": false,
    "ExecuteTime": {
     "end_time": "2024-01-16T04:18:05.768295Z",
     "start_time": "2024-01-16T04:18:05.700863Z"
    }
   },
   "id": "e1c998ad3e531c60",
   "execution_count": 5
  },
  {
   "cell_type": "code",
   "outputs": [
    {
     "name": "stdout",
     "output_type": "stream",
     "text": [
      "(3,)\n",
      "(2, 3)\n",
      "(2, 2, 3)\n"
     ]
    }
   ],
   "source": [
    "# Obtenemos la forma de un arreglo\n",
    "print(a.shape)\n",
    "print(b.shape)\n",
    "print(c.shape)"
   ],
   "metadata": {
    "collapsed": false,
    "ExecuteTime": {
     "end_time": "2024-01-16T04:18:05.818117Z",
     "start_time": "2024-01-16T04:18:05.768504Z"
    }
   },
   "id": "badfcea47a549d9c",
   "execution_count": 6
  },
  {
   "cell_type": "code",
   "outputs": [
    {
     "name": "stdout",
     "output_type": "stream",
     "text": [
      "int64\n",
      "int64\n",
      "int64\n"
     ]
    }
   ],
   "source": [
    "# Obtenemos el tipo de datos de un arreglo\n",
    "print(a.dtype)\n",
    "print(b.dtype)\n",
    "print(c.dtype)"
   ],
   "metadata": {
    "collapsed": false,
    "ExecuteTime": {
     "end_time": "2024-01-16T04:18:05.871826Z",
     "start_time": "2024-01-16T04:18:05.806905Z"
    }
   },
   "id": "c79ddc0ac7443fc1",
   "execution_count": 7
  },
  {
   "cell_type": "code",
   "outputs": [
    {
     "name": "stdout",
     "output_type": "stream",
     "text": [
      "3\n",
      "6\n",
      "12\n"
     ]
    }
   ],
   "source": [
    "# Obtenemos el tamaño de un arreglo\n",
    "print(a.size)\n",
    "print(b.size)\n",
    "print(c.size)"
   ],
   "metadata": {
    "collapsed": false,
    "ExecuteTime": {
     "end_time": "2024-01-16T04:18:05.909337Z",
     "start_time": "2024-01-16T04:18:05.864651Z"
    }
   },
   "id": "ff696f5b89d397d6",
   "execution_count": 8
  },
  {
   "cell_type": "markdown",
   "source": [
    "### Acceso a los elementos de un arreglo\n",
    "Podemos acceder a los elementos de un arreglo utilizando índices. Para acceder a un elemento de un arreglo de una dimensión, utilizamos un índice. Para acceder a un elemento de un arreglo de dos dimensiones, utilizamos dos índices. Para acceder a un elemento de un arreglo de tres dimensiones, utilizamos tres índices, y así sucesivamente."
   ],
   "metadata": {
    "collapsed": false
   },
   "id": "61800f5b423a41c9"
  },
  {
   "cell_type": "code",
   "outputs": [
    {
     "name": "stdout",
     "output_type": "stream",
     "text": [
      "1\n"
     ]
    }
   ],
   "source": [
    "# Accedemos a los elementos de un arreglo de una dimensión\n",
    "print(a[0])"
   ],
   "metadata": {
    "collapsed": false,
    "ExecuteTime": {
     "end_time": "2024-01-16T04:18:05.994935Z",
     "start_time": "2024-01-16T04:18:05.909917Z"
    }
   },
   "id": "da4297398b245997",
   "execution_count": 9
  },
  {
   "cell_type": "code",
   "outputs": [
    {
     "name": "stdout",
     "output_type": "stream",
     "text": [
      "1\n",
      "2\n"
     ]
    }
   ],
   "source": [
    "# Accedemos a los elementos de un arreglo de dos dimensiones\n",
    "print(b[0, 0])\n",
    "print(b[0, 1])"
   ],
   "metadata": {
    "collapsed": false,
    "ExecuteTime": {
     "end_time": "2024-01-16T04:18:06.044534Z",
     "start_time": "2024-01-16T04:18:05.981667Z"
    }
   },
   "id": "5eb0b2f698947138",
   "execution_count": 10
  },
  {
   "cell_type": "code",
   "outputs": [
    {
     "name": "stdout",
     "output_type": "stream",
     "text": [
      "1\n",
      "2\n"
     ]
    }
   ],
   "source": [
    "# Accedemos a los elementos de un arreglo de tres dimensiones\n",
    "print(c[0, 0, 0])\n",
    "print(c[0, 0, 1])"
   ],
   "metadata": {
    "collapsed": false,
    "ExecuteTime": {
     "end_time": "2024-01-16T04:18:06.112203Z",
     "start_time": "2024-01-16T04:18:06.045537Z"
    }
   },
   "id": "697d04dc37b71a0b",
   "execution_count": 11
  },
  {
   "cell_type": "code",
   "outputs": [
    {
     "name": "stdout",
     "output_type": "stream",
     "text": [
      "[4 5 6]\n",
      "[[1 2 3]\n",
      " [4 5 6]]\n"
     ]
    }
   ],
   "source": [
    "# Accedemos a los elementos de un arreglo de tres dimensiones\n",
    "print(c[0][1])\n",
    "print(c[0])"
   ],
   "metadata": {
    "collapsed": false,
    "ExecuteTime": {
     "end_time": "2024-01-16T04:18:06.131648Z",
     "start_time": "2024-01-16T04:18:06.104186Z"
    }
   },
   "id": "869c77248e75a8e9",
   "execution_count": 12
  },
  {
   "cell_type": "markdown",
   "source": [
    "### Operaciones con arreglos\n",
    "Podemos realizar operaciones matemáticas con arreglos. Por ejemplo, podemos sumar dos arreglos de la misma dimensión."
   ],
   "metadata": {
    "collapsed": false
   },
   "id": "ac59a6738c0d199"
  },
  {
   "cell_type": "code",
   "outputs": [
    {
     "name": "stdout",
     "output_type": "stream",
     "text": [
      "[5 7 9]\n"
     ]
    }
   ],
   "source": [
    "# Sumamos dos arreglos de la misma dimensión\n",
    "a = np.array([1, 2, 3])\n",
    "b = np.array([4, 5, 6])\n",
    "print(a + b)"
   ],
   "metadata": {
    "collapsed": false,
    "ExecuteTime": {
     "end_time": "2024-01-16T04:18:06.199948Z",
     "start_time": "2024-01-16T04:18:06.132346Z"
    }
   },
   "id": "432189f71b4482a0",
   "execution_count": 13
  },
  {
   "cell_type": "code",
   "outputs": [
    {
     "name": "stdout",
     "output_type": "stream",
     "text": [
      "[[ 5  7  9]\n",
      " [ 8 10 12]]\n"
     ]
    }
   ],
   "source": [
    "# Sumamos dos arreglos de distinta dimensión\n",
    "a = np.array([1, 2, 3])\n",
    "b = np.array([[4, 5, 6], [7, 8, 9]])\n",
    "print(a + b)\n",
    "\n",
    "# Lo que hace Numpy es sumar el arreglo a con cada fila del arreglo b"
   ],
   "metadata": {
    "collapsed": false,
    "ExecuteTime": {
     "end_time": "2024-01-16T04:18:06.225818Z",
     "start_time": "2024-01-16T04:18:06.188420Z"
    }
   },
   "id": "b6ce96a62ebd4b72",
   "execution_count": 14
  },
  {
   "cell_type": "code",
   "outputs": [
    {
     "name": "stdout",
     "output_type": "stream",
     "text": [
      "[ 4 10 18]\n"
     ]
    }
   ],
   "source": [
    "# Multiplicamos dos arreglos de la misma dimensión\n",
    "a = np.array([1, 2, 3])\n",
    "b = np.array([4, 5, 6])\n",
    "print(a * b)\n"
   ],
   "metadata": {
    "collapsed": false,
    "ExecuteTime": {
     "end_time": "2024-01-16T04:18:06.307904Z",
     "start_time": "2024-01-16T04:18:06.221859Z"
    }
   },
   "id": "3c94d81393d8edaa",
   "execution_count": 15
  },
  {
   "cell_type": "code",
   "outputs": [
    {
     "name": "stdout",
     "output_type": "stream",
     "text": [
      "[[ 4 10 18]\n",
      " [ 7 16 27]]\n"
     ]
    }
   ],
   "source": [
    "# Multiplicamos dos arreglos de distinta dimensión\n",
    "a = np.array([1, 2, 3])\n",
    "b = np.array([[4, 5, 6], [7, 8, 9]])\n",
    "print(a * b)\n"
   ],
   "metadata": {
    "collapsed": false,
    "ExecuteTime": {
     "end_time": "2024-01-16T04:18:06.346611Z",
     "start_time": "2024-01-16T04:18:06.299084Z"
    }
   },
   "id": "32c3b250b465833b",
   "execution_count": 16
  },
  {
   "cell_type": "code",
   "outputs": [
    {
     "name": "stdout",
     "output_type": "stream",
     "text": [
      "[1 4 9]\n"
     ]
    }
   ],
   "source": [
    "# Elevamos al cuadrado un arreglo\n",
    "a = np.array([1, 2, 3])\n",
    "print(a ** 2)\n"
   ],
   "metadata": {
    "collapsed": false,
    "ExecuteTime": {
     "end_time": "2024-01-16T04:18:06.425237Z",
     "start_time": "2024-01-16T04:18:06.347791Z"
    }
   },
   "id": "b96c42bbf622578f",
   "execution_count": 17
  },
  {
   "cell_type": "code",
   "outputs": [
    {
     "name": "stdout",
     "output_type": "stream",
     "text": [
      "[1. 2. 3.]\n"
     ]
    }
   ],
   "source": [
    "# Obtenemos la raíz cuadrada de un arreglo\n",
    "a = np.array([1, 4, 9])\n",
    "print(np.sqrt(a))"
   ],
   "metadata": {
    "collapsed": false,
    "ExecuteTime": {
     "end_time": "2024-01-16T04:18:06.451795Z",
     "start_time": "2024-01-16T04:18:06.413392Z"
    }
   },
   "id": "d9828c0d1bac7e31",
   "execution_count": 18
  },
  {
   "cell_type": "code",
   "outputs": [
    {
     "name": "stdout",
     "output_type": "stream",
     "text": [
      "[0.0000000e+00 1.0000000e+00 1.2246468e-16]\n"
     ]
    }
   ],
   "source": [
    "# Obtenemos el seno de un arreglo\n",
    "a = np.array([0, np.pi / 2, np.pi])\n",
    "print(np.sin(a))"
   ],
   "metadata": {
    "collapsed": false,
    "ExecuteTime": {
     "end_time": "2024-01-16T04:18:06.511071Z",
     "start_time": "2024-01-16T04:18:06.445938Z"
    }
   },
   "id": "e227373f2a58bbfc",
   "execution_count": 19
  },
  {
   "cell_type": "markdown",
   "source": [
    "### Funciones matemáticas\n",
    "Numpy provee de funciones matemáticas de alto nivel para operar con arreglos. Por ejemplo, podemos calcular la suma de los elementos de un arreglo utilizando la función sum.\n",
    "\n",
    "Algunas de las más comunes son: \n",
    "* sum: calcula la suma de los elementos de un arreglo.\n",
    "* mean: calcula el promedio de los elementos de un arreglo.\n",
    "* std: calcula la desviación estándar de los elementos de un arreglo.\n",
    "* min: calcula el mínimo de los elementos de un arreglo.\n",
    "* max: calcula el máximo de los elementos de un arreglo.\n",
    "* argmin: calcula el índice del mínimo de los elementos de un arreglo."
   ],
   "metadata": {
    "collapsed": false
   },
   "id": "4e30fce619422c6e"
  },
  {
   "cell_type": "code",
   "outputs": [
    {
     "name": "stdout",
     "output_type": "stream",
     "text": [
      "6\n"
     ]
    }
   ],
   "source": [
    "# Calculamos la suma de los elementos de un arreglo\n",
    "a = np.array([1, 2, 3])\n",
    "print(np.sum(a))"
   ],
   "metadata": {
    "collapsed": false,
    "ExecuteTime": {
     "end_time": "2024-01-16T04:18:06.548348Z",
     "start_time": "2024-01-16T04:18:06.511223Z"
    }
   },
   "id": "2c5b2f04ca9300d3",
   "execution_count": 20
  },
  {
   "cell_type": "code",
   "outputs": [
    {
     "name": "stdout",
     "output_type": "stream",
     "text": [
      "21\n"
     ]
    }
   ],
   "source": [
    "# Calculamos la suma de los elementos de un arreglo de dos dimensiones\n",
    "a = np.array([[1, 2, 3], [4, 5, 6]])\n",
    "print(np.sum(a))"
   ],
   "metadata": {
    "collapsed": false,
    "ExecuteTime": {
     "end_time": "2024-01-16T04:18:06.600653Z",
     "start_time": "2024-01-16T04:18:06.539939Z"
    }
   },
   "id": "c2840bb6a73b5526",
   "execution_count": 21
  },
  {
   "cell_type": "code",
   "outputs": [
    {
     "name": "stdout",
     "output_type": "stream",
     "text": [
      "2.0\n"
     ]
    }
   ],
   "source": [
    "# Calculamos el promedio de los elementos de un arreglo\n",
    "a = np.array([1, 2, 3])\n",
    "print(np.mean(a))"
   ],
   "metadata": {
    "collapsed": false,
    "ExecuteTime": {
     "end_time": "2024-01-16T04:18:06.643182Z",
     "start_time": "2024-01-16T04:18:06.600986Z"
    }
   },
   "id": "668851daaa7ef5de",
   "execution_count": 22
  },
  {
   "cell_type": "code",
   "outputs": [
    {
     "name": "stdout",
     "output_type": "stream",
     "text": [
      "0.816496580927726\n"
     ]
    }
   ],
   "source": [
    "# Calculamos la desviación estándar de los elementos de un arreglo\n",
    "a = np.array([1, 2, 3])\n",
    "print(np.std(a))\n"
   ],
   "metadata": {
    "collapsed": false,
    "ExecuteTime": {
     "end_time": "2024-01-16T04:18:06.695548Z",
     "start_time": "2024-01-16T04:18:06.639460Z"
    }
   },
   "id": "e4a76f9d3b96ee08",
   "execution_count": 23
  },
  {
   "cell_type": "code",
   "outputs": [
    {
     "name": "stdout",
     "output_type": "stream",
     "text": [
      "1\n"
     ]
    }
   ],
   "source": [
    "# Calculamos el mínimo de los elementos de un arreglo\n",
    "a = np.array([1, 2, 3])\n",
    "print(np.min(a))"
   ],
   "metadata": {
    "collapsed": false,
    "ExecuteTime": {
     "end_time": "2024-01-16T04:18:06.718196Z",
     "start_time": "2024-01-16T04:18:06.688757Z"
    }
   },
   "id": "84fa82b6c30969cc",
   "execution_count": 24
  },
  {
   "cell_type": "code",
   "outputs": [
    {
     "name": "stdout",
     "output_type": "stream",
     "text": [
      "3\n"
     ]
    }
   ],
   "source": [
    "# Calculamos el máximo de los elementos de un arreglo\n",
    "a = np.array([1, 2, 3])\n",
    "print(np.max(a))\n"
   ],
   "metadata": {
    "collapsed": false,
    "ExecuteTime": {
     "end_time": "2024-01-16T04:18:06.783133Z",
     "start_time": "2024-01-16T04:18:06.718727Z"
    }
   },
   "id": "b1c3c4d28c69ebd9",
   "execution_count": 25
  },
  {
   "cell_type": "code",
   "outputs": [
    {
     "name": "stdout",
     "output_type": "stream",
     "text": [
      "0\n"
     ]
    }
   ],
   "source": [
    "# Calculamos el índice del mínimo de los elementos de un arreglo\n",
    "a = np.array([1, 2, 3])\n",
    "print(np.argmin(a))"
   ],
   "metadata": {
    "collapsed": false,
    "ExecuteTime": {
     "end_time": "2024-01-16T04:18:06.804361Z",
     "start_time": "2024-01-16T04:18:06.774930Z"
    }
   },
   "id": "cd76ba162a42d8e2",
   "execution_count": 26
  },
  {
   "cell_type": "markdown",
   "source": [
    "### Arreglos de ceros y unos\n",
    "Podemos crear arreglos de ceros y unos utilizando las funciones zeros y ones de Numpy."
   ],
   "metadata": {
    "collapsed": false
   },
   "id": "666196153c4717fd"
  },
  {
   "cell_type": "code",
   "outputs": [
    {
     "name": "stdout",
     "output_type": "stream",
     "text": [
      "[[0. 0. 0.]\n",
      " [0. 0. 0.]]\n"
     ]
    }
   ],
   "source": [
    "# Creamos un arreglo de ceros\n",
    "a = np.zeros((2, 3))\n",
    "print(a)"
   ],
   "metadata": {
    "collapsed": false,
    "ExecuteTime": {
     "end_time": "2024-01-16T04:18:06.884602Z",
     "start_time": "2024-01-16T04:18:06.804998Z"
    }
   },
   "id": "22312d902fbcbd4d",
   "execution_count": 27
  },
  {
   "cell_type": "code",
   "outputs": [
    {
     "name": "stdout",
     "output_type": "stream",
     "text": [
      "[[1. 1. 1.]\n",
      " [1. 1. 1.]]\n"
     ]
    }
   ],
   "source": [
    "# Creamos un arreglo de unos\n",
    "a = np.ones((2, 3))\n",
    "print(a)"
   ],
   "metadata": {
    "collapsed": false,
    "ExecuteTime": {
     "end_time": "2024-01-16T04:18:06.911997Z",
     "start_time": "2024-01-16T04:18:06.872453Z"
    }
   },
   "id": "81bb1de504d51ebe",
   "execution_count": 28
  },
  {
   "cell_type": "code",
   "outputs": [
    {
     "name": "stdout",
     "output_type": "stream",
     "text": [
      "[[1 1 1]\n",
      " [1 1 1]]\n"
     ]
    }
   ],
   "source": [
    "# Creamos un arreglo de unos con el mismo tamaño que otro arreglo\n",
    "a = np.array([[1, 2, 3], [4, 5, 6]])\n",
    "b = np.ones_like(a)\n",
    "print(b)"
   ],
   "metadata": {
    "collapsed": false,
    "ExecuteTime": {
     "end_time": "2024-01-16T04:18:06.982244Z",
     "start_time": "2024-01-16T04:18:06.912922Z"
    }
   },
   "id": "1d122c9b2378a9d",
   "execution_count": 29
  },
  {
   "cell_type": "code",
   "outputs": [
    {
     "name": "stdout",
     "output_type": "stream",
     "text": [
      "[[0 0 0]\n",
      " [0 0 0]]\n"
     ]
    }
   ],
   "source": [
    "# Creamos un arreglo de ceros con el mismo tamaño que otro arreglo\n",
    "a = np.array([[1, 2, 3], [4, 5, 6]])\n",
    "b = np.zeros_like(a)\n",
    "print(b)"
   ],
   "metadata": {
    "collapsed": false,
    "ExecuteTime": {
     "end_time": "2024-01-16T04:18:07.003996Z",
     "start_time": "2024-01-16T04:18:06.960214Z"
    }
   },
   "id": "712716c9c4924be8",
   "execution_count": 30
  },
  {
   "cell_type": "markdown",
   "source": [
    "### Arreglos de números aleatorios\n",
    "Podemos crear arreglos de números aleatorios utilizando la función random de Numpy."
   ],
   "metadata": {
    "collapsed": false
   },
   "id": "88426446c6bb0656"
  },
  {
   "cell_type": "code",
   "outputs": [
    {
     "name": "stdout",
     "output_type": "stream",
     "text": [
      "[[0.29624916 0.80906772 0.35025253]\n",
      " [0.78940926 0.56134898 0.25358895]]\n"
     ]
    }
   ],
   "source": [
    "# Creamos un arreglo de números aleatorios\n",
    "np.random.seed(69) # Fijamos la semilla para que los números aleatorios sean los mismos\n",
    "a = np.random.random((2, 3))\n",
    "print(a)"
   ],
   "metadata": {
    "collapsed": false,
    "ExecuteTime": {
     "end_time": "2024-01-16T04:18:07.070985Z",
     "start_time": "2024-01-16T04:18:07.005348Z"
    }
   },
   "id": "7abedbd08e1f0047",
   "execution_count": 31
  },
  {
   "cell_type": "code",
   "outputs": [
    {
     "name": "stdout",
     "output_type": "stream",
     "text": [
      "[[0.10497708 0.05846073 0.67329238]\n",
      " [0.69782966 0.73278321 0.78787406]]\n"
     ]
    }
   ],
   "source": [
    "# Creamos un arreglo de números aleatorios con el mismo tamaño que otro arreglo\n",
    "a = np.array([[1, 2, 3], [4, 5, 6]])\n",
    "b = np.random.random(a.shape)\n",
    "print(b)"
   ],
   "metadata": {
    "collapsed": false,
    "ExecuteTime": {
     "end_time": "2024-01-16T04:18:07.115562Z",
     "start_time": "2024-01-16T04:18:07.063504Z"
    }
   },
   "id": "1284e40fe1729a7b",
   "execution_count": 32
  },
  {
   "cell_type": "code",
   "outputs": [
    {
     "name": "stdout",
     "output_type": "stream",
     "text": [
      "[[8 2 3]\n",
      " [7 8 8]]\n"
     ]
    }
   ],
   "source": [
    "# Creamos un arreglo de números aleatorios enteros\n",
    "a = np.random.randint(0, 10, (2, 3))\n",
    "print(a)"
   ],
   "metadata": {
    "collapsed": false,
    "ExecuteTime": {
     "end_time": "2024-01-16T04:18:07.146440Z",
     "start_time": "2024-01-16T04:18:07.109172Z"
    }
   },
   "id": "40c0e56f3529aed1",
   "execution_count": 33
  },
  {
   "cell_type": "code",
   "outputs": [
    {
     "name": "stdout",
     "output_type": "stream",
     "text": [
      "[[-0.35230503 -2.02389307 -0.54447703]\n",
      " [-0.98382907  1.63877429 -2.49400427]]\n"
     ]
    }
   ],
   "source": [
    "# Creamos un arreglo de números aleatorios con distribución normal\n",
    "a = np.random.normal(0, 1, (2, 3))\n",
    "print(a)"
   ],
   "metadata": {
    "collapsed": false,
    "ExecuteTime": {
     "end_time": "2024-01-16T04:18:07.212174Z",
     "start_time": "2024-01-16T04:18:07.148129Z"
    }
   },
   "id": "c20d20f40514bd7",
   "execution_count": 34
  },
  {
   "cell_type": "code",
   "outputs": [
    {
     "name": "stdout",
     "output_type": "stream",
     "text": [
      "[[0.34676782 0.32431168 1.13367923]\n",
      " [0.2658667  1.13089389 0.56621941]]\n"
     ]
    }
   ],
   "source": [
    "# Creamos un arreglo de números aleatorios con distribución gamma\n",
    "a = np.random.gamma(1, 1, (2, 3))\n",
    "print(a)"
   ],
   "metadata": {
    "collapsed": false,
    "ExecuteTime": {
     "end_time": "2024-01-16T04:18:07.235810Z",
     "start_time": "2024-01-16T04:18:07.209311Z"
    }
   },
   "id": "a7b405a4f1181c91",
   "execution_count": 35
  },
  {
   "cell_type": "markdown",
   "source": [
    "### Operaciones vectoriales y matriciales\n",
    "Podemos realizar operaciones vectoriales y matriciales utilizando las funciones dot y matmul de Numpy."
   ],
   "metadata": {
    "collapsed": false
   },
   "id": "5117292d9de31e8f"
  },
  {
   "cell_type": "code",
   "outputs": [
    {
     "name": "stdout",
     "output_type": "stream",
     "text": [
      "[[22 28]\n",
      " [49 64]]\n"
     ]
    }
   ],
   "source": [
    "# Realizamos una multiplicación de matrices\n",
    "a = np.array([[1, 2, 3], [4, 5, 6]])\n",
    "b = np.array([[1, 2], [3, 4], [5, 6]])\n",
    "print(np.dot(a, b))"
   ],
   "metadata": {
    "collapsed": false,
    "ExecuteTime": {
     "end_time": "2024-01-16T04:18:07.307127Z",
     "start_time": "2024-01-16T04:18:07.236529Z"
    }
   },
   "id": "17b3b37bb238027c",
   "execution_count": 36
  },
  {
   "cell_type": "code",
   "outputs": [
    {
     "name": "stdout",
     "output_type": "stream",
     "text": [
      "[[22 28]\n",
      " [49 64]]\n"
     ]
    }
   ],
   "source": [
    "# Realizamos una multiplicación de matrices\n",
    "a = np.array([[1, 2, 3], [4, 5, 6]])\n",
    "b = np.array([[1, 2], [3, 4], [5, 6]])\n",
    "print(np.matmul(a, b))"
   ],
   "metadata": {
    "collapsed": false,
    "ExecuteTime": {
     "end_time": "2024-01-16T04:18:07.329342Z",
     "start_time": "2024-01-16T04:18:07.291422Z"
    }
   },
   "id": "de2329764b7a7bac",
   "execution_count": 37
  },
  {
   "cell_type": "code",
   "outputs": [
    {
     "data": {
      "text/plain": "['LinAlgError',\n '__all__',\n '__builtins__',\n '__cached__',\n '__doc__',\n '__file__',\n '__loader__',\n '__name__',\n '__package__',\n '__path__',\n '__spec__',\n '_umath_linalg',\n 'cholesky',\n 'cond',\n 'det',\n 'eig',\n 'eigh',\n 'eigvals',\n 'eigvalsh',\n 'inv',\n 'lapack_lite',\n 'linalg',\n 'lstsq',\n 'matrix_power',\n 'matrix_rank',\n 'multi_dot',\n 'norm',\n 'pinv',\n 'qr',\n 'slogdet',\n 'solve',\n 'svd',\n 'tensorinv',\n 'tensorsolve',\n 'test']"
     },
     "execution_count": 38,
     "metadata": {},
     "output_type": "execute_result"
    }
   ],
   "source": [
    "# Veamos las operaciones de algebra lineal que podemos realizar con Numpy\n",
    "\n",
    "dir(np.linalg)"
   ],
   "metadata": {
    "collapsed": false,
    "ExecuteTime": {
     "end_time": "2024-01-16T04:18:07.386854Z",
     "start_time": "2024-01-16T04:18:07.331547Z"
    }
   },
   "id": "7c8bf466862b18b8",
   "execution_count": 38
  },
  {
   "cell_type": "code",
   "outputs": [
    {
     "name": "stdout",
     "output_type": "stream",
     "text": [
      "[[-2.   1. ]\n",
      " [ 1.5 -0.5]]\n"
     ]
    }
   ],
   "source": [
    "# Calculamos la inversa de una matriz\n",
    "a = np.array([[1, 2], [3, 4]])\n",
    "print(np.linalg.inv(a))"
   ],
   "metadata": {
    "collapsed": false,
    "ExecuteTime": {
     "end_time": "2024-01-16T04:18:07.420126Z",
     "start_time": "2024-01-16T04:18:07.375647Z"
    }
   },
   "id": "2b41b308ef946dec",
   "execution_count": 39
  },
  {
   "cell_type": "code",
   "outputs": [
    {
     "name": "stdout",
     "output_type": "stream",
     "text": [
      "[[1 3]\n",
      " [2 4]]\n"
     ]
    }
   ],
   "source": [
    "# Calculamos la transpuesta de una matriz\n",
    "a = np.array([[1, 2], [3, 4]])\n",
    "print(np.transpose(a))\n",
    "#print(a.T)"
   ],
   "metadata": {
    "collapsed": false,
    "ExecuteTime": {
     "end_time": "2024-01-16T04:18:07.497300Z",
     "start_time": "2024-01-16T04:18:07.420530Z"
    }
   },
   "id": "5eff009fa4464dc4",
   "execution_count": 40
  },
  {
   "cell_type": "markdown",
   "source": [
    "### Vectorización\n",
    "La vectorización es una técnica que permite realizar operaciones de manera eficiente utilizando arreglos de Numpy. En lugar de utilizar ciclos, podemos utilizar operaciones vectoriales y matriciales para realizar operaciones con arreglos de Numpy."
   ],
   "metadata": {
    "collapsed": false
   },
   "id": "f3446cc429333630"
  },
  {
   "cell_type": "code",
   "outputs": [
    {
     "name": "stdout",
     "output_type": "stream",
     "text": [
      "6\n"
     ]
    }
   ],
   "source": [
    "# Calculamos la suma de los elementos de un arreglo utilizando ciclos\n",
    "a = np.array([1, 2, 3])\n",
    "suma = 0\n",
    "for i in range(len(a)):\n",
    "    suma += a[i]\n",
    "print(suma)"
   ],
   "metadata": {
    "collapsed": false,
    "ExecuteTime": {
     "end_time": "2024-01-16T04:18:07.528033Z",
     "start_time": "2024-01-16T04:18:07.488451Z"
    }
   },
   "id": "d533ccf6d12b3ab0",
   "execution_count": 41
  },
  {
   "cell_type": "code",
   "outputs": [
    {
     "name": "stdout",
     "output_type": "stream",
     "text": [
      "6\n"
     ]
    }
   ],
   "source": [
    "# Calculamos la suma de los elementos de un arreglo utilizando operaciones vectoriales\n",
    "a = np.array([1, 2, 3])\n",
    "print(np.sum(a))\n"
   ],
   "metadata": {
    "collapsed": false,
    "ExecuteTime": {
     "end_time": "2024-01-16T04:18:07.592382Z",
     "start_time": "2024-01-16T04:18:07.521863Z"
    }
   },
   "id": "d8281a74fda153a0",
   "execution_count": 42
  },
  {
   "cell_type": "code",
   "outputs": [
    {
     "name": "stdout",
     "output_type": "stream",
     "text": [
      "32\n"
     ]
    }
   ],
   "source": [
    "# Calculamos el producto punto de dos arreglos utilizando ciclos\n",
    "a = np.array([1, 2, 3])\n",
    "b = np.array([4, 5, 6])\n",
    "producto_punto = 0\n",
    "for i in range(len(a)):\n",
    "    producto_punto += a[i] * b[i]\n",
    "print(producto_punto)\n"
   ],
   "metadata": {
    "collapsed": false,
    "ExecuteTime": {
     "end_time": "2024-01-16T04:18:07.631663Z",
     "start_time": "2024-01-16T04:18:07.593250Z"
    }
   },
   "id": "8ff76ca0425e251d",
   "execution_count": 43
  },
  {
   "cell_type": "code",
   "outputs": [
    {
     "name": "stdout",
     "output_type": "stream",
     "text": [
      "32\n"
     ]
    }
   ],
   "source": [
    "# Calculamos el producto punto de dos arreglos utilizando operaciones vectoriales\n",
    "a = np.array([1, 2, 3])\n",
    "b = np.array([4, 5, 6])\n",
    "print(np.dot(a, b))\n"
   ],
   "metadata": {
    "collapsed": false,
    "ExecuteTime": {
     "end_time": "2024-01-16T04:18:07.675491Z",
     "start_time": "2024-01-16T04:18:07.623320Z"
    }
   },
   "id": "705b5a3393d69fff",
   "execution_count": 44
  },
  {
   "cell_type": "code",
   "outputs": [],
   "source": [
    "# Implementemos una función que opere de manera vectorizada\n",
    "def funcion_vectorizada(a, b):\n",
    "    return np.sum(a) + np.dot(a, b)\n"
   ],
   "metadata": {
    "collapsed": false,
    "ExecuteTime": {
     "end_time": "2024-01-16T04:18:07.717771Z",
     "start_time": "2024-01-16T04:18:07.676664Z"
    }
   },
   "id": "abfefe80e2aa6482",
   "execution_count": 45
  },
  {
   "cell_type": "code",
   "outputs": [
    {
     "name": "stdout",
     "output_type": "stream",
     "text": [
      "681 µs ± 17.6 µs per loop (mean ± std. dev. of 7 runs, 1,000 loops each)\n"
     ]
    }
   ],
   "source": [
    "# Veamos el tiempo de ejecución de la función vectorizada\n",
    "a = np.random.random(1000000)\n",
    "b = np.random.random(1000000)\n",
    "%timeit funcion_vectorizada(a, b)\n"
   ],
   "metadata": {
    "collapsed": false,
    "ExecuteTime": {
     "end_time": "2024-01-16T04:18:13.245684Z",
     "start_time": "2024-01-16T04:18:07.709015Z"
    }
   },
   "id": "9ffdd6b6c206f3c1",
   "execution_count": 46
  },
  {
   "cell_type": "code",
   "outputs": [
    {
     "name": "stdout",
     "output_type": "stream",
     "text": [
      "216 ms ± 1.24 ms per loop (mean ± std. dev. of 7 runs, 1 loop each)\n"
     ]
    }
   ],
   "source": [
    "# Veamos el tiempo de ejecución de la función no vectorizada\n",
    "def funcion_no_vectorizada(a, b):\n",
    "    suma = 0\n",
    "    for i in range(len(a)):\n",
    "        suma += a[i]\n",
    "    producto_punto = 0\n",
    "    for i in range(len(a)):\n",
    "        producto_punto += a[i] * b[i]\n",
    "    return suma + producto_punto\n",
    "\n",
    "a = np.random.random(1000000)\n",
    "b = np.random.random(1000000)\n",
    "%timeit funcion_no_vectorizada(a, b)\n"
   ],
   "metadata": {
    "collapsed": false,
    "ExecuteTime": {
     "end_time": "2024-01-16T04:18:14.987774Z",
     "start_time": "2024-01-16T04:18:13.246227Z"
    }
   },
   "id": "2e585b8bd91d4b3c",
   "execution_count": 47
  },
  {
   "cell_type": "markdown",
   "source": [
    "## Pandas\n",
    "Pandas es una librería de Python que permite trabajar con datos de manera eficiente. Además, provee de estructuras de datos de alto nivel y herramientas para manipular los datos."
   ],
   "metadata": {
    "collapsed": false
   },
   "id": "971cfd2189e8d533"
  },
  {
   "cell_type": "markdown",
   "source": [
    "### Series\n",
    "Una serie es una estructura de datos de una dimensión que contiene datos y un índice. Podemos crear una serie utilizando la función Series de Pandas."
   ],
   "metadata": {
    "collapsed": false
   },
   "id": "7dc78563d425ca02"
  },
  {
   "cell_type": "code",
   "outputs": [],
   "source": [
    "# Importamos la biblioteca\n",
    "import pandas as pd"
   ],
   "metadata": {
    "collapsed": false,
    "ExecuteTime": {
     "end_time": "2024-01-16T04:18:14.990096Z",
     "start_time": "2024-01-16T04:18:14.986365Z"
    }
   },
   "id": "1789c59b2981b28f",
   "execution_count": 48
  },
  {
   "cell_type": "code",
   "outputs": [
    {
     "name": "stdout",
     "output_type": "stream",
     "text": [
      "0    1\n",
      "1    2\n",
      "2    3\n",
      "dtype: int64\n"
     ]
    }
   ],
   "source": [
    "# Creamos una serie\n",
    "s = pd.Series([1, 2, 3])\n",
    "print(s)\n"
   ],
   "metadata": {
    "collapsed": false,
    "ExecuteTime": {
     "end_time": "2024-01-16T04:18:15.001881Z",
     "start_time": "2024-01-16T04:18:14.990133Z"
    }
   },
   "id": "33701b790674707d",
   "execution_count": 49
  },
  {
   "cell_type": "code",
   "outputs": [
    {
     "name": "stdout",
     "output_type": "stream",
     "text": [
      "a    1\n",
      "b    2\n",
      "c    3\n",
      "dtype: int64\n"
     ]
    }
   ],
   "source": [
    "# Creamos una serie con un índice\n",
    "s = pd.Series([1, 2, 3], index=['a', 'b', 'c'])\n",
    "print(s)    "
   ],
   "metadata": {
    "collapsed": false,
    "ExecuteTime": {
     "end_time": "2024-01-16T04:18:15.004681Z",
     "start_time": "2024-01-16T04:18:14.993048Z"
    }
   },
   "id": "4eb2a7321b631434",
   "execution_count": 50
  },
  {
   "cell_type": "code",
   "outputs": [
    {
     "name": "stdout",
     "output_type": "stream",
     "text": [
      "a    1\n",
      "b    2\n",
      "c    3\n",
      "dtype: int64\n"
     ]
    }
   ],
   "source": [
    "# Creamos una serie a partir de un diccionario\n",
    "s = pd.Series({'a': 1, 'b': 2, 'c': 3})\n",
    "print(s)"
   ],
   "metadata": {
    "collapsed": false,
    "ExecuteTime": {
     "end_time": "2024-01-16T04:18:15.006980Z",
     "start_time": "2024-01-16T04:18:14.995686Z"
    }
   },
   "id": "7a7335daa8152ad",
   "execution_count": 51
  },
  {
   "cell_type": "code",
   "outputs": [],
   "source": [
    "# Creamos una serie a partir de un diccionario\n",
    "s = pd.Series({'a': 1, 'b': 2, 'c': 3}, index=['a', 'b', 'c'])"
   ],
   "metadata": {
    "collapsed": false,
    "ExecuteTime": {
     "end_time": "2024-01-16T04:18:15.013839Z",
     "start_time": "2024-01-16T04:18:14.998593Z"
    }
   },
   "id": "97f5dd9c124841c9",
   "execution_count": 52
  },
  {
   "cell_type": "code",
   "outputs": [
    {
     "name": "stdout",
     "output_type": "stream",
     "text": [
      "1\n",
      "1\n"
     ]
    }
   ],
   "source": [
    "# Accedemos a un elemento de una serie utilizando un índice\n",
    "print(s[0])\n",
    "print(s['a'])\n"
   ],
   "metadata": {
    "collapsed": false,
    "ExecuteTime": {
     "end_time": "2024-01-16T04:18:15.020691Z",
     "start_time": "2024-01-16T04:18:15.001289Z"
    }
   },
   "id": "4d74ac722e0d72a7",
   "execution_count": 53
  },
  {
   "cell_type": "code",
   "outputs": [
    {
     "name": "stdout",
     "output_type": "stream",
     "text": [
      "a    1\n",
      "b    2\n",
      "dtype: int64\n",
      "a    1\n",
      "b    2\n",
      "dtype: int64\n"
     ]
    }
   ],
   "source": [
    "# Accedemos a elementos de una serie utilizando slices\n",
    "print(s[0:2])\n",
    "print(s['a':'b'])\n"
   ],
   "metadata": {
    "collapsed": false,
    "ExecuteTime": {
     "end_time": "2024-01-16T04:18:15.086585Z",
     "start_time": "2024-01-16T04:18:15.005367Z"
    }
   },
   "id": "3e5439e727466ceb",
   "execution_count": 54
  },
  {
   "cell_type": "code",
   "outputs": [
    {
     "name": "stdout",
     "output_type": "stream",
     "text": [
      "a    1\n",
      "c    3\n",
      "dtype: int64\n",
      "c    3\n",
      "dtype: int64\n"
     ]
    }
   ],
   "source": [
    "# Accedemos a elementos de una serie utilizando una lista de índices\n",
    "print(s[[0, 2]])\n",
    "print(s[['c']])\n"
   ],
   "metadata": {
    "collapsed": false,
    "ExecuteTime": {
     "end_time": "2024-01-16T04:18:15.104122Z",
     "start_time": "2024-01-16T04:18:15.009643Z"
    }
   },
   "id": "bcf78d2461771784",
   "execution_count": 55
  },
  {
   "cell_type": "code",
   "outputs": [
    {
     "name": "stdout",
     "output_type": "stream",
     "text": [
      "a    False\n",
      "b     True\n",
      "c     True\n",
      "dtype: bool\n",
      "b    2\n",
      "c    3\n",
      "dtype: int64\n"
     ]
    }
   ],
   "source": [
    "# Accedemos a elementos de una serie utilizando una condición\n",
    "print(s > 1)\n",
    "print(s[s > 1])\n"
   ],
   "metadata": {
    "collapsed": false,
    "ExecuteTime": {
     "end_time": "2024-01-16T04:18:15.115872Z",
     "start_time": "2024-01-16T04:18:15.012859Z"
    }
   },
   "id": "dcbf74e3167e55c1",
   "execution_count": 56
  },
  {
   "cell_type": "code",
   "outputs": [
    {
     "name": "stdout",
     "output_type": "stream",
     "text": [
      "a    2\n",
      "b    3\n",
      "c    4\n",
      "dtype: int64\n",
      "a    2\n",
      "b    4\n",
      "c    6\n",
      "dtype: int64\n",
      "a    1\n",
      "b    4\n",
      "c    9\n",
      "dtype: int64\n"
     ]
    }
   ],
   "source": [
    "# Operamos con una serie utilizando operadores aritméticos\n",
    "print(s + 1)\n",
    "print(s * 2)\n",
    "print(s ** 2)\n"
   ],
   "metadata": {
    "collapsed": false,
    "ExecuteTime": {
     "end_time": "2024-01-16T04:18:15.118392Z",
     "start_time": "2024-01-16T04:18:15.016378Z"
    }
   },
   "id": "35f006a983a0c1f",
   "execution_count": 57
  },
  {
   "cell_type": "code",
   "outputs": [
    {
     "name": "stdout",
     "output_type": "stream",
     "text": [
      "a    1.000000\n",
      "b    1.414214\n",
      "c    1.732051\n",
      "dtype: float64\n",
      "a    0.841471\n",
      "b    0.909297\n",
      "c    0.141120\n",
      "dtype: float64\n"
     ]
    }
   ],
   "source": [
    "# Operamos con una serie utilizando funciones matemáticas\n",
    "print(np.sqrt(s))\n",
    "print(np.sin(s))"
   ],
   "metadata": {
    "collapsed": false,
    "ExecuteTime": {
     "end_time": "2024-01-16T04:18:15.130279Z",
     "start_time": "2024-01-16T04:18:15.019601Z"
    }
   },
   "id": "8f5340721f1cc2da",
   "execution_count": 58
  },
  {
   "cell_type": "markdown",
   "source": [
    "### Dataframes\n",
    "Un dataframe es una estructura de datos de dos dimensiones que contiene datos, un índice de filas y un índice de columnas. Podemos crear un dataframe utilizando la función DataFrame de Pandas."
   ],
   "metadata": {
    "collapsed": false
   },
   "id": "216968a727a1dd71"
  },
  {
   "cell_type": "code",
   "outputs": [
    {
     "name": "stdout",
     "output_type": "stream",
     "text": [
      "   0  1  2\n",
      "0  1  2  3\n",
      "1  4  5  6\n"
     ]
    }
   ],
   "source": [
    "# Creamos un dataframe\n",
    "df = pd.DataFrame([[1, 2, 3], [4, 5, 6]])\n",
    "print(df)"
   ],
   "metadata": {
    "collapsed": false,
    "ExecuteTime": {
     "end_time": "2024-01-16T04:18:15.132617Z",
     "start_time": "2024-01-16T04:18:15.022486Z"
    }
   },
   "id": "f0695980a5f677f2",
   "execution_count": 59
  },
  {
   "cell_type": "code",
   "outputs": [
    {
     "name": "stdout",
     "output_type": "stream",
     "text": [
      "   A  B  C\n",
      "a  1  2  3\n",
      "b  4  5  6\n"
     ]
    }
   ],
   "source": [
    "# Creamos un dataframe con un índice de filas y un índice de columnas\n",
    "df = pd.DataFrame([[1, 2, 3], [4, 5, 6]], index=['a', 'b'], columns=['A', 'B', 'C'])\n",
    "print(df)"
   ],
   "metadata": {
    "collapsed": false,
    "ExecuteTime": {
     "end_time": "2024-01-16T04:18:15.135107Z",
     "start_time": "2024-01-16T04:18:15.027143Z"
    }
   },
   "id": "9a581d2d3e646a08",
   "execution_count": 60
  },
  {
   "cell_type": "code",
   "outputs": [
    {
     "name": "stdout",
     "output_type": "stream",
     "text": [
      "   A  B  C\n",
      "0  1  2  3\n",
      "1  4  5  6\n"
     ]
    }
   ],
   "source": [
    "# Creamos un dataframe a partir de un diccionario\n",
    "df = pd.DataFrame({'A': [1, 4], 'B': [2, 5], 'C': [3, 6]})\n",
    "print(df)\n"
   ],
   "metadata": {
    "collapsed": false,
    "ExecuteTime": {
     "end_time": "2024-01-16T04:18:15.137371Z",
     "start_time": "2024-01-16T04:18:15.030601Z"
    }
   },
   "id": "b970d06d7c3536d1",
   "execution_count": 61
  },
  {
   "cell_type": "code",
   "outputs": [
    {
     "name": "stdout",
     "output_type": "stream",
     "text": [
      "RangeIndex(start=0, stop=2, step=1)\n"
     ]
    }
   ],
   "source": [
    "# Visualizamos el índice de filas de un dataframe\n",
    "print(df.index)"
   ],
   "metadata": {
    "collapsed": false,
    "ExecuteTime": {
     "end_time": "2024-01-16T04:18:15.139710Z",
     "start_time": "2024-01-16T04:18:15.033302Z"
    }
   },
   "id": "817c2bbcf60c0f9",
   "execution_count": 62
  },
  {
   "cell_type": "code",
   "outputs": [
    {
     "data": {
      "text/plain": "   A  B  C\n0  1  2  3\n1  4  5  6",
      "text/html": "<div>\n<style scoped>\n    .dataframe tbody tr th:only-of-type {\n        vertical-align: middle;\n    }\n\n    .dataframe tbody tr th {\n        vertical-align: top;\n    }\n\n    .dataframe thead th {\n        text-align: right;\n    }\n</style>\n<table border=\"1\" class=\"dataframe\">\n  <thead>\n    <tr style=\"text-align: right;\">\n      <th></th>\n      <th>A</th>\n      <th>B</th>\n      <th>C</th>\n    </tr>\n  </thead>\n  <tbody>\n    <tr>\n      <th>0</th>\n      <td>1</td>\n      <td>2</td>\n      <td>3</td>\n    </tr>\n    <tr>\n      <th>1</th>\n      <td>4</td>\n      <td>5</td>\n      <td>6</td>\n    </tr>\n  </tbody>\n</table>\n</div>"
     },
     "execution_count": 63,
     "metadata": {},
     "output_type": "execute_result"
    }
   ],
   "source": [
    "# Veamos el dataframe que creamos anteriormente utilizando Jupyter Notebook\n",
    "df"
   ],
   "metadata": {
    "collapsed": false,
    "ExecuteTime": {
     "end_time": "2024-01-16T04:18:15.147034Z",
     "start_time": "2024-01-16T04:18:15.036149Z"
    }
   },
   "id": "6554cb0b55c6f5e8",
   "execution_count": 63
  },
  {
   "cell_type": "code",
   "outputs": [
    {
     "name": "stdout",
     "output_type": "stream",
     "text": [
      "0    1\n",
      "1    4\n",
      "Name: A, dtype: int64\n"
     ]
    }
   ],
   "source": [
    "# Accedemos a una columna de un dataframe utilizando su nombre\n",
    "print(df['A'])"
   ],
   "metadata": {
    "collapsed": false,
    "ExecuteTime": {
     "end_time": "2024-01-16T04:18:15.149797Z",
     "start_time": "2024-01-16T04:18:15.040538Z"
    }
   },
   "id": "3f84066418d076f4",
   "execution_count": 64
  },
  {
   "cell_type": "code",
   "outputs": [
    {
     "name": "stdout",
     "output_type": "stream",
     "text": [
      "A    1\n",
      "B    2\n",
      "C    3\n",
      "Name: 0, dtype: int64\n"
     ]
    }
   ],
   "source": [
    "# Accedemos a una fila de un dataframe utilizando su índice\n",
    "print(df.loc[0])"
   ],
   "metadata": {
    "collapsed": false,
    "ExecuteTime": {
     "end_time": "2024-01-16T04:18:15.152091Z",
     "start_time": "2024-01-16T04:18:15.043747Z"
    }
   },
   "id": "e29cd0ee061a6bf0",
   "execution_count": 65
  },
  {
   "cell_type": "code",
   "outputs": [
    {
     "name": "stdout",
     "output_type": "stream",
     "text": [
      "1\n"
     ]
    }
   ],
   "source": [
    "# Accedemos a un elemento de un dataframe utilizando su índice de fila y su índice de columna\n",
    "print(df.loc[0, 'A'])"
   ],
   "metadata": {
    "collapsed": false,
    "ExecuteTime": {
     "end_time": "2024-01-16T04:18:15.254629Z",
     "start_time": "2024-01-16T04:18:15.046465Z"
    }
   },
   "id": "9b94dac370dbed62",
   "execution_count": 66
  },
  {
   "cell_type": "code",
   "outputs": [
    {
     "name": "stdout",
     "output_type": "stream",
     "text": [
      "   A  B  C\n",
      "1  4  5  6\n"
     ]
    }
   ],
   "source": [
    "# Accedemos a un elemento de un dataframe utilizando una condición\n",
    "print(df[df['A'] > 1])"
   ],
   "metadata": {
    "collapsed": false,
    "ExecuteTime": {
     "end_time": "2024-01-16T04:18:15.257464Z",
     "start_time": "2024-01-16T04:18:15.049631Z"
    }
   },
   "id": "1bba0f570ab213d4",
   "execution_count": 67
  },
  {
   "cell_type": "code",
   "outputs": [
    {
     "name": "stdout",
     "output_type": "stream",
     "text": [
      "   A  B  C\n",
      "0  2  3  4\n",
      "1  5  6  7\n"
     ]
    }
   ],
   "source": [
    "# Operamos con un dataframe utilizando operadores aritméticos\n",
    "print(df + 1)"
   ],
   "metadata": {
    "collapsed": false,
    "ExecuteTime": {
     "end_time": "2024-01-16T04:18:15.259851Z",
     "start_time": "2024-01-16T04:18:15.052301Z"
    }
   },
   "id": "d8ad7e254e8166b5",
   "execution_count": 68
  },
  {
   "cell_type": "code",
   "outputs": [
    {
     "name": "stdout",
     "output_type": "stream",
     "text": [
      "     A         B         C\n",
      "0  1.0  1.414214  1.732051\n",
      "1  2.0  2.236068  2.449490\n"
     ]
    }
   ],
   "source": [
    "# Operamos con un dataframe utilizando funciones matemáticas\n",
    "print(np.sqrt(df))"
   ],
   "metadata": {
    "collapsed": false,
    "ExecuteTime": {
     "end_time": "2024-01-16T04:18:15.275382Z",
     "start_time": "2024-01-16T04:18:15.053912Z"
    }
   },
   "id": "7118bbcebd0cbcd6",
   "execution_count": 69
  },
  {
   "cell_type": "code",
   "outputs": [
    {
     "data": {
      "text/plain": "   A  B  C\n0  1  2  3\n1  4  5  6",
      "text/html": "<div>\n<style scoped>\n    .dataframe tbody tr th:only-of-type {\n        vertical-align: middle;\n    }\n\n    .dataframe tbody tr th {\n        vertical-align: top;\n    }\n\n    .dataframe thead th {\n        text-align: right;\n    }\n</style>\n<table border=\"1\" class=\"dataframe\">\n  <thead>\n    <tr style=\"text-align: right;\">\n      <th></th>\n      <th>A</th>\n      <th>B</th>\n      <th>C</th>\n    </tr>\n  </thead>\n  <tbody>\n    <tr>\n      <th>0</th>\n      <td>1</td>\n      <td>2</td>\n      <td>3</td>\n    </tr>\n    <tr>\n      <th>1</th>\n      <td>4</td>\n      <td>5</td>\n      <td>6</td>\n    </tr>\n  </tbody>\n</table>\n</div>"
     },
     "execution_count": 70,
     "metadata": {},
     "output_type": "execute_result"
    }
   ],
   "source": [
    "# Veamos el dataframe que creamos anteriormente utilizando Jupyter Notebook\n",
    "df"
   ],
   "metadata": {
    "collapsed": false,
    "ExecuteTime": {
     "end_time": "2024-01-16T04:18:15.278014Z",
     "start_time": "2024-01-16T04:18:15.059011Z"
    }
   },
   "id": "bf5dcf4bebdf6104",
   "execution_count": 70
  },
  {
   "cell_type": "markdown",
   "source": [
    "### Lectura de datos\n",
    "Podemos leer datos de un archivo utilizando la función read_csv de Pandas."
   ],
   "metadata": {
    "collapsed": false
   },
   "id": "df7adca561dbc102"
  },
  {
   "cell_type": "code",
   "outputs": [
    {
     "name": "stdout",
     "output_type": "stream",
     "text": [
      "Overwriting data.csv\n"
     ]
    }
   ],
   "source": [
    "%%writefile data.csv\n",
    "A,B,C\n",
    "1,2,3\n",
    "4,5,6"
   ],
   "metadata": {
    "collapsed": false,
    "ExecuteTime": {
     "end_time": "2024-01-16T04:18:15.280438Z",
     "start_time": "2024-01-16T04:18:15.062387Z"
    }
   },
   "id": "4bdc4f7063c8b2ea",
   "execution_count": 71
  },
  {
   "cell_type": "code",
   "outputs": [
    {
     "name": "stdout",
     "output_type": "stream",
     "text": [
      "   A  B  C\n",
      "0  1  2  3\n",
      "1  4  5  6\n"
     ]
    }
   ],
   "source": [
    "# Leemos datos de un archivo\n",
    "df = pd.read_csv('data.csv')\n",
    "print(df)"
   ],
   "metadata": {
    "collapsed": false,
    "ExecuteTime": {
     "end_time": "2024-01-16T04:18:15.290310Z",
     "start_time": "2024-01-16T04:18:15.065466Z"
    }
   },
   "id": "e8b522af78703c9f",
   "execution_count": 72
  },
  {
   "cell_type": "code",
   "outputs": [
    {
     "name": "stdout",
     "output_type": "stream",
     "text": [
      "   B  C\n",
      "A      \n",
      "1  2  3\n",
      "4  5  6\n"
     ]
    }
   ],
   "source": [
    "# Leemos datos y utilizamos una columna como índice de filas\n",
    "df = pd.read_csv('data.csv', index_col='A')\n",
    "print(df)"
   ],
   "metadata": {
    "collapsed": false,
    "ExecuteTime": {
     "end_time": "2024-01-16T04:18:15.293692Z",
     "start_time": "2024-01-16T04:18:15.079706Z"
    }
   },
   "id": "6f1e048a4c8f005d",
   "execution_count": 73
  },
  {
   "cell_type": "markdown",
   "source": [
    "### Escritura de datos\n",
    "Podemos escribir datos en un archivo utilizando la función to_csv de Pandas."
   ],
   "metadata": {
    "collapsed": false
   },
   "id": "b331c1aa52bf5939"
  },
  {
   "cell_type": "code",
   "outputs": [
    {
     "data": {
      "text/plain": "           Población Continente\nJapón      129683404       Asia\nMéxico     126573481       Asia\nColombia    51152371    América\nArgentina   46736728    América\nEspaña      44494502     Europa",
      "text/html": "<div>\n<style scoped>\n    .dataframe tbody tr th:only-of-type {\n        vertical-align: middle;\n    }\n\n    .dataframe tbody tr th {\n        vertical-align: top;\n    }\n\n    .dataframe thead th {\n        text-align: right;\n    }\n</style>\n<table border=\"1\" class=\"dataframe\">\n  <thead>\n    <tr style=\"text-align: right;\">\n      <th></th>\n      <th>Población</th>\n      <th>Continente</th>\n    </tr>\n  </thead>\n  <tbody>\n    <tr>\n      <th>Japón</th>\n      <td>129683404</td>\n      <td>Asia</td>\n    </tr>\n    <tr>\n      <th>México</th>\n      <td>126573481</td>\n      <td>Asia</td>\n    </tr>\n    <tr>\n      <th>Colombia</th>\n      <td>51152371</td>\n      <td>América</td>\n    </tr>\n    <tr>\n      <th>Argentina</th>\n      <td>46736728</td>\n      <td>América</td>\n    </tr>\n    <tr>\n      <th>España</th>\n      <td>44494502</td>\n      <td>Europa</td>\n    </tr>\n  </tbody>\n</table>\n</div>"
     },
     "execution_count": 74,
     "metadata": {},
     "output_type": "execute_result"
    }
   ],
   "source": [
    "# Creamos un dataframe a partir de un diccionario sobre paises del mundo y su población\n",
    "df = pd.DataFrame({'Población': [129683404, 126573481, 51152371, 46736728, 44494502], 'Continente': ['Asia', 'Asia', 'América', 'América', 'Europa']}, index=['Japón', 'México', 'Colombia', 'Argentina', 'España'])\n",
    "df"
   ],
   "metadata": {
    "collapsed": false,
    "ExecuteTime": {
     "end_time": "2024-01-16T04:18:15.301269Z",
     "start_time": "2024-01-16T04:18:15.086722Z"
    }
   },
   "id": "905c34df0865f8c4",
   "execution_count": 74
  },
  {
   "cell_type": "code",
   "outputs": [
    {
     "name": "stdout",
     "output_type": "stream",
     "text": [
      "           Población Continente\n",
      "Japón      129683404       Asia\n",
      "México     126573481       Asia\n",
      "Colombia    51152371    América\n",
      "Argentina   46736728    América\n",
      "España      44494502     Europa\n"
     ]
    }
   ],
   "source": [
    "print(df)"
   ],
   "metadata": {
    "collapsed": false,
    "ExecuteTime": {
     "end_time": "2024-01-16T04:18:15.308961Z",
     "start_time": "2024-01-16T04:18:15.089752Z"
    }
   },
   "id": "bc4d8badb854dc34",
   "execution_count": 75
  },
  {
   "cell_type": "code",
   "outputs": [],
   "source": [
    "# Escribimos datos en un archivo\n",
    "df.to_csv('paises.csv')\n"
   ],
   "metadata": {
    "collapsed": false,
    "ExecuteTime": {
     "end_time": "2024-01-16T04:18:15.311565Z",
     "start_time": "2024-01-16T04:18:15.092566Z"
    }
   },
   "id": "e0eebca5ea487e9b",
   "execution_count": 76
  },
  {
   "cell_type": "code",
   "outputs": [],
   "source": [
    "# También lo podemos escribir en formato json\n",
    "df.to_json('paises.json')"
   ],
   "metadata": {
    "collapsed": false,
    "ExecuteTime": {
     "end_time": "2024-01-16T04:18:15.320882Z",
     "start_time": "2024-01-16T04:18:15.096281Z"
    }
   },
   "id": "7f4905d678dd6173",
   "execution_count": 77
  },
  {
   "cell_type": "code",
   "outputs": [],
   "source": [
    "# También en formato html\n",
    "df.to_html('paises.html')"
   ],
   "metadata": {
    "collapsed": false,
    "ExecuteTime": {
     "end_time": "2024-01-16T04:18:15.323566Z",
     "start_time": "2024-01-16T04:18:15.099376Z"
    }
   },
   "id": "9fe2e5e53dd21887",
   "execution_count": 78
  },
  {
   "cell_type": "markdown",
   "source": [
    "### Operaciones con dataframes\n",
    "Podemos realizar operaciones con dataframes utilizando las funciones de Pandas."
   ],
   "metadata": {
    "collapsed": false
   },
   "id": "aefdfd9b61471dde"
  },
  {
   "cell_type": "markdown",
   "source": [
    "Veamos las operaciones que podemos realizar con dataframes y series. Algunas de las más comunes son:\n",
    "* head: devuelve las primeras filas de un dataframe.\n",
    "* tail: devuelve las últimas filas de un dataframe.\n",
    "* info: devuelve información sobre un dataframe.\n",
    "* describe: devuelve estadísticas descriptivas de un dataframe.\n",
    "* sum: calcula la suma de los elementos de un dataframe.\n",
    "* mean: calcula el promedio de los elementos de un dataframe.\n",
    "* std: calcula la desviación estándar de los elementos de un dataframe.\n",
    "* min: calcula el mínimo de los elementos de un dataframe.\n",
    "* max: calcula el máximo de los elementos de un dataframe.\n",
    "* argmin: calcula el índice del mínimo de los elementos de un dataframe.\n",
    "* argmax: calcula el índice del máximo de los elementos de un dataframe.\n",
    "* transpose: calcula la transpuesta de un dataframe.\n",
    "* sort_values: ordena los elementos de un dataframe.\n",
    "* dropna: elimina los elementos nulos de un dataframe.\n",
    "* fillna: reemplaza los elementos nulos de un dataframe.\n",
    "* groupby: agrupa los elementos de un dataframe.\n",
    "* apply: aplica una función a los elementos de un dataframe.\n",
    "* join: une dos dataframes.\n",
    "* merge: une dos dataframes.\n",
    "* concat: concatena dos dataframes.\n",
    "* pivot_table: crea una tabla dinámica.\n",
    "* plot: crea un gráfico.\n",
    "* corr: calcula la correlación entre las columnas de un dataframe.\n",
    "* cov: calcula la covarianza entre las columnas de un dataframe.\n",
    "* corrwith: calcula la correlación entre dos dataframes.\n",
    "* covwith: calcula la covarianza entre dos dataframes.\n",
    "* isnull: devuelve los elementos nulos de un dataframe.\n",
    "* notnull: devuelve los elementos no nulos de un dataframe.\n",
    "* drop: elimina elementos de un dataframe.\n",
    "* drop_duplicates: elimina elementos duplicados de un dataframe.\n",
    "* unique: devuelve los elementos únicos de un dataframe.\n",
    "* nunique: devuelve la cantidad de elementos únicos de un dataframe.\n",
    "* value_counts: devuelve la cantidad de elementos de cada tipo de un dataframe.\n",
    "* sample: devuelve una muestra de un dataframe.\n",
    "* loc: accede a elementos de un dataframe utilizando índices de filas y columnas.\n",
    "* iloc: accede a elementos de un dataframe utilizando índices de filas y columnas.\n",
    "* ix: accede a elementos de un dataframe utilizando índices de filas y columnas.\n",
    "* columns: devuelve las columnas de un dataframe.\n",
    "* index: devuelve los índices de filas de un dataframe.\n",
    "* shape: devuelve la forma de un dataframe.\n",
    "* size: devuelve el tamaño de un dataframe.\n",
    "* values: devuelve los valores de un dataframe.\n",
    "* dtype: devuelve los tipos de datos de un dataframe.\n",
    "* astype: convierte los tipos de datos de un dataframe.\n",
    "* entre otras."
   ],
   "metadata": {
    "collapsed": false
   },
   "id": "99c3739298864f03"
  },
  {
   "cell_type": "code",
   "outputs": [
    {
     "data": {
      "text/plain": "['ArrowDtype',\n 'BooleanDtype',\n 'Categorical',\n 'CategoricalDtype',\n 'CategoricalIndex',\n 'DataFrame',\n 'DateOffset',\n 'DatetimeIndex',\n 'DatetimeTZDtype',\n 'ExcelFile',\n 'ExcelWriter',\n 'Flags',\n 'Float32Dtype',\n 'Float64Dtype',\n 'Grouper',\n 'HDFStore',\n 'Index',\n 'IndexSlice',\n 'Int16Dtype',\n 'Int32Dtype',\n 'Int64Dtype',\n 'Int8Dtype',\n 'Interval',\n 'IntervalDtype',\n 'IntervalIndex',\n 'MultiIndex',\n 'NA',\n 'NaT',\n 'NamedAgg',\n 'Period',\n 'PeriodDtype',\n 'PeriodIndex',\n 'RangeIndex',\n 'Series',\n 'SparseDtype',\n 'StringDtype',\n 'Timedelta',\n 'TimedeltaIndex',\n 'Timestamp',\n 'UInt16Dtype',\n 'UInt32Dtype',\n 'UInt64Dtype',\n 'UInt8Dtype',\n '__all__',\n '__builtins__',\n '__cached__',\n '__doc__',\n '__docformat__',\n '__file__',\n '__git_version__',\n '__loader__',\n '__name__',\n '__package__',\n '__path__',\n '__spec__',\n '__version__',\n '_config',\n '_is_numpy_dev',\n '_libs',\n '_testing',\n '_typing',\n '_version',\n 'annotations',\n 'api',\n 'array',\n 'arrays',\n 'bdate_range',\n 'compat',\n 'concat',\n 'core',\n 'crosstab',\n 'cut',\n 'date_range',\n 'describe_option',\n 'errors',\n 'eval',\n 'factorize',\n 'from_dummies',\n 'get_dummies',\n 'get_option',\n 'infer_freq',\n 'interval_range',\n 'io',\n 'isna',\n 'isnull',\n 'json_normalize',\n 'lreshape',\n 'melt',\n 'merge',\n 'merge_asof',\n 'merge_ordered',\n 'notna',\n 'notnull',\n 'offsets',\n 'option_context',\n 'options',\n 'pandas',\n 'period_range',\n 'pivot',\n 'pivot_table',\n 'plotting',\n 'qcut',\n 'read_clipboard',\n 'read_csv',\n 'read_excel',\n 'read_feather',\n 'read_fwf',\n 'read_gbq',\n 'read_hdf',\n 'read_html',\n 'read_json',\n 'read_orc',\n 'read_parquet',\n 'read_pickle',\n 'read_sas',\n 'read_spss',\n 'read_sql',\n 'read_sql_query',\n 'read_sql_table',\n 'read_stata',\n 'read_table',\n 'read_xml',\n 'reset_option',\n 'set_eng_float_format',\n 'set_option',\n 'show_versions',\n 'test',\n 'testing',\n 'timedelta_range',\n 'to_datetime',\n 'to_numeric',\n 'to_pickle',\n 'to_timedelta',\n 'tseries',\n 'unique',\n 'util',\n 'value_counts',\n 'wide_to_long']"
     },
     "execution_count": 79,
     "metadata": {},
     "output_type": "execute_result"
    }
   ],
   "source": [
    "# Veamos las operaciones que podemos realizar con dataframes y series\n",
    "dir(pd)"
   ],
   "metadata": {
    "collapsed": false,
    "ExecuteTime": {
     "end_time": "2024-01-16T04:18:15.331540Z",
     "start_time": "2024-01-16T04:18:15.103480Z"
    }
   },
   "id": "6f6ac2ebf3fb6a51",
   "execution_count": 79
  },
  {
   "cell_type": "code",
   "outputs": [
    {
     "data": {
      "text/plain": "        Población Continente\nJapón   129683404       Asia\nMéxico  126573481       Asia",
      "text/html": "<div>\n<style scoped>\n    .dataframe tbody tr th:only-of-type {\n        vertical-align: middle;\n    }\n\n    .dataframe tbody tr th {\n        vertical-align: top;\n    }\n\n    .dataframe thead th {\n        text-align: right;\n    }\n</style>\n<table border=\"1\" class=\"dataframe\">\n  <thead>\n    <tr style=\"text-align: right;\">\n      <th></th>\n      <th>Población</th>\n      <th>Continente</th>\n    </tr>\n  </thead>\n  <tbody>\n    <tr>\n      <th>Japón</th>\n      <td>129683404</td>\n      <td>Asia</td>\n    </tr>\n    <tr>\n      <th>México</th>\n      <td>126573481</td>\n      <td>Asia</td>\n    </tr>\n  </tbody>\n</table>\n</div>"
     },
     "execution_count": 80,
     "metadata": {},
     "output_type": "execute_result"
    }
   ],
   "source": [
    "# head\n",
    "df.head(2)\n"
   ],
   "metadata": {
    "collapsed": false,
    "ExecuteTime": {
     "end_time": "2024-01-16T04:18:15.341116Z",
     "start_time": "2024-01-16T04:18:15.107241Z"
    }
   },
   "id": "31db66b688f8734c",
   "execution_count": 80
  },
  {
   "cell_type": "code",
   "outputs": [
    {
     "name": "stdout",
     "output_type": "stream",
     "text": [
      "           Población Continente\n",
      "Argentina   46736728    América\n",
      "España      44494502     Europa\n"
     ]
    }
   ],
   "source": [
    "# tail\n",
    "print(df.tail(2))"
   ],
   "metadata": {
    "collapsed": false,
    "ExecuteTime": {
     "end_time": "2024-01-16T04:18:15.343468Z",
     "start_time": "2024-01-16T04:18:15.110903Z"
    }
   },
   "id": "13526366b9e719d3",
   "execution_count": 81
  },
  {
   "cell_type": "code",
   "outputs": [
    {
     "name": "stdout",
     "output_type": "stream",
     "text": [
      "<class 'pandas.core.frame.DataFrame'>\n",
      "Index: 5 entries, Japón to España\n",
      "Data columns (total 2 columns):\n",
      " #   Column      Non-Null Count  Dtype \n",
      "---  ------      --------------  ----- \n",
      " 0   Población   5 non-null      int64 \n",
      " 1   Continente  5 non-null      object\n",
      "dtypes: int64(1), object(1)\n",
      "memory usage: 292.0+ bytes\n"
     ]
    }
   ],
   "source": [
    "# info\n",
    "df.info()"
   ],
   "metadata": {
    "collapsed": false,
    "ExecuteTime": {
     "end_time": "2024-01-16T04:18:15.348093Z",
     "start_time": "2024-01-16T04:18:15.116395Z"
    }
   },
   "id": "a31fc101fb256ebc",
   "execution_count": 82
  },
  {
   "cell_type": "code",
   "outputs": [
    {
     "data": {
      "text/plain": "          Población\ncount  5.000000e+00\nmean   7.972810e+07\nstd    4.426181e+07\nmin    4.449450e+07\n25%    4.673673e+07\n50%    5.115237e+07\n75%    1.265735e+08\nmax    1.296834e+08",
      "text/html": "<div>\n<style scoped>\n    .dataframe tbody tr th:only-of-type {\n        vertical-align: middle;\n    }\n\n    .dataframe tbody tr th {\n        vertical-align: top;\n    }\n\n    .dataframe thead th {\n        text-align: right;\n    }\n</style>\n<table border=\"1\" class=\"dataframe\">\n  <thead>\n    <tr style=\"text-align: right;\">\n      <th></th>\n      <th>Población</th>\n    </tr>\n  </thead>\n  <tbody>\n    <tr>\n      <th>count</th>\n      <td>5.000000e+00</td>\n    </tr>\n    <tr>\n      <th>mean</th>\n      <td>7.972810e+07</td>\n    </tr>\n    <tr>\n      <th>std</th>\n      <td>4.426181e+07</td>\n    </tr>\n    <tr>\n      <th>min</th>\n      <td>4.449450e+07</td>\n    </tr>\n    <tr>\n      <th>25%</th>\n      <td>4.673673e+07</td>\n    </tr>\n    <tr>\n      <th>50%</th>\n      <td>5.115237e+07</td>\n    </tr>\n    <tr>\n      <th>75%</th>\n      <td>1.265735e+08</td>\n    </tr>\n    <tr>\n      <th>max</th>\n      <td>1.296834e+08</td>\n    </tr>\n  </tbody>\n</table>\n</div>"
     },
     "execution_count": 83,
     "metadata": {},
     "output_type": "execute_result"
    }
   ],
   "source": [
    "# describe\n",
    "df.describe()\n"
   ],
   "metadata": {
    "collapsed": false,
    "ExecuteTime": {
     "end_time": "2024-01-16T04:18:15.363853Z",
     "start_time": "2024-01-16T04:18:15.119598Z"
    }
   },
   "id": "32256e007ea3cfa8",
   "execution_count": 83
  },
  {
   "cell_type": "code",
   "outputs": [
    {
     "data": {
      "text/plain": "Población                        398640486\nContinente    AsiaAsiaAméricaAméricaEuropa\ndtype: object"
     },
     "execution_count": 84,
     "metadata": {},
     "output_type": "execute_result"
    }
   ],
   "source": [
    "# sum\n",
    "df.sum()\n"
   ],
   "metadata": {
    "collapsed": false,
    "ExecuteTime": {
     "end_time": "2024-01-16T04:18:15.366610Z",
     "start_time": "2024-01-16T04:18:15.124910Z"
    }
   },
   "id": "802d5178627db09",
   "execution_count": 84
  },
  {
   "cell_type": "code",
   "outputs": [
    {
     "data": {
      "text/plain": "     A    B   C\n0  1.0  NaN   7\n1  2.0  5.0   8\n2  3.0  6.0   9\n3  NaN  NaN  10",
      "text/html": "<div>\n<style scoped>\n    .dataframe tbody tr th:only-of-type {\n        vertical-align: middle;\n    }\n\n    .dataframe tbody tr th {\n        vertical-align: top;\n    }\n\n    .dataframe thead th {\n        text-align: right;\n    }\n</style>\n<table border=\"1\" class=\"dataframe\">\n  <thead>\n    <tr style=\"text-align: right;\">\n      <th></th>\n      <th>A</th>\n      <th>B</th>\n      <th>C</th>\n    </tr>\n  </thead>\n  <tbody>\n    <tr>\n      <th>0</th>\n      <td>1.0</td>\n      <td>NaN</td>\n      <td>7</td>\n    </tr>\n    <tr>\n      <th>1</th>\n      <td>2.0</td>\n      <td>5.0</td>\n      <td>8</td>\n    </tr>\n    <tr>\n      <th>2</th>\n      <td>3.0</td>\n      <td>6.0</td>\n      <td>9</td>\n    </tr>\n    <tr>\n      <th>3</th>\n      <td>NaN</td>\n      <td>NaN</td>\n      <td>10</td>\n    </tr>\n  </tbody>\n</table>\n</div>"
     },
     "execution_count": 85,
     "metadata": {},
     "output_type": "execute_result"
    }
   ],
   "source": [
    "# dropna\n",
    "df = pd.DataFrame({'A': [1, 2, 3, np.nan], 'B': [np.nan, 5, 6, np.nan], 'C': [7, 8, 9, 10]})\n",
    "df"
   ],
   "metadata": {
    "collapsed": false,
    "ExecuteTime": {
     "end_time": "2024-01-16T04:18:15.377710Z",
     "start_time": "2024-01-16T04:18:15.130133Z"
    }
   },
   "id": "1c49ef014dbc2e37",
   "execution_count": 85
  },
  {
   "cell_type": "code",
   "outputs": [
    {
     "data": {
      "text/plain": "     A    B  C\n1  2.0  5.0  8\n2  3.0  6.0  9",
      "text/html": "<div>\n<style scoped>\n    .dataframe tbody tr th:only-of-type {\n        vertical-align: middle;\n    }\n\n    .dataframe tbody tr th {\n        vertical-align: top;\n    }\n\n    .dataframe thead th {\n        text-align: right;\n    }\n</style>\n<table border=\"1\" class=\"dataframe\">\n  <thead>\n    <tr style=\"text-align: right;\">\n      <th></th>\n      <th>A</th>\n      <th>B</th>\n      <th>C</th>\n    </tr>\n  </thead>\n  <tbody>\n    <tr>\n      <th>1</th>\n      <td>2.0</td>\n      <td>5.0</td>\n      <td>8</td>\n    </tr>\n    <tr>\n      <th>2</th>\n      <td>3.0</td>\n      <td>6.0</td>\n      <td>9</td>\n    </tr>\n  </tbody>\n</table>\n</div>"
     },
     "execution_count": 86,
     "metadata": {},
     "output_type": "execute_result"
    }
   ],
   "source": [
    "df.dropna()"
   ],
   "metadata": {
    "collapsed": false,
    "ExecuteTime": {
     "end_time": "2024-01-16T04:18:15.397895Z",
     "start_time": "2024-01-16T04:18:15.133201Z"
    }
   },
   "id": "2ce66a5eb8f6c1ef",
   "execution_count": 86
  },
  {
   "cell_type": "code",
   "outputs": [
    {
     "data": {
      "text/plain": "     A    B   C\n0  1.0  0.0   7\n1  2.0  5.0   8\n2  3.0  6.0   9\n3  0.0  0.0  10",
      "text/html": "<div>\n<style scoped>\n    .dataframe tbody tr th:only-of-type {\n        vertical-align: middle;\n    }\n\n    .dataframe tbody tr th {\n        vertical-align: top;\n    }\n\n    .dataframe thead th {\n        text-align: right;\n    }\n</style>\n<table border=\"1\" class=\"dataframe\">\n  <thead>\n    <tr style=\"text-align: right;\">\n      <th></th>\n      <th>A</th>\n      <th>B</th>\n      <th>C</th>\n    </tr>\n  </thead>\n  <tbody>\n    <tr>\n      <th>0</th>\n      <td>1.0</td>\n      <td>0.0</td>\n      <td>7</td>\n    </tr>\n    <tr>\n      <th>1</th>\n      <td>2.0</td>\n      <td>5.0</td>\n      <td>8</td>\n    </tr>\n    <tr>\n      <th>2</th>\n      <td>3.0</td>\n      <td>6.0</td>\n      <td>9</td>\n    </tr>\n    <tr>\n      <th>3</th>\n      <td>0.0</td>\n      <td>0.0</td>\n      <td>10</td>\n    </tr>\n  </tbody>\n</table>\n</div>"
     },
     "execution_count": 87,
     "metadata": {},
     "output_type": "execute_result"
    }
   ],
   "source": [
    "# fillna\n",
    "df.fillna(0)"
   ],
   "metadata": {
    "collapsed": false,
    "ExecuteTime": {
     "end_time": "2024-01-16T04:18:15.415983Z",
     "start_time": "2024-01-16T04:18:15.138774Z"
    }
   },
   "id": "b879edb77029302d",
   "execution_count": 87
  },
  {
   "cell_type": "code",
   "outputs": [
    {
     "data": {
      "text/plain": "   A  B\n0  1  4\n1  2  5\n2  3  6\n3  1  7\n4  2  8\n5  3  9",
      "text/html": "<div>\n<style scoped>\n    .dataframe tbody tr th:only-of-type {\n        vertical-align: middle;\n    }\n\n    .dataframe tbody tr th {\n        vertical-align: top;\n    }\n\n    .dataframe thead th {\n        text-align: right;\n    }\n</style>\n<table border=\"1\" class=\"dataframe\">\n  <thead>\n    <tr style=\"text-align: right;\">\n      <th></th>\n      <th>A</th>\n      <th>B</th>\n    </tr>\n  </thead>\n  <tbody>\n    <tr>\n      <th>0</th>\n      <td>1</td>\n      <td>4</td>\n    </tr>\n    <tr>\n      <th>1</th>\n      <td>2</td>\n      <td>5</td>\n    </tr>\n    <tr>\n      <th>2</th>\n      <td>3</td>\n      <td>6</td>\n    </tr>\n    <tr>\n      <th>3</th>\n      <td>1</td>\n      <td>7</td>\n    </tr>\n    <tr>\n      <th>4</th>\n      <td>2</td>\n      <td>8</td>\n    </tr>\n    <tr>\n      <th>5</th>\n      <td>3</td>\n      <td>9</td>\n    </tr>\n  </tbody>\n</table>\n</div>"
     },
     "execution_count": 88,
     "metadata": {},
     "output_type": "execute_result"
    }
   ],
   "source": [
    "# groupby\n",
    "df = pd.DataFrame({\n",
    "    'A': [1, 2, 3, 1, 2, 3], \n",
    "    'B': [4, 5, 6, 7, 8, 9]})\n",
    "df"
   ],
   "metadata": {
    "collapsed": false,
    "ExecuteTime": {
     "end_time": "2024-01-16T04:18:15.424231Z",
     "start_time": "2024-01-16T04:18:15.142793Z"
    }
   },
   "id": "56420d29af84375",
   "execution_count": 88
  },
  {
   "cell_type": "code",
   "outputs": [
    {
     "data": {
      "text/plain": "    B\nA    \n1  11\n2  13\n3  15",
      "text/html": "<div>\n<style scoped>\n    .dataframe tbody tr th:only-of-type {\n        vertical-align: middle;\n    }\n\n    .dataframe tbody tr th {\n        vertical-align: top;\n    }\n\n    .dataframe thead th {\n        text-align: right;\n    }\n</style>\n<table border=\"1\" class=\"dataframe\">\n  <thead>\n    <tr style=\"text-align: right;\">\n      <th></th>\n      <th>B</th>\n    </tr>\n    <tr>\n      <th>A</th>\n      <th></th>\n    </tr>\n  </thead>\n  <tbody>\n    <tr>\n      <th>1</th>\n      <td>11</td>\n    </tr>\n    <tr>\n      <th>2</th>\n      <td>13</td>\n    </tr>\n    <tr>\n      <th>3</th>\n      <td>15</td>\n    </tr>\n  </tbody>\n</table>\n</div>"
     },
     "execution_count": 89,
     "metadata": {},
     "output_type": "execute_result"
    }
   ],
   "source": [
    "df.groupby('A').sum()"
   ],
   "metadata": {
    "collapsed": false,
    "ExecuteTime": {
     "end_time": "2024-01-16T04:18:15.437407Z",
     "start_time": "2024-01-16T04:18:15.147014Z"
    }
   },
   "id": "c479386e42424d12",
   "execution_count": 89
  },
  {
   "cell_type": "code",
   "outputs": [
    {
     "data": {
      "text/plain": "   A  B\n0  1  4\n1  2  5\n2  3  6\n3  1  7\n4  2  8\n5  3  9",
      "text/html": "<div>\n<style scoped>\n    .dataframe tbody tr th:only-of-type {\n        vertical-align: middle;\n    }\n\n    .dataframe tbody tr th {\n        vertical-align: top;\n    }\n\n    .dataframe thead th {\n        text-align: right;\n    }\n</style>\n<table border=\"1\" class=\"dataframe\">\n  <thead>\n    <tr style=\"text-align: right;\">\n      <th></th>\n      <th>A</th>\n      <th>B</th>\n    </tr>\n  </thead>\n  <tbody>\n    <tr>\n      <th>0</th>\n      <td>1</td>\n      <td>4</td>\n    </tr>\n    <tr>\n      <th>1</th>\n      <td>2</td>\n      <td>5</td>\n    </tr>\n    <tr>\n      <th>2</th>\n      <td>3</td>\n      <td>6</td>\n    </tr>\n    <tr>\n      <th>3</th>\n      <td>1</td>\n      <td>7</td>\n    </tr>\n    <tr>\n      <th>4</th>\n      <td>2</td>\n      <td>8</td>\n    </tr>\n    <tr>\n      <th>5</th>\n      <td>3</td>\n      <td>9</td>\n    </tr>\n  </tbody>\n</table>\n</div>"
     },
     "execution_count": 90,
     "metadata": {},
     "output_type": "execute_result"
    }
   ],
   "source": [
    "# apply\n",
    "df = pd.DataFrame({\n",
    "    'A': [1, 2, 3, 1, 2, 3], \n",
    "    'B': [4, 5, 6, 7, 8, 9]})\n",
    "df"
   ],
   "metadata": {
    "collapsed": false,
    "ExecuteTime": {
     "end_time": "2024-01-16T04:18:15.452429Z",
     "start_time": "2024-01-16T04:18:15.151158Z"
    }
   },
   "id": "7c77e25cffb38e07",
   "execution_count": 90
  },
  {
   "cell_type": "code",
   "outputs": [
    {
     "name": "stdout",
     "output_type": "stream",
     "text": [
      "          A         B\n",
      "0  1.000000  2.000000\n",
      "1  1.414214  2.236068\n",
      "2  1.732051  2.449490\n",
      "3  1.000000  2.645751\n",
      "4  1.414214  2.828427\n",
      "5  1.732051  3.000000\n"
     ]
    }
   ],
   "source": [
    "print(df.apply(np.sqrt))"
   ],
   "metadata": {
    "collapsed": false,
    "ExecuteTime": {
     "end_time": "2024-01-16T04:18:15.456929Z",
     "start_time": "2024-01-16T04:18:15.154310Z"
    }
   },
   "id": "6a4568b498f3792d",
   "execution_count": 91
  },
  {
   "cell_type": "code",
   "outputs": [
    {
     "data": {
      "text/plain": "   A  B  C   D\n0  1  4  7  10\n1  2  5  8  11\n2  3  6  9  12",
      "text/html": "<div>\n<style scoped>\n    .dataframe tbody tr th:only-of-type {\n        vertical-align: middle;\n    }\n\n    .dataframe tbody tr th {\n        vertical-align: top;\n    }\n\n    .dataframe thead th {\n        text-align: right;\n    }\n</style>\n<table border=\"1\" class=\"dataframe\">\n  <thead>\n    <tr style=\"text-align: right;\">\n      <th></th>\n      <th>A</th>\n      <th>B</th>\n      <th>C</th>\n      <th>D</th>\n    </tr>\n  </thead>\n  <tbody>\n    <tr>\n      <th>0</th>\n      <td>1</td>\n      <td>4</td>\n      <td>7</td>\n      <td>10</td>\n    </tr>\n    <tr>\n      <th>1</th>\n      <td>2</td>\n      <td>5</td>\n      <td>8</td>\n      <td>11</td>\n    </tr>\n    <tr>\n      <th>2</th>\n      <td>3</td>\n      <td>6</td>\n      <td>9</td>\n      <td>12</td>\n    </tr>\n  </tbody>\n</table>\n</div>"
     },
     "execution_count": 92,
     "metadata": {},
     "output_type": "execute_result"
    }
   ],
   "source": [
    "# join\n",
    "df1 = pd.DataFrame({'A': [1, 2, 3], 'B': [4, 5, 6]})\n",
    "df2 = pd.DataFrame({'C': [7, 8, 9], 'D': [10, 11, 12]})\n",
    "df1.join(df2)\n"
   ],
   "metadata": {
    "collapsed": false,
    "ExecuteTime": {
     "end_time": "2024-01-16T04:18:15.459522Z",
     "start_time": "2024-01-16T04:18:15.160599Z"
    }
   },
   "id": "5429fd5459aa07ff",
   "execution_count": 92
  },
  {
   "cell_type": "code",
   "outputs": [
    {
     "data": {
      "text/plain": "   A  B  C\n0  1  4  7\n1  2  5  8\n2  3  6  9",
      "text/html": "<div>\n<style scoped>\n    .dataframe tbody tr th:only-of-type {\n        vertical-align: middle;\n    }\n\n    .dataframe tbody tr th {\n        vertical-align: top;\n    }\n\n    .dataframe thead th {\n        text-align: right;\n    }\n</style>\n<table border=\"1\" class=\"dataframe\">\n  <thead>\n    <tr style=\"text-align: right;\">\n      <th></th>\n      <th>A</th>\n      <th>B</th>\n      <th>C</th>\n    </tr>\n  </thead>\n  <tbody>\n    <tr>\n      <th>0</th>\n      <td>1</td>\n      <td>4</td>\n      <td>7</td>\n    </tr>\n    <tr>\n      <th>1</th>\n      <td>2</td>\n      <td>5</td>\n      <td>8</td>\n    </tr>\n    <tr>\n      <th>2</th>\n      <td>3</td>\n      <td>6</td>\n      <td>9</td>\n    </tr>\n  </tbody>\n</table>\n</div>"
     },
     "execution_count": 93,
     "metadata": {},
     "output_type": "execute_result"
    }
   ],
   "source": [
    "# merge\n",
    "df1 = pd.DataFrame({'A': [1, 2, 3], 'B': [4, 5, 6]})\n",
    "df2 = pd.DataFrame({'A': [1, 2, 3], 'C': [7, 8, 9]})\n",
    "df1.merge(df2)"
   ],
   "metadata": {
    "collapsed": false,
    "ExecuteTime": {
     "end_time": "2024-01-16T04:18:15.461833Z",
     "start_time": "2024-01-16T04:18:15.167367Z"
    }
   },
   "id": "ff09fde17a2c333f",
   "execution_count": 93
  },
  {
   "cell_type": "code",
   "outputs": [
    {
     "data": {
      "text/plain": "   A  B   C\n0  1  4   7\n1  2  5   8\n2  3  6   9\n0  4  7  10\n1  5  8  11\n2  6  9  12",
      "text/html": "<div>\n<style scoped>\n    .dataframe tbody tr th:only-of-type {\n        vertical-align: middle;\n    }\n\n    .dataframe tbody tr th {\n        vertical-align: top;\n    }\n\n    .dataframe thead th {\n        text-align: right;\n    }\n</style>\n<table border=\"1\" class=\"dataframe\">\n  <thead>\n    <tr style=\"text-align: right;\">\n      <th></th>\n      <th>A</th>\n      <th>B</th>\n      <th>C</th>\n    </tr>\n  </thead>\n  <tbody>\n    <tr>\n      <th>0</th>\n      <td>1</td>\n      <td>4</td>\n      <td>7</td>\n    </tr>\n    <tr>\n      <th>1</th>\n      <td>2</td>\n      <td>5</td>\n      <td>8</td>\n    </tr>\n    <tr>\n      <th>2</th>\n      <td>3</td>\n      <td>6</td>\n      <td>9</td>\n    </tr>\n    <tr>\n      <th>0</th>\n      <td>4</td>\n      <td>7</td>\n      <td>10</td>\n    </tr>\n    <tr>\n      <th>1</th>\n      <td>5</td>\n      <td>8</td>\n      <td>11</td>\n    </tr>\n    <tr>\n      <th>2</th>\n      <td>6</td>\n      <td>9</td>\n      <td>12</td>\n    </tr>\n  </tbody>\n</table>\n</div>"
     },
     "execution_count": 94,
     "metadata": {},
     "output_type": "execute_result"
    }
   ],
   "source": [
    "# concat\n",
    "df1 = pd.DataFrame({'A': [1, 2, 3], 'B': [4, 5, 6], 'C': [7, 8, 9]})\n",
    "df2 = pd.DataFrame({'A': [4, 5, 6], 'B': [7, 8, 9], 'C': [10, 11, 12]})\n",
    "df = pd.concat([df1, df2])\n",
    "df"
   ],
   "metadata": {
    "collapsed": false,
    "ExecuteTime": {
     "end_time": "2024-01-16T04:18:15.464528Z",
     "start_time": "2024-01-16T04:18:15.173002Z"
    }
   },
   "id": "16c1ff87693e9c53",
   "execution_count": 94
  },
  {
   "cell_type": "code",
   "outputs": [
    {
     "data": {
      "text/plain": "      A    B      C  D\n0   foo  one  small  1\n1   foo  one  large  2\n2   foo  one  large  2\n3   foo  two  small  3\n4   bar  one  small  3\n5   bar  one  large  4\n6   bar  one  small  5\n7   bar  two  small  6\n8   foo  two  large  7\n9   foo  two  small  8\n10  foo  one  large  9",
      "text/html": "<div>\n<style scoped>\n    .dataframe tbody tr th:only-of-type {\n        vertical-align: middle;\n    }\n\n    .dataframe tbody tr th {\n        vertical-align: top;\n    }\n\n    .dataframe thead th {\n        text-align: right;\n    }\n</style>\n<table border=\"1\" class=\"dataframe\">\n  <thead>\n    <tr style=\"text-align: right;\">\n      <th></th>\n      <th>A</th>\n      <th>B</th>\n      <th>C</th>\n      <th>D</th>\n    </tr>\n  </thead>\n  <tbody>\n    <tr>\n      <th>0</th>\n      <td>foo</td>\n      <td>one</td>\n      <td>small</td>\n      <td>1</td>\n    </tr>\n    <tr>\n      <th>1</th>\n      <td>foo</td>\n      <td>one</td>\n      <td>large</td>\n      <td>2</td>\n    </tr>\n    <tr>\n      <th>2</th>\n      <td>foo</td>\n      <td>one</td>\n      <td>large</td>\n      <td>2</td>\n    </tr>\n    <tr>\n      <th>3</th>\n      <td>foo</td>\n      <td>two</td>\n      <td>small</td>\n      <td>3</td>\n    </tr>\n    <tr>\n      <th>4</th>\n      <td>bar</td>\n      <td>one</td>\n      <td>small</td>\n      <td>3</td>\n    </tr>\n    <tr>\n      <th>5</th>\n      <td>bar</td>\n      <td>one</td>\n      <td>large</td>\n      <td>4</td>\n    </tr>\n    <tr>\n      <th>6</th>\n      <td>bar</td>\n      <td>one</td>\n      <td>small</td>\n      <td>5</td>\n    </tr>\n    <tr>\n      <th>7</th>\n      <td>bar</td>\n      <td>two</td>\n      <td>small</td>\n      <td>6</td>\n    </tr>\n    <tr>\n      <th>8</th>\n      <td>foo</td>\n      <td>two</td>\n      <td>large</td>\n      <td>7</td>\n    </tr>\n    <tr>\n      <th>9</th>\n      <td>foo</td>\n      <td>two</td>\n      <td>small</td>\n      <td>8</td>\n    </tr>\n    <tr>\n      <th>10</th>\n      <td>foo</td>\n      <td>one</td>\n      <td>large</td>\n      <td>9</td>\n    </tr>\n  </tbody>\n</table>\n</div>"
     },
     "execution_count": 95,
     "metadata": {},
     "output_type": "execute_result"
    }
   ],
   "source": [
    "# pivot_table\n",
    "\n",
    "df = pd.DataFrame({'A': ['foo', 'foo', 'foo', 'foo', 'bar', 'bar', 'bar', 'bar', 'foo', 'foo', 'foo'], 'B': ['one', 'one', 'one', 'two', 'one', 'one', 'one', 'two', 'two', 'two', 'one'], 'C': ['small', 'large', 'large', 'small', 'small', 'large', 'small', 'small', 'large', 'small', 'large'], 'D': [1, 2, 2, 3, 3, 4, 5, 6, 7, 8, 9]})\n",
    "df\n"
   ],
   "metadata": {
    "collapsed": false,
    "ExecuteTime": {
     "end_time": "2024-01-16T04:18:15.471789Z",
     "start_time": "2024-01-16T04:18:15.178837Z"
    }
   },
   "id": "6e9a6c3d505396cc",
   "execution_count": 95
  },
  {
   "cell_type": "code",
   "outputs": [
    {
     "data": {
      "text/plain": "C    large  small\nA                \nbar      4     14\nfoo     20     12",
      "text/html": "<div>\n<style scoped>\n    .dataframe tbody tr th:only-of-type {\n        vertical-align: middle;\n    }\n\n    .dataframe tbody tr th {\n        vertical-align: top;\n    }\n\n    .dataframe thead th {\n        text-align: right;\n    }\n</style>\n<table border=\"1\" class=\"dataframe\">\n  <thead>\n    <tr style=\"text-align: right;\">\n      <th>C</th>\n      <th>large</th>\n      <th>small</th>\n    </tr>\n    <tr>\n      <th>A</th>\n      <th></th>\n      <th></th>\n    </tr>\n  </thead>\n  <tbody>\n    <tr>\n      <th>bar</th>\n      <td>4</td>\n      <td>14</td>\n    </tr>\n    <tr>\n      <th>foo</th>\n      <td>20</td>\n      <td>12</td>\n    </tr>\n  </tbody>\n</table>\n</div>"
     },
     "execution_count": 96,
     "metadata": {},
     "output_type": "execute_result"
    }
   ],
   "source": [
    "df.pivot_table(values='D', index='A', columns='C', aggfunc=np.sum)"
   ],
   "metadata": {
    "collapsed": false,
    "ExecuteTime": {
     "end_time": "2024-01-16T04:18:15.563187Z",
     "start_time": "2024-01-16T04:18:15.183402Z"
    }
   },
   "id": "7342e8a1353fc0bb",
   "execution_count": 96
  },
  {
   "cell_type": "code",
   "outputs": [
    {
     "data": {
      "text/plain": "       A  B  C\n0    one  1  2\n1    two  3  4\n2  three  5  6\n3   four  7  8",
      "text/html": "<div>\n<style scoped>\n    .dataframe tbody tr th:only-of-type {\n        vertical-align: middle;\n    }\n\n    .dataframe tbody tr th {\n        vertical-align: top;\n    }\n\n    .dataframe thead th {\n        text-align: right;\n    }\n</style>\n<table border=\"1\" class=\"dataframe\">\n  <thead>\n    <tr style=\"text-align: right;\">\n      <th></th>\n      <th>A</th>\n      <th>B</th>\n      <th>C</th>\n    </tr>\n  </thead>\n  <tbody>\n    <tr>\n      <th>0</th>\n      <td>one</td>\n      <td>1</td>\n      <td>2</td>\n    </tr>\n    <tr>\n      <th>1</th>\n      <td>two</td>\n      <td>3</td>\n      <td>4</td>\n    </tr>\n    <tr>\n      <th>2</th>\n      <td>three</td>\n      <td>5</td>\n      <td>6</td>\n    </tr>\n    <tr>\n      <th>3</th>\n      <td>four</td>\n      <td>7</td>\n      <td>8</td>\n    </tr>\n  </tbody>\n</table>\n</div>"
     },
     "execution_count": 97,
     "metadata": {},
     "output_type": "execute_result"
    }
   ],
   "source": [
    "# melt\n",
    "df = pd.DataFrame({'A': ['one', 'two', 'three', 'four'], 'B': [1, 3, 5, 7], 'C': [2, 4, 6, 8]})\n",
    "df"
   ],
   "metadata": {
    "collapsed": false,
    "ExecuteTime": {
     "end_time": "2024-01-16T04:18:15.565550Z",
     "start_time": "2024-01-16T04:18:15.191679Z"
    }
   },
   "id": "90eedf3f38e90683",
   "execution_count": 97
  },
  {
   "cell_type": "code",
   "outputs": [
    {
     "data": {
      "text/plain": "       A variable  value\n0    one        B      1\n1    two        B      3\n2  three        B      5\n3   four        B      7\n4    one        C      2\n5    two        C      4\n6  three        C      6\n7   four        C      8",
      "text/html": "<div>\n<style scoped>\n    .dataframe tbody tr th:only-of-type {\n        vertical-align: middle;\n    }\n\n    .dataframe tbody tr th {\n        vertical-align: top;\n    }\n\n    .dataframe thead th {\n        text-align: right;\n    }\n</style>\n<table border=\"1\" class=\"dataframe\">\n  <thead>\n    <tr style=\"text-align: right;\">\n      <th></th>\n      <th>A</th>\n      <th>variable</th>\n      <th>value</th>\n    </tr>\n  </thead>\n  <tbody>\n    <tr>\n      <th>0</th>\n      <td>one</td>\n      <td>B</td>\n      <td>1</td>\n    </tr>\n    <tr>\n      <th>1</th>\n      <td>two</td>\n      <td>B</td>\n      <td>3</td>\n    </tr>\n    <tr>\n      <th>2</th>\n      <td>three</td>\n      <td>B</td>\n      <td>5</td>\n    </tr>\n    <tr>\n      <th>3</th>\n      <td>four</td>\n      <td>B</td>\n      <td>7</td>\n    </tr>\n    <tr>\n      <th>4</th>\n      <td>one</td>\n      <td>C</td>\n      <td>2</td>\n    </tr>\n    <tr>\n      <th>5</th>\n      <td>two</td>\n      <td>C</td>\n      <td>4</td>\n    </tr>\n    <tr>\n      <th>6</th>\n      <td>three</td>\n      <td>C</td>\n      <td>6</td>\n    </tr>\n    <tr>\n      <th>7</th>\n      <td>four</td>\n      <td>C</td>\n      <td>8</td>\n    </tr>\n  </tbody>\n</table>\n</div>"
     },
     "execution_count": 98,
     "metadata": {},
     "output_type": "execute_result"
    }
   ],
   "source": [
    "pd.melt(df, id_vars=['A'], value_vars=['B', 'C'])"
   ],
   "metadata": {
    "collapsed": false,
    "ExecuteTime": {
     "end_time": "2024-01-16T04:18:15.586174Z",
     "start_time": "2024-01-16T04:18:15.198024Z"
    }
   },
   "id": "252432229acdcc7c",
   "execution_count": 98
  },
  {
   "cell_type": "code",
   "outputs": [
    {
     "data": {
      "text/plain": "<Axes: >"
     },
     "execution_count": 99,
     "metadata": {},
     "output_type": "execute_result"
    },
    {
     "data": {
      "text/plain": "<Figure size 640x480 with 1 Axes>",
      "image/png": "[encoded data removed]"
     },
     "metadata": {},
     "output_type": "display_data"
    }
   ],
   "source": [
    "# plot\n",
    "df = pd.DataFrame({'A': [1, 2, 3], 'B': [4, 5, 6]})\n",
    "df.plot()"
   ],
   "metadata": {
    "collapsed": false,
    "ExecuteTime": {
     "end_time": "2024-01-16T04:18:15.711441Z",
     "start_time": "2024-01-16T04:18:15.201250Z"
    }
   },
   "id": "27b9f6fd8629f722",
   "execution_count": 99
  },
  {
   "cell_type": "code",
   "outputs": [
    {
     "data": {
      "text/plain": "          A         B\nA  1.000000  0.972015\nB  0.972015  1.000000",
      "text/html": "<div>\n<style scoped>\n    .dataframe tbody tr th:only-of-type {\n        vertical-align: middle;\n    }\n\n    .dataframe tbody tr th {\n        vertical-align: top;\n    }\n\n    .dataframe thead th {\n        text-align: right;\n    }\n</style>\n<table border=\"1\" class=\"dataframe\">\n  <thead>\n    <tr style=\"text-align: right;\">\n      <th></th>\n      <th>A</th>\n      <th>B</th>\n    </tr>\n  </thead>\n  <tbody>\n    <tr>\n      <th>A</th>\n      <td>1.000000</td>\n      <td>0.972015</td>\n    </tr>\n    <tr>\n      <th>B</th>\n      <td>0.972015</td>\n      <td>1.000000</td>\n    </tr>\n  </tbody>\n</table>\n</div>"
     },
     "execution_count": 100,
     "metadata": {},
     "output_type": "execute_result"
    }
   ],
   "source": [
    "# corr\n",
    "df = pd.DataFrame({'A': [1, -2, 3], 'B': [4, -5, 6]})\n",
    "df.corr()"
   ],
   "metadata": {
    "collapsed": false,
    "ExecuteTime": {
     "end_time": "2024-01-16T04:18:15.718733Z",
     "start_time": "2024-01-16T04:18:15.350634Z"
    }
   },
   "id": "b7aef1838303713e",
   "execution_count": 100
  },
  {
   "cell_type": "code",
   "outputs": [
    {
     "data": {
      "text/plain": "           A          B\nA   8.666667 -16.666667\nB -16.666667  41.666667",
      "text/html": "<div>\n<style scoped>\n    .dataframe tbody tr th:only-of-type {\n        vertical-align: middle;\n    }\n\n    .dataframe tbody tr th {\n        vertical-align: top;\n    }\n\n    .dataframe thead th {\n        text-align: right;\n    }\n</style>\n<table border=\"1\" class=\"dataframe\">\n  <thead>\n    <tr style=\"text-align: right;\">\n      <th></th>\n      <th>A</th>\n      <th>B</th>\n    </tr>\n  </thead>\n  <tbody>\n    <tr>\n      <th>A</th>\n      <td>8.666667</td>\n      <td>-16.666667</td>\n    </tr>\n    <tr>\n      <th>B</th>\n      <td>-16.666667</td>\n      <td>41.666667</td>\n    </tr>\n  </tbody>\n</table>\n</div>"
     },
     "execution_count": 101,
     "metadata": {},
     "output_type": "execute_result"
    }
   ],
   "source": [
    "# cov\n",
    "df = pd.DataFrame({'A': [1, 2, -3, 4], 'B': [4, -5, 6, -7]})\n",
    "df.cov()"
   ],
   "metadata": {
    "collapsed": false,
    "ExecuteTime": {
     "end_time": "2024-01-16T04:18:15.721443Z",
     "start_time": "2024-01-16T04:18:15.355220Z"
    }
   },
   "id": "62357b4e686cc17f",
   "execution_count": 101
  }
 ],
 "metadata": {
  "kernelspec": {
   "display_name": "Python 3",
   "language": "python",
   "name": "python3"
  },
  "language_info": {
   "codemirror_mode": {
    "name": "ipython",
    "version": 2
   },
   "file_extension": ".py",
   "mimetype": "text/x-python",
   "name": "python",
   "nbconvert_exporter": "python",
   "pygments_lexer": "ipython2",
   "version": "2.7.6"
  }
 },
 "nbformat": 4,
 "nbformat_minor": 5
}
