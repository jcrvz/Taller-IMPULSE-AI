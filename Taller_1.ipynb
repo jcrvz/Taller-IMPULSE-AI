{
 "cells": [
  {
   "cell_type": "markdown",
   "source": [
    "## Tipos de datos\n",
    "\n",
    "Los tipos de datos son los tipos de valores con los que puede trabajar un programa. Los tipos de datos más comunes son:\n",
    "\n",
    "* Numbers: int, float, complex\n",
    "* Strings: str\n",
    "* Lists: list\n",
    "* Tuples: tuple\n",
    "* Sets: set\n",
    "* Dictionaries: dict\n",
    "* Boolean: bool"
   ],
   "metadata": {
    "collapsed": false
   },
   "id": "e5be316276eacbd9"
  },
  {
   "cell_type": "markdown",
   "source": [
    "### Ejemplo de números\n",
    "Los números se pueden almacenar en variables o directamente en la consola. Los números se pueden definir usando enteros o números de coma flotante. Los números complejos se escriben con una \"j\" como parte de la parte imaginaria."
   ],
   "metadata": {
    "collapsed": false
   },
   "id": "6196b74738a6a946"
  },
  {
   "cell_type": "code",
   "execution_count": 5,
   "id": "initial_id",
   "metadata": {
    "collapsed": true,
    "ExecuteTime": {
     "end_time": "2024-01-04T21:06:39.321252Z",
     "start_time": "2024-01-04T21:06:39.320780Z"
    }
   },
   "outputs": [
    {
     "name": "stdout",
     "output_type": "stream",
     "text": [
      "1 <class 'int'>\n",
      "2.8 <class 'float'>\n",
      "1j <class 'complex'>\n"
     ]
    }
   ],
   "source": [
    "x = 1    # int\n",
    "y = 2.8  # float\n",
    "z = 1j   # complex\n",
    "\n",
    "print(x, type(x))\n",
    "print(y, type(y))\n",
    "print(z, type(z))"
   ]
  },
  {
   "cell_type": "markdown",
   "source": [
    "### Ejemplo de strings\n",
    "Los strings en Python se pueden definir usando comillas simples o dobles. Los strings multilinea se pueden definir usando tres comillas simples o dobles."
   ],
   "metadata": {
    "collapsed": false
   },
   "id": "9dd277f4dd38c91b"
  },
  {
   "cell_type": "code",
   "outputs": [
    {
     "name": "stdout",
     "output_type": "stream",
     "text": [
      "Hello World\n",
      "<class 'str'> <class 'str'>\n"
     ]
    }
   ],
   "source": [
    "a = \"Hello\"\n",
    "b = 'World'\n",
    "\n",
    "print(a, b)\n",
    "print(type(a), type(b))"
   ],
   "metadata": {
    "collapsed": false,
    "ExecuteTime": {
     "end_time": "2024-01-04T21:07:28.447118Z",
     "start_time": "2024-01-04T21:07:28.444106Z"
    }
   },
   "id": "5a668ea5ec5be42b",
   "execution_count": 6
  },
  {
   "cell_type": "markdown",
   "source": [
    "### Ejemplo de listas\n",
    "Las listas son una colección ordenada y mutable. Permiten duplicados. En Python, las listas se escriben con corchetes."
   ],
   "metadata": {
    "collapsed": false
   },
   "id": "210686046423717b"
  },
  {
   "cell_type": "code",
   "outputs": [
    {
     "name": "stdout",
     "output_type": "stream",
     "text": [
      "['apple', 'banana', 'cherry']\n"
     ]
    }
   ],
   "source": [
    "a = [\"apple\", \"banana\", \"cherry\"]\n",
    "print(a)"
   ],
   "metadata": {
    "collapsed": false,
    "ExecuteTime": {
     "end_time": "2024-01-04T21:08:25.674534Z",
     "start_time": "2024-01-04T21:08:25.668187Z"
    }
   },
   "id": "93b689fa660823e7",
   "execution_count": 7
  },
  {
   "cell_type": "code",
   "outputs": [
    {
     "name": "stdout",
     "output_type": "stream",
     "text": [
      "[1, 2, 3]\n"
     ]
    }
   ],
   "source": [
    "b = [1, 2, 3]\n",
    "print(b)"
   ],
   "metadata": {
    "collapsed": false,
    "ExecuteTime": {
     "end_time": "2024-01-04T21:09:00.729460Z",
     "start_time": "2024-01-04T21:09:00.722840Z"
    }
   },
   "id": "c12824e6ade037f7",
   "execution_count": 8
  },
  {
   "cell_type": "markdown",
   "source": [
    "### Ejemplo de tuplas\n",
    "Las tuplas son inmutables, es decir, no se pueden cambiar, agregar o eliminar elementos después de que se haya creado la tupla. Esto significa que las tuplas pueden ser más rápidas que las listas, pero no se pueden cambiar."
   ],
   "metadata": {
    "collapsed": false
   },
   "id": "b11f5d1e9da5148d"
  },
  {
   "cell_type": "code",
   "outputs": [
    {
     "name": "stdout",
     "output_type": "stream",
     "text": [
      "('apple', 'banana', 'cherry')\n"
     ]
    }
   ],
   "source": [
    "a = (\"apple\", \"banana\", \"cherry\")\n",
    "print(a)"
   ],
   "metadata": {
    "collapsed": false,
    "ExecuteTime": {
     "end_time": "2024-01-04T21:11:31.200482Z",
     "start_time": "2024-01-04T21:11:31.193398Z"
    }
   },
   "id": "a0969e35831ea07b",
   "execution_count": 9
  },
  {
   "cell_type": "markdown",
   "source": [
    "### Ejemplo de sets\n",
    "Los sets son una colección desordenada y no indexada. No permiten duplicados. En Python, los sets se escriben con llaves. Los sets se pueden usar para realizar operaciones de conjuntos matemáticos como unión, intersección, diferencia simétrica, etc."
   ],
   "metadata": {
    "collapsed": false
   },
   "id": "941f29f9175d6305"
  },
  {
   "cell_type": "code",
   "outputs": [
    {
     "name": "stdout",
     "output_type": "stream",
     "text": [
      "{'apple', 'banana', 'cherry'}\n"
     ]
    }
   ],
   "source": [
    "a = {\"apple\", \"banana\", \"banana\", \"cherry\"}\n",
    "print(a)"
   ],
   "metadata": {
    "collapsed": false,
    "ExecuteTime": {
     "end_time": "2024-01-04T21:12:24.898648Z",
     "start_time": "2024-01-04T21:12:24.895155Z"
    }
   },
   "id": "b81652aa2086bcb9",
   "execution_count": 10
  },
  {
   "cell_type": "markdown",
   "source": [
    "### Ejemplo de diccionarios\n",
    "Los diccionarios son una colección desordenada, mutable e indexada. No permiten duplicados. En Python, los diccionarios se escriben con llaves y tienen claves y valores. Los diccionarios son muy útiles para almacenar valores de datos sin procesar en forma de pares clave-valor, como un diccionario de inglés a español."
   ],
   "metadata": {
    "collapsed": false
   },
   "id": "828d41333734984b"
  },
  {
   "cell_type": "code",
   "outputs": [
    {
     "name": "stdout",
     "output_type": "stream",
     "text": [
      "{'brand': 'Ford', 'model': 'Mustang', 'year': 1964}\n"
     ]
    }
   ],
   "source": [
    "a = {\n",
    "  \"brand\": \"Ford\",\n",
    "  \"model\": \"Mustang\",\n",
    "  \"year\": 1964\n",
    "}\n",
    "print(a)"
   ],
   "metadata": {
    "collapsed": false,
    "ExecuteTime": {
     "end_time": "2024-01-04T21:13:51.114625Z",
     "start_time": "2024-01-04T21:13:51.111188Z"
    }
   },
   "id": "bc6de7af127c6c99",
   "execution_count": 11
  },
  {
   "cell_type": "markdown",
   "source": [
    "Podemos combinar diccionarios y listas para crear estructuras de datos más complejas. Por ejemplo, podemos tener una lista de diccionarios, donde cada diccionario representa un usuario con un nombre y una edad."
   ],
   "metadata": {
    "collapsed": false
   },
   "id": "7f7ec79a632b6517"
  },
  {
   "cell_type": "code",
   "outputs": [
    {
     "name": "stdout",
     "output_type": "stream",
     "text": [
      "[{'nombre': 'Juan', 'edad': 22}, {'nombre': 'Ana', 'edad': 21}, {'nombre': 'Pedro', 'edad': 23}]\n"
     ]
    }
   ],
   "source": [
    "usuarios = [\n",
    "    {\n",
    "        \"nombre\": \"Juan\",\n",
    "        \"edad\": 22\n",
    "    },\n",
    "    {\n",
    "        \"nombre\": \"Ana\",\n",
    "        \"edad\": 21\n",
    "    },\n",
    "    {\n",
    "        \"nombre\": \"Pedro\",\n",
    "        \"edad\": 23\n",
    "    }\n",
    "]\n",
    "print(usuarios)"
   ],
   "metadata": {
    "collapsed": false,
    "ExecuteTime": {
     "end_time": "2024-01-04T21:14:59.096700Z",
     "start_time": "2024-01-04T21:14:59.088626Z"
    }
   },
   "id": "67e13bdf935d6148",
   "execution_count": 12
  },
  {
   "cell_type": "markdown",
   "source": [
    "### Ejemplo de booleanos\n",
    "Los booleanos son valores que solo pueden ser verdaderos o falsos. En Python, los booleanos se escriben con la primera letra en mayúscula. Los booleanos se usan a menudo para comparar valores."
   ],
   "metadata": {
    "collapsed": false
   },
   "id": "fd6b2b4ced7ca7dc"
  },
  {
   "cell_type": "code",
   "outputs": [
    {
     "name": "stdout",
     "output_type": "stream",
     "text": [
      "True <class 'bool'>\n",
      "False <class 'bool'>\n"
     ]
    }
   ],
   "source": [
    "a = True\n",
    "b = False\n",
    "print(a, type(a))\n",
    "print(b, type(b))"
   ],
   "metadata": {
    "collapsed": false,
    "ExecuteTime": {
     "end_time": "2024-01-04T21:16:09.531666Z",
     "start_time": "2024-01-04T21:16:09.527247Z"
    }
   },
   "id": "2aeaadbd3b07c6b2",
   "execution_count": 13
  },
  {
   "cell_type": "markdown",
   "source": [
    "### Tipos de datos especiales\n",
    "Existen dos tipos de datos especiales en Python: None y Ellipsis. None es un tipo de dato que representa la ausencia de un valor. Ellipsis es un tipo de dato que representa un valor indefinido."
   ],
   "metadata": {
    "collapsed": false
   },
   "id": "52ef9e72e9e9e929"
  },
  {
   "cell_type": "code",
   "outputs": [
    {
     "name": "stdout",
     "output_type": "stream",
     "text": [
      "None <class 'NoneType'>\n",
      "Ellipsis <class 'ellipsis'>\n"
     ]
    }
   ],
   "source": [
    "a = None\n",
    "b = Ellipsis\n",
    "print(a, type(a))\n",
    "print(b, type(b))"
   ],
   "metadata": {
    "collapsed": false,
    "ExecuteTime": {
     "end_time": "2024-01-04T21:38:39.900185Z",
     "start_time": "2024-01-04T21:38:39.899562Z"
    }
   },
   "id": "befe6c83b4e49ac5",
   "execution_count": 14
  },
  {
   "cell_type": "markdown",
   "source": [
    "## Variables\n",
    "Una variable es un contenedor para almacenar un valor de datos. Las variables se pueden definir usando letras, números y guiones bajos. Las variables no pueden comenzar con un número. Las variables son sensibles a mayúsculas y minúsculas.\n",
    "\n",
    "Estos son algunos ejemplos de variables válidas:\n"
   ],
   "metadata": {
    "collapsed": false
   },
   "id": "617d500f87579329"
  },
  {
   "cell_type": "markdown",
   "source": [
    "### Ejemplo de variables"
   ],
   "metadata": {
    "collapsed": false
   },
   "id": "874915897ba2c1e0"
  },
  {
   "cell_type": "code",
   "outputs": [],
   "source": [
    "nombre = \"Juan\"\n",
    "Edad = 36\n",
    "_color = \"red\"\n",
    "__altura__ = 1.80\n",
    "apellido1 = \"Pérez\"\n",
    "apellido_2 = \"García\""
   ],
   "metadata": {
    "collapsed": false,
    "ExecuteTime": {
     "end_time": "2024-01-04T21:41:28.123604Z",
     "start_time": "2024-01-04T21:41:28.117496Z"
    }
   },
   "id": "6727b719a952c4a8",
   "execution_count": 15
  },
  {
   "cell_type": "code",
   "outputs": [
    {
     "name": "stdout",
     "output_type": "stream",
     "text": [
      "Juan <class 'str'>\n",
      "36 <class 'int'>\n",
      "red <class 'str'>\n",
      "1.8 <class 'float'>\n",
      "Pérez <class 'str'>\n",
      "García <class 'str'>\n"
     ]
    }
   ],
   "source": [
    "print(nombre, type(nombre))\n",
    "print(Edad, type(Edad))\n",
    "print(_color, type(_color))\n",
    "print(__altura__, type(__altura__))\n",
    "print(apellido1, type(apellido1))\n",
    "print(apellido_2, type(apellido_2))"
   ],
   "metadata": {
    "collapsed": false,
    "ExecuteTime": {
     "end_time": "2024-01-04T21:41:46.207866Z",
     "start_time": "2024-01-04T21:41:46.206937Z"
    }
   },
   "id": "bb54d50b57f141cf",
   "execution_count": 16
  },
  {
   "cell_type": "markdown",
   "source": [
    "### Variables reservadas\n",
    "Python tiene una serie de palabras reservadas que no se pueden utilizar como nombres de variables. Estas palabras reservadas son:\n",
    "* and\n",
    "* as\n",
    "* assert\n",
    "* break\n",
    "* class\n",
    "* continue\n",
    "* def\n",
    "* del\n",
    "* elif\n",
    "* else\n",
    "* except\n",
    "* False\n",
    "* finally\n",
    "* for\n",
    "* from\n",
    "* global\n",
    "* if\n",
    "* import\n",
    "* in\n",
    "* is\n",
    "* lambda\n",
    "* None\n",
    "* nonlocal\n",
    "* not\n",
    "* or\n",
    "* pass\n",
    "* raise\n",
    "* return\n",
    "* True\n",
    "* try\n",
    "* while\n",
    "* with\n",
    "* yield\n",
    "* async\n",
    "* await\n",
    "* del\n",
    "* except\n",
    "* raise\n",
    "* try\n",
    "* with\n",
    "* yield"
   ],
   "metadata": {
    "collapsed": false
   },
   "id": "2e11dacd690aa720"
  },
  {
   "cell_type": "markdown",
   "source": [
    "## Operadores\n",
    "Los operadores son símbolos que se utilizan para realizar operaciones en variables y valores. "
   ],
   "metadata": {
    "collapsed": false
   },
   "id": "bd51bd84fab4b107"
  },
  {
   "cell_type": "markdown",
   "source": [
    "### Operadores aritméticos\n",
    "Los operadores aritméticos se utilizan con valores numéricos para realizar operaciones matemáticas comunes. Los operadores aritméticos son:\n",
    "* Suma: +\n",
    "* Resta: -\n",
    "* Multiplicación: *\n",
    "* División: /\n",
    "* Módulo: %\n",
    "* Exponente: **\n",
    "* División entera: //"
   ],
   "metadata": {
    "collapsed": false
   },
   "id": "fc04a36f81e0f78d"
  },
  {
   "cell_type": "code",
   "outputs": [
    {
     "name": "stdout",
     "output_type": "stream",
     "text": [
      "7\n"
     ]
    }
   ],
   "source": [
    "# Suma\n",
    "x = 5 + 2 \n",
    "print(x)"
   ],
   "metadata": {
    "collapsed": false,
    "ExecuteTime": {
     "end_time": "2024-01-04T21:55:01.098450Z",
     "start_time": "2024-01-04T21:55:01.093528Z"
    }
   },
   "id": "52ef39a33edcea14",
   "execution_count": 17
  },
  {
   "cell_type": "code",
   "outputs": [
    {
     "name": "stdout",
     "output_type": "stream",
     "text": [
      "3\n"
     ]
    }
   ],
   "source": [
    "# Resta\n",
    "x = 5 - 2 \n",
    "print(x)"
   ],
   "metadata": {
    "collapsed": false,
    "ExecuteTime": {
     "end_time": "2024-01-04T21:55:09.496579Z",
     "start_time": "2024-01-04T21:55:09.488103Z"
    }
   },
   "id": "7d18ef62ec802df2",
   "execution_count": 18
  },
  {
   "cell_type": "code",
   "outputs": [
    {
     "name": "stdout",
     "output_type": "stream",
     "text": [
      "10\n"
     ]
    }
   ],
   "source": [
    "# Multiplicación\n",
    "x = 5 * 2 \n",
    "print(x)"
   ],
   "metadata": {
    "collapsed": false,
    "ExecuteTime": {
     "end_time": "2024-01-04T21:55:14.620401Z",
     "start_time": "2024-01-04T21:55:14.617051Z"
    }
   },
   "id": "849d0508fa314734",
   "execution_count": 19
  },
  {
   "cell_type": "code",
   "outputs": [
    {
     "name": "stdout",
     "output_type": "stream",
     "text": [
      "2.5\n"
     ]
    }
   ],
   "source": [
    "# División\n",
    "x = 5 / 2 \n",
    "print(x)"
   ],
   "metadata": {
    "collapsed": false,
    "ExecuteTime": {
     "end_time": "2024-01-04T21:55:20.928132Z",
     "start_time": "2024-01-04T21:55:20.922221Z"
    }
   },
   "id": "4e6a93080aacacaf",
   "execution_count": 20
  },
  {
   "cell_type": "code",
   "outputs": [
    {
     "name": "stdout",
     "output_type": "stream",
     "text": [
      "1\n"
     ]
    }
   ],
   "source": [
    "# Módulo\n",
    "x = 5 % 2 \n",
    "print(x)"
   ],
   "metadata": {
    "collapsed": false,
    "ExecuteTime": {
     "end_time": "2024-01-04T21:55:26.345207Z",
     "start_time": "2024-01-04T21:55:26.338495Z"
    }
   },
   "id": "9f68ad09e52baf69",
   "execution_count": 21
  },
  {
   "cell_type": "code",
   "outputs": [
    {
     "name": "stdout",
     "output_type": "stream",
     "text": [
      "25\n"
     ]
    }
   ],
   "source": [
    "# Exponente\n",
    "x = 5 ** 2 \n",
    "print(x)"
   ],
   "metadata": {
    "collapsed": false,
    "ExecuteTime": {
     "end_time": "2024-01-04T21:55:32.288607Z",
     "start_time": "2024-01-04T21:55:32.280303Z"
    }
   },
   "id": "3760fb1b82eeb729",
   "execution_count": 22
  },
  {
   "cell_type": "code",
   "outputs": [
    {
     "name": "stdout",
     "output_type": "stream",
     "text": [
      "2\n"
     ]
    }
   ],
   "source": [
    "# División entera\n",
    "x = 5 // 2 \n",
    "print(x)"
   ],
   "metadata": {
    "collapsed": false,
    "ExecuteTime": {
     "end_time": "2024-01-04T21:55:39.764080Z",
     "start_time": "2024-01-04T21:55:39.752641Z"
    }
   },
   "id": "fdf8a05a3470ce97",
   "execution_count": 23
  },
  {
   "cell_type": "markdown",
   "source": [
    "### Operadores de asignación\n",
    "Los operadores de asignación se utilizan para asignar valores a las variables. Los operadores de asignación son:\n",
    "* Asignación: =\n",
    "* Asignación de suma: +=\n",
    "* Asignación de resta: -=\n",
    "* Asignación de multiplicación: *=\n",
    "* Asignación de división: /=\n",
    "* Asignación de módulo: %=\n",
    "* Asignación de exponente: **=\n",
    "* Asignación de división entera: //="
   ],
   "metadata": {
    "collapsed": false
   },
   "id": "37a70889156a4264"
  },
  {
   "cell_type": "code",
   "outputs": [
    {
     "name": "stdout",
     "output_type": "stream",
     "text": [
      "5\n"
     ]
    }
   ],
   "source": [
    "# Asignación\n",
    "x = 5\n",
    "print(x)"
   ],
   "metadata": {
    "collapsed": false,
    "ExecuteTime": {
     "end_time": "2024-01-04T21:56:45.540325Z",
     "start_time": "2024-01-04T21:56:45.537318Z"
    }
   },
   "id": "d2a18a17fe383715",
   "execution_count": 24
  },
  {
   "cell_type": "code",
   "outputs": [
    {
     "name": "stdout",
     "output_type": "stream",
     "text": [
      "7\n"
     ]
    }
   ],
   "source": [
    "# Asignación de suma\n",
    "x = 5\n",
    "x += 2\n",
    "print(x)"
   ],
   "metadata": {
    "collapsed": false,
    "ExecuteTime": {
     "end_time": "2024-01-04T21:56:56.420603Z",
     "start_time": "2024-01-04T21:56:56.415655Z"
    }
   },
   "id": "364bcfc98a11ddcd",
   "execution_count": 25
  },
  {
   "cell_type": "code",
   "outputs": [
    {
     "name": "stdout",
     "output_type": "stream",
     "text": [
      "3\n"
     ]
    }
   ],
   "source": [
    "# Asignación de resta\n",
    "x = 5\n",
    "x -= 2\n",
    "print(x)"
   ],
   "metadata": {
    "collapsed": false,
    "ExecuteTime": {
     "end_time": "2024-01-04T21:57:06.750562Z",
     "start_time": "2024-01-04T21:57:06.742773Z"
    }
   },
   "id": "b60634db78fefbdc",
   "execution_count": 26
  },
  {
   "cell_type": "code",
   "outputs": [
    {
     "name": "stdout",
     "output_type": "stream",
     "text": [
      "10\n"
     ]
    }
   ],
   "source": [
    "# Asignación de multiplicación\n",
    "x = 5\n",
    "x *= 2\n",
    "print(x)"
   ],
   "metadata": {
    "collapsed": false,
    "ExecuteTime": {
     "end_time": "2024-01-04T21:57:13.979839Z",
     "start_time": "2024-01-04T21:57:13.978959Z"
    }
   },
   "id": "f2947de5ff8282b2",
   "execution_count": 27
  },
  {
   "cell_type": "code",
   "outputs": [
    {
     "name": "stdout",
     "output_type": "stream",
     "text": [
      "2.5\n"
     ]
    }
   ],
   "source": [
    "# Asignación de división\n",
    "x = 5\n",
    "x /= 2\n",
    "print(x)"
   ],
   "metadata": {
    "collapsed": false,
    "ExecuteTime": {
     "end_time": "2024-01-04T21:57:30.439830Z",
     "start_time": "2024-01-04T21:57:30.433217Z"
    }
   },
   "id": "959ead2578cbbcf5",
   "execution_count": 28
  },
  {
   "cell_type": "code",
   "outputs": [
    {
     "name": "stdout",
     "output_type": "stream",
     "text": [
      "1\n"
     ]
    }
   ],
   "source": [
    "# Asignación de módulo\n",
    "x = 5\n",
    "x %= 2\n",
    "print(x)"
   ],
   "metadata": {
    "collapsed": false,
    "ExecuteTime": {
     "end_time": "2024-01-04T21:57:37.486046Z",
     "start_time": "2024-01-04T21:57:37.484684Z"
    }
   },
   "id": "45a4145304a76e6e",
   "execution_count": 29
  },
  {
   "cell_type": "code",
   "outputs": [
    {
     "name": "stdout",
     "output_type": "stream",
     "text": [
      "25\n"
     ]
    }
   ],
   "source": [
    "# Asignación de exponente\n",
    "x = 5\n",
    "x **= 2\n",
    "print(x)"
   ],
   "metadata": {
    "collapsed": false,
    "ExecuteTime": {
     "end_time": "2024-01-04T21:57:44.890033Z",
     "start_time": "2024-01-04T21:57:44.883530Z"
    }
   },
   "id": "2188bb2211d763ea",
   "execution_count": 30
  },
  {
   "cell_type": "code",
   "outputs": [
    {
     "name": "stdout",
     "output_type": "stream",
     "text": [
      "2\n"
     ]
    }
   ],
   "source": [
    "# Asignación de división entera\n",
    "x = 5\n",
    "x //= 2\n",
    "print(x)"
   ],
   "metadata": {
    "collapsed": false,
    "ExecuteTime": {
     "end_time": "2024-01-04T21:57:52.249314Z",
     "start_time": "2024-01-04T21:57:52.245205Z"
    }
   },
   "id": "c33bb6e328dbf2fa",
   "execution_count": 31
  },
  {
   "cell_type": "markdown",
   "source": [
    "### Operadores de comparación\n",
    "Los operadores de comparación se utilizan para comparar dos valores. Los operadores de comparación son:\n",
    "* Igual: ==\n",
    "* No igual: !=\n",
    "* Mayor que: >\n",
    "* Mayor o igual que: >=\n",
    "* Menor que: <\n",
    "* Menor o igual que: <=\n",
    "* Identidad: is\n",
    "* No identidad: is not\n",
    "* Pertenencia: in\n",
    "* No pertenencia: not in"
   ],
   "metadata": {
    "collapsed": false
   },
   "id": "2ed9cd9693767d87"
  },
  {
   "cell_type": "code",
   "outputs": [
    {
     "name": "stdout",
     "output_type": "stream",
     "text": [
      "False\n"
     ]
    }
   ],
   "source": [
    "# Igual\n",
    "x = 5\n",
    "y = 3\n",
    "print(x == y)"
   ],
   "metadata": {
    "collapsed": false,
    "ExecuteTime": {
     "end_time": "2024-01-04T22:02:54.922187Z",
     "start_time": "2024-01-04T22:02:54.913743Z"
    }
   },
   "id": "3041993d8000fe16",
   "execution_count": 32
  },
  {
   "cell_type": "code",
   "outputs": [
    {
     "name": "stdout",
     "output_type": "stream",
     "text": [
      "True\n"
     ]
    }
   ],
   "source": [
    "# No igual\n",
    "x = 5\n",
    "y = 3\n",
    "print(x != y)"
   ],
   "metadata": {
    "collapsed": false,
    "ExecuteTime": {
     "end_time": "2024-01-04T22:03:03.160019Z",
     "start_time": "2024-01-04T22:03:03.155979Z"
    }
   },
   "id": "423e0ccae75fbdac",
   "execution_count": 33
  },
  {
   "cell_type": "code",
   "outputs": [
    {
     "name": "stdout",
     "output_type": "stream",
     "text": [
      "True\n"
     ]
    }
   ],
   "source": [
    "# Mayor que\n",
    "x = 5\n",
    "y = 3\n",
    "print(x > y)"
   ],
   "metadata": {
    "collapsed": false,
    "ExecuteTime": {
     "end_time": "2024-01-04T22:03:11.494766Z",
     "start_time": "2024-01-04T22:03:11.475205Z"
    }
   },
   "id": "a744bd77605a610d",
   "execution_count": 34
  },
  {
   "cell_type": "code",
   "outputs": [
    {
     "name": "stdout",
     "output_type": "stream",
     "text": [
      "True\n"
     ]
    }
   ],
   "source": [
    "# Mayor o igual que\n",
    "x = 5\n",
    "y = 3\n",
    "print(x >= y)"
   ],
   "metadata": {
    "collapsed": false,
    "ExecuteTime": {
     "end_time": "2024-01-04T22:03:22.630845Z",
     "start_time": "2024-01-04T22:03:22.627259Z"
    }
   },
   "id": "770248175ec1394",
   "execution_count": 35
  },
  {
   "cell_type": "code",
   "outputs": [
    {
     "name": "stdout",
     "output_type": "stream",
     "text": [
      "False\n"
     ]
    }
   ],
   "source": [
    "# Menor que\n",
    "x = 5\n",
    "y = 3\n",
    "print(x < y)"
   ],
   "metadata": {
    "collapsed": false,
    "ExecuteTime": {
     "end_time": "2024-01-04T22:03:37.879666Z",
     "start_time": "2024-01-04T22:03:37.873904Z"
    }
   },
   "id": "dfa9490443187f",
   "execution_count": 36
  },
  {
   "cell_type": "code",
   "outputs": [
    {
     "name": "stdout",
     "output_type": "stream",
     "text": [
      "False\n"
     ]
    }
   ],
   "source": [
    "# Menor o igual que\n",
    "x = 5\n",
    "y = 3\n",
    "print(x <= y)"
   ],
   "metadata": {
    "collapsed": false,
    "ExecuteTime": {
     "end_time": "2024-01-04T22:03:45.272229Z",
     "start_time": "2024-01-04T22:03:45.265075Z"
    }
   },
   "id": "2a7034f192330539",
   "execution_count": 37
  },
  {
   "cell_type": "code",
   "outputs": [
    {
     "name": "stdout",
     "output_type": "stream",
     "text": [
      "False\n"
     ]
    }
   ],
   "source": [
    "# Identidad\n",
    "x = 5\n",
    "y = 3\n",
    "print(x is y)"
   ],
   "metadata": {
    "collapsed": false,
    "ExecuteTime": {
     "end_time": "2024-01-04T22:03:54.313345Z",
     "start_time": "2024-01-04T22:03:54.308218Z"
    }
   },
   "id": "30364a67e8f3a68f",
   "execution_count": 38
  },
  {
   "cell_type": "code",
   "outputs": [
    {
     "name": "stdout",
     "output_type": "stream",
     "text": [
      "True\n"
     ]
    }
   ],
   "source": [
    "# No identidad\n",
    "x = 5\n",
    "y = 3\n",
    "print(x is not y)"
   ],
   "metadata": {
    "collapsed": false,
    "ExecuteTime": {
     "end_time": "2024-01-04T22:04:03.108020Z",
     "start_time": "2024-01-04T22:04:03.105984Z"
    }
   },
   "id": "2067949876056578",
   "execution_count": 39
  },
  {
   "cell_type": "code",
   "outputs": [
    {
     "name": "stdout",
     "output_type": "stream",
     "text": [
      "True\n"
     ]
    }
   ],
   "source": [
    "# Pertenencia\n",
    "x = 5\n",
    "y = [1, 2, 3, 4, 5]\n",
    "print(x in y)"
   ],
   "metadata": {
    "collapsed": false,
    "ExecuteTime": {
     "end_time": "2024-01-04T22:04:16.424163Z",
     "start_time": "2024-01-04T22:04:16.411176Z"
    }
   },
   "id": "be8c0a30fdc9fff4",
   "execution_count": 40
  },
  {
   "cell_type": "code",
   "outputs": [
    {
     "name": "stdout",
     "output_type": "stream",
     "text": [
      "False\n"
     ]
    }
   ],
   "source": [
    "# No pertenencia\n",
    "x = 5\n",
    "y = [1, 2, 3, 4, 5]\n",
    "print(x not in y)"
   ],
   "metadata": {
    "collapsed": false,
    "ExecuteTime": {
     "end_time": "2024-01-04T22:04:28.374899Z",
     "start_time": "2024-01-04T22:04:28.363146Z"
    }
   },
   "id": "8b267273bb986f03",
   "execution_count": 41
  },
  {
   "cell_type": "markdown",
   "source": [
    "### Operadores lógicos\n",
    "Los operadores lógicos se utilizan para combinar declaraciones condicionales. Los operadores lógicos son:\n",
    "* and\n",
    "* or\n",
    "* not\n",
    "* all\n",
    "* any\n",
    "* xor\n",
    "* nand\n",
    "* nor\n",
    "* xnor"
   ],
   "metadata": {
    "collapsed": false
   },
   "id": "76153b52d964c891"
  },
  {
   "cell_type": "code",
   "outputs": [
    {
     "name": "stdout",
     "output_type": "stream",
     "text": [
      "True\n"
     ]
    }
   ],
   "source": [
    "# and\n",
    "x = 5\n",
    "print(x > 3 and x < 10)"
   ],
   "metadata": {
    "collapsed": false,
    "ExecuteTime": {
     "end_time": "2024-01-04T22:05:33.455273Z",
     "start_time": "2024-01-04T22:05:33.447847Z"
    }
   },
   "id": "e67d3a88795cb2cb",
   "execution_count": 42
  },
  {
   "cell_type": "code",
   "outputs": [
    {
     "name": "stdout",
     "output_type": "stream",
     "text": [
      "True\n"
     ]
    }
   ],
   "source": [
    "# or\n",
    "x = 5\n",
    "print(x > 3 or x < 4)"
   ],
   "metadata": {
    "collapsed": false,
    "ExecuteTime": {
     "end_time": "2024-01-04T22:05:41.591687Z",
     "start_time": "2024-01-04T22:05:41.579091Z"
    }
   },
   "id": "a25c07bc5cb38a79",
   "execution_count": 44
  },
  {
   "cell_type": "code",
   "outputs": [
    {
     "name": "stdout",
     "output_type": "stream",
     "text": [
      "False\n"
     ]
    }
   ],
   "source": [
    "# not\n",
    "x = 5\n",
    "print(not(x > 3 and x < 10))"
   ],
   "metadata": {
    "collapsed": false,
    "ExecuteTime": {
     "end_time": "2024-01-04T22:05:50.405412Z",
     "start_time": "2024-01-04T22:05:50.395936Z"
    }
   },
   "id": "adecdea0c6621121",
   "execution_count": 45
  },
  {
   "cell_type": "code",
   "outputs": [
    {
     "name": "stdout",
     "output_type": "stream",
     "text": [
      "True\n"
     ]
    }
   ],
   "source": [
    "# all\n",
    "x = [1, 2, 3, 4, 5]\n",
    "print(all(x))"
   ],
   "metadata": {
    "collapsed": false,
    "ExecuteTime": {
     "end_time": "2024-01-04T22:05:58.603953Z",
     "start_time": "2024-01-04T22:05:58.599422Z"
    }
   },
   "id": "afe7dbd36ab452fe",
   "execution_count": 46
  },
  {
   "cell_type": "code",
   "outputs": [
    {
     "name": "stdout",
     "output_type": "stream",
     "text": [
      "True\n"
     ]
    }
   ],
   "source": [
    "# any\n",
    "x = [1, 2, 3, 4, 5]\n",
    "print(any(x))"
   ],
   "metadata": {
    "collapsed": false,
    "ExecuteTime": {
     "end_time": "2024-01-04T22:06:06.026968Z",
     "start_time": "2024-01-04T22:06:06.016765Z"
    }
   },
   "id": "7db8a4eeeead6284",
   "execution_count": 47
  },
  {
   "cell_type": "code",
   "outputs": [
    {
     "name": "stdout",
     "output_type": "stream",
     "text": [
      "False\n"
     ]
    }
   ],
   "source": [
    "# xor\n",
    "x = 5\n",
    "print(x > 3 ^ x < 10)"
   ],
   "metadata": {
    "collapsed": false,
    "ExecuteTime": {
     "end_time": "2024-01-04T22:06:24.699497Z",
     "start_time": "2024-01-04T22:06:24.688710Z"
    }
   },
   "id": "48c6af2d7e9292d7",
   "execution_count": 48
  },
  {
   "cell_type": "code",
   "outputs": [
    {
     "name": "stdout",
     "output_type": "stream",
     "text": [
      "False\n"
     ]
    }
   ],
   "source": [
    "# nand\n",
    "x = 5\n",
    "print(not(x > 3 and x < 10))"
   ],
   "metadata": {
    "collapsed": false,
    "ExecuteTime": {
     "end_time": "2024-01-04T22:06:33.408481Z",
     "start_time": "2024-01-04T22:06:33.390218Z"
    }
   },
   "id": "11b55b657dc5b747",
   "execution_count": 49
  },
  {
   "cell_type": "code",
   "outputs": [
    {
     "name": "stdout",
     "output_type": "stream",
     "text": [
      "False\n"
     ]
    }
   ],
   "source": [
    "# nor\n",
    "x = 5\n",
    "print(not(x > 3 or x < 4))"
   ],
   "metadata": {
    "collapsed": false,
    "ExecuteTime": {
     "end_time": "2024-01-04T22:06:54.005679Z",
     "start_time": "2024-01-04T22:06:53.984667Z"
    }
   },
   "id": "fdca39fc4724320c",
   "execution_count": 50
  },
  {
   "cell_type": "code",
   "outputs": [
    {
     "name": "stdout",
     "output_type": "stream",
     "text": [
      "True\n"
     ]
    }
   ],
   "source": [
    "# xnor\n",
    "x = 5\n",
    "print(not(x > 3 ^ x < 10))"
   ],
   "metadata": {
    "collapsed": false,
    "ExecuteTime": {
     "end_time": "2024-01-04T22:07:01.010317Z",
     "start_time": "2024-01-04T22:07:00.989171Z"
    }
   },
   "id": "7591bff709955a1d",
   "execution_count": 51
  },
  {
   "cell_type": "markdown",
   "source": [
    "### Slicing de listas y strings\n",
    "El slicing es una forma de acceder a una parte de una lista o un string. El slicing se realiza especificando el índice inicial y el índice final, separados por dos puntos. El índice inicial es el primer elemento que se incluye en el slicing. El índice final es el primer elemento que no se incluye en el slicing. Si no se especifica el índice inicial, se asume que es 0. Si no se especifica el índice final, se asume que es el último elemento de la lista o el string."
   ],
   "metadata": {
    "collapsed": false
   },
   "id": "34cfb6e285be5ee7"
  },
  {
   "cell_type": "code",
   "outputs": [
    {
     "name": "stdout",
     "output_type": "stream",
     "text": [
      "['cherry', 'orange', 'kiwi']\n"
     ]
    }
   ],
   "source": [
    "# Slicing de listas\n",
    "a = [\"apple\", \"banana\", \"cherry\", \"orange\", \"kiwi\", \"melon\", \"mango\"]\n",
    "print(a[2:5])"
   ],
   "metadata": {
    "collapsed": false,
    "ExecuteTime": {
     "end_time": "2024-01-04T22:09:48.682820Z",
     "start_time": "2024-01-04T22:09:48.676657Z"
    }
   },
   "id": "97df47e11cdd22bf",
   "execution_count": 54
  },
  {
   "cell_type": "code",
   "outputs": [
    {
     "name": "stdout",
     "output_type": "stream",
     "text": [
      "llo\n"
     ]
    }
   ],
   "source": [
    "# Slicing de strings\n",
    "a = \"Hello, World!\"\n",
    "print(a[2:5])"
   ],
   "metadata": {
    "collapsed": false,
    "ExecuteTime": {
     "end_time": "2024-01-04T22:09:58.098557Z",
     "start_time": "2024-01-04T22:09:58.091347Z"
    }
   },
   "id": "ae939d8aca4ef67b",
   "execution_count": 55
  },
  {
   "cell_type": "code",
   "outputs": [
    {
     "name": "stdout",
     "output_type": "stream",
     "text": [
      "['apple', 'banana', 'cherry', 'orange']\n"
     ]
    }
   ],
   "source": [
    "# Slicing de listas sin índice inicial\n",
    "a = [\"apple\", \"banana\", \"cherry\", \"orange\", \"kiwi\", \"melon\", \"mango\"]\n",
    "print(a[:4])"
   ],
   "metadata": {
    "collapsed": false,
    "ExecuteTime": {
     "end_time": "2024-01-04T22:10:10.823214Z",
     "start_time": "2024-01-04T22:10:10.800675Z"
    }
   },
   "id": "8f5065d4013f7d3b",
   "execution_count": 56
  },
  {
   "cell_type": "code",
   "outputs": [
    {
     "name": "stdout",
     "output_type": "stream",
     "text": [
      "llo, World!\n"
     ]
    }
   ],
   "source": [
    "# Slicing de strings sin índice final\n",
    "a = \"Hello, World!\"\n",
    "print(a[2:])"
   ],
   "metadata": {
    "collapsed": false,
    "ExecuteTime": {
     "end_time": "2024-01-04T22:10:34.955811Z",
     "start_time": "2024-01-04T22:10:34.945482Z"
    }
   },
   "id": "2a564812d69e0764",
   "execution_count": 57
  },
  {
   "cell_type": "code",
   "outputs": [
    {
     "name": "stdout",
     "output_type": "stream",
     "text": [
      "['orange', 'kiwi', 'melon']\n"
     ]
    }
   ],
   "source": [
    "# Slicing de listas con índices negativos\n",
    "a = [\"apple\", \"banana\", \"cherry\", \"orange\", \"kiwi\", \"melon\", \"mango\"]\n",
    "print(a[-4:-1])"
   ],
   "metadata": {
    "collapsed": false,
    "ExecuteTime": {
     "end_time": "2024-01-04T22:10:48.643344Z",
     "start_time": "2024-01-04T22:10:48.626871Z"
    }
   },
   "id": "5c04a2749a4d541b",
   "execution_count": 58
  },
  {
   "cell_type": "code",
   "outputs": [
    {
     "name": "stdout",
     "output_type": "stream",
     "text": [
      "['banana', 'orange', 'melon']\n"
     ]
    }
   ],
   "source": [
    "# Slicing con saltos\n",
    "a = [\"apple\", \"banana\", \"cherry\", \"orange\", \"kiwi\", \"melon\", \"mango\"]\n",
    "print(a[1::2])"
   ],
   "metadata": {
    "collapsed": false,
    "ExecuteTime": {
     "end_time": "2024-01-04T22:12:23.495360Z",
     "start_time": "2024-01-04T22:12:23.463459Z"
    }
   },
   "id": "ce2af7cc9ec94502",
   "execution_count": 60
  },
  {
   "cell_type": "markdown",
   "source": [
    "### Operadores con strings\n",
    "Los strings se pueden concatenar usando el operador +. Los strings se pueden multiplicar usando el operador *. Los strings se pueden formatear usando el método format."
   ],
   "metadata": {
    "collapsed": false
   },
   "id": "d74744d47b2e9cc4"
  },
  {
   "cell_type": "code",
   "outputs": [
    {
     "name": "stdout",
     "output_type": "stream",
     "text": [
      "HelloWorld\n"
     ]
    }
   ],
   "source": [
    "# Concatenación de strings\n",
    "a = \"Hello\"\n",
    "b = \"World\"\n",
    "c = a + b\n",
    "print(c)"
   ],
   "metadata": {
    "collapsed": false,
    "ExecuteTime": {
     "end_time": "2024-01-04T22:14:11.010978Z",
     "start_time": "2024-01-04T22:14:10.996458Z"
    }
   },
   "id": "d572d2e9f3974e4a",
   "execution_count": 62
  },
  {
   "cell_type": "code",
   "outputs": [
    {
     "name": "stdout",
     "output_type": "stream",
     "text": [
      "HelloHelloHello\n"
     ]
    }
   ],
   "source": [
    "# Multiplicación de strings\n",
    "a = \"Hello\"\n",
    "b = 3\n",
    "c = a * b\n",
    "print(c)"
   ],
   "metadata": {
    "collapsed": false,
    "ExecuteTime": {
     "end_time": "2024-01-04T22:14:28.746788Z",
     "start_time": "2024-01-04T22:14:28.733399Z"
    }
   },
   "id": "9b7912b8dc05af12",
   "execution_count": 64
  },
  {
   "cell_type": "code",
   "outputs": [
    {
     "name": "stdout",
     "output_type": "stream",
     "text": [
      "Hello World\n"
     ]
    }
   ],
   "source": [
    "# Formateo de strings\n",
    "a = \"Hello\"\n",
    "b = \"World\"\n",
    "c = \"{} {}\".format(a, b)\n",
    "print(c)"
   ],
   "metadata": {
    "collapsed": false,
    "ExecuteTime": {
     "end_time": "2024-01-04T22:14:41.693823Z",
     "start_time": "2024-01-04T22:14:41.661044Z"
    }
   },
   "id": "bb8e99cd6491b46a",
   "execution_count": 65
  },
  {
   "cell_type": "code",
   "outputs": [
    {
     "name": "stdout",
     "output_type": "stream",
     "text": [
      "World Hello\n"
     ]
    }
   ],
   "source": [
    "# Formateo de strings con índices\n",
    "a = \"Hello\"\n",
    "b = \"World\"\n",
    "c = \"{1} {0}\".format(a, b)\n",
    "print(c)"
   ],
   "metadata": {
    "collapsed": false,
    "ExecuteTime": {
     "end_time": "2024-01-04T22:14:54.251899Z",
     "start_time": "2024-01-04T22:14:54.247521Z"
    }
   },
   "id": "179f7f7cba5c4b76",
   "execution_count": 66
  },
  {
   "cell_type": "code",
   "outputs": [
    {
     "name": "stdout",
     "output_type": "stream",
     "text": [
      "Hello World\n"
     ]
    }
   ],
   "source": [
    "# Formateo de strings con nombres\n",
    "a = \"Hello\"\n",
    "b = \"World\"\n",
    "c = \"{a} {b}\".format(a=a, b=b)\n",
    "print(c)"
   ],
   "metadata": {
    "collapsed": false,
    "ExecuteTime": {
     "end_time": "2024-01-04T22:15:18.267377Z",
     "start_time": "2024-01-04T22:15:18.261463Z"
    }
   },
   "id": "391741381bb9fdbe",
   "execution_count": 68
  },
  {
   "cell_type": "code",
   "outputs": [
    {
     "name": "stdout",
     "output_type": "stream",
     "text": [
      "3.14 2.72\n"
     ]
    }
   ],
   "source": [
    "# Formateo de strings con números\n",
    "a = 3.1415926\n",
    "b = 2.7182818\n",
    "c = \"{:.2f} {:.2f}\".format(a, b)\n",
    "print(c)"
   ],
   "metadata": {
    "collapsed": false,
    "ExecuteTime": {
     "end_time": "2024-01-04T22:15:35.626376Z",
     "start_time": "2024-01-04T22:15:35.615330Z"
    }
   },
   "id": "b95b8ed86e7f1465",
   "execution_count": 70
  },
  {
   "cell_type": "markdown",
   "source": [
    "### Operadores con listas\n",
    "Las listas se pueden concatenar usando el operador +. Las listas se pueden multiplicar usando el operador *. Las listas se pueden formatear usando el método format."
   ],
   "metadata": {
    "collapsed": false
   },
   "id": "693283969fab0607"
  },
  {
   "cell_type": "code",
   "outputs": [
    {
     "name": "stdout",
     "output_type": "stream",
     "text": [
      "['apple', 'banana', 'cherry', 1, 2, 3]\n"
     ]
    }
   ],
   "source": [
    "# Concatenación de listas\n",
    "a = [\"apple\", \"banana\", \"cherry\"]\n",
    "b = [1, 2, 3]\n",
    "c = a + b\n",
    "print(c)"
   ],
   "metadata": {
    "collapsed": false,
    "ExecuteTime": {
     "end_time": "2024-01-04T22:16:23.967660Z",
     "start_time": "2024-01-04T22:16:23.959154Z"
    }
   },
   "id": "30d688c4055d4978",
   "execution_count": 71
  },
  {
   "cell_type": "code",
   "outputs": [
    {
     "name": "stdout",
     "output_type": "stream",
     "text": [
      "['apple', 'banana', 'cherry', 'apple', 'banana', 'cherry', 'apple', 'banana', 'cherry']\n"
     ]
    }
   ],
   "source": [
    "# Multiplicación de listas\n",
    "a = [\"apple\", \"banana\", \"cherry\"]\n",
    "b = 3\n",
    "c = a * b\n",
    "print(c)"
   ],
   "metadata": {
    "collapsed": false,
    "ExecuteTime": {
     "end_time": "2024-01-04T22:16:35.599090Z",
     "start_time": "2024-01-04T22:16:35.581046Z"
    }
   },
   "id": "6c8e2c59f4bd7ce6",
   "execution_count": 72
  },
  {
   "cell_type": "markdown",
   "source": [
    "## Funciones\n",
    "Una función es un bloque de código que solo se ejecuta cuando se llama. Las funciones se pueden definir usando la palabra clave def. Las funciones se pueden llamar usando el nombre de la función seguido de paréntesis."
   ],
   "metadata": {
    "collapsed": false
   },
   "id": "b6aa1354af0d48b1"
  },
  {
   "cell_type": "markdown",
   "source": [
    "### Ejemplo de funciones"
   ],
   "metadata": {
    "collapsed": false
   },
   "id": "e043292658a64e5e"
  },
  {
   "cell_type": "code",
   "outputs": [
    {
     "name": "stdout",
     "output_type": "stream",
     "text": [
      "Hello from a function\n"
     ]
    }
   ],
   "source": [
    "# Definición de una función\n",
    "def my_function():\n",
    "    print(\"Hello from a function\")\n",
    "\n",
    "# Llamada a una función\n",
    "my_function()"
   ],
   "metadata": {
    "collapsed": false,
    "ExecuteTime": {
     "end_time": "2024-01-04T22:19:57.021105Z",
     "start_time": "2024-01-04T22:19:57.001860Z"
    }
   },
   "id": "e23a5f6da95d02de",
   "execution_count": 75
  },
  {
   "cell_type": "code",
   "outputs": [
    {
     "name": "stdout",
     "output_type": "stream",
     "text": [
      "Hello Juan!\n",
      "Hello Ana!\n"
     ]
    }
   ],
   "source": [
    "# Definición de una función con parámetros\n",
    "def my_function(nombre):\n",
    "    print(\"Hello \" + nombre + \"!\")\n",
    "\n",
    "# Llamada a una función con parámetros\n",
    "my_function(\"Juan\")\n",
    "my_function(\"Ana\")"
   ],
   "metadata": {
    "collapsed": false,
    "ExecuteTime": {
     "end_time": "2024-01-04T22:20:19.327149Z",
     "start_time": "2024-01-04T22:20:19.294677Z"
    }
   },
   "id": "f53c56e5e3462e7b",
   "execution_count": 77
  },
  {
   "cell_type": "code",
   "outputs": [
    {
     "name": "stdout",
     "output_type": "stream",
     "text": [
      "Hello Ana!\n",
      "Hello Juan!\n"
     ]
    }
   ],
   "source": [
    "# Definición de una función con parámetros por defecto\n",
    "def my_function(nombre=\"Juan\"):\n",
    "    print(\"Hello \" + nombre + \"!\")\n",
    "    \n",
    "# Llamada a una función con parámetros por defecto\n",
    "my_function(\"Ana\")\n",
    "my_function()"
   ],
   "metadata": {
    "collapsed": false,
    "ExecuteTime": {
     "end_time": "2024-01-04T22:20:34.807884Z",
     "start_time": "2024-01-04T22:20:34.800940Z"
    }
   },
   "id": "12278013d4b2ba8c",
   "execution_count": 78
  },
  {
   "cell_type": "code",
   "outputs": [
    {
     "name": "stdout",
     "output_type": "stream",
     "text": [
      "Hello Ana!\n"
     ]
    }
   ],
   "source": [
    "# Definición de una función con parámetros arbitrarios\n",
    "def my_function(*nombres):\n",
    "    print(\"Hello \" + nombres[1] + \"!\")\n",
    "\n",
    "# Llamada a una función con parámetros arbitrarios\n",
    "my_function(\"Juan\", \"Ana\", \"Pedro\")"
   ],
   "metadata": {
    "collapsed": false,
    "ExecuteTime": {
     "end_time": "2024-01-04T22:20:52.418858Z",
     "start_time": "2024-01-04T22:20:52.388286Z"
    }
   },
   "id": "bbc34dd8417c6a96",
   "execution_count": 79
  },
  {
   "cell_type": "code",
   "outputs": [
    {
     "name": "stdout",
     "output_type": "stream",
     "text": [
      "Hello Juan!\n"
     ]
    }
   ],
   "source": [
    "# Definición de una función con parámetros arbitrarios con nombre\n",
    "def my_function(**personas):\n",
    "    print(\"Hello \" + personas[\"nombre\"] + \"!\")\n",
    "    \n",
    "# Llamada a una función con parámetros arbitrarios con nombre\n",
    "my_function(nombre=\"Juan\", edad=22)"
   ],
   "metadata": {
    "collapsed": false,
    "ExecuteTime": {
     "end_time": "2024-01-04T22:21:56.748902Z",
     "start_time": "2024-01-04T22:21:56.732586Z"
    }
   },
   "id": "216604d95a3ede3f",
   "execution_count": 81
  },
  {
   "cell_type": "markdown",
   "source": [
    "### Funciones lambda\n",
    "Las funciones lambda son funciones pequeñas y anónimas. Una función lambda puede tomar cualquier número de argumentos, pero solo puede tener una expresión."
   ],
   "metadata": {
    "collapsed": false
   },
   "id": "9617ff52c3b9ddb3"
  },
  {
   "cell_type": "code",
   "outputs": [
    {
     "name": "stdout",
     "output_type": "stream",
     "text": [
      "15\n"
     ]
    }
   ],
   "source": [
    "# Definición de una función lambda\n",
    "x = lambda a : a + 10\n",
    "print(x(5))"
   ],
   "metadata": {
    "collapsed": false,
    "ExecuteTime": {
     "end_time": "2024-01-04T22:23:11.597920Z",
     "start_time": "2024-01-04T22:23:11.571363Z"
    }
   },
   "id": "d225abb0be85d140",
   "execution_count": 82
  },
  {
   "cell_type": "code",
   "outputs": [
    {
     "name": "stdout",
     "output_type": "stream",
     "text": [
      "30\n"
     ]
    }
   ],
   "source": [
    "# Definición de una función lambda con múltiples argumentos\n",
    "x = lambda a, b : a * b\n",
    "print(x(5, 6))"
   ],
   "metadata": {
    "collapsed": false,
    "ExecuteTime": {
     "end_time": "2024-01-04T22:23:35.828128Z",
     "start_time": "2024-01-04T22:23:35.819094Z"
    }
   },
   "id": "b27e4925b8b0f2d9",
   "execution_count": 83
  },
  {
   "cell_type": "markdown",
   "source": [
    "### Funciones predefinidas\n",
    "Python tiene una serie de funciones predefinidas que se pueden utilizar sin necesidad de importar ningún módulo. Estas funciones predefinidas son:\n",
    "* abs(): Devuelve el valor absoluto de un número.\n",
    "* all(): Devuelve True si todos los elementos de un iterable son verdaderos.\n",
    "* any(): Devuelve True si alguno de los elementos de un iterable es verdadero.\n",
    "* ascii(): Devuelve una cadena que contiene una representación imprimible del objeto.\n",
    "* bin(): Convierte un número entero en una cadena binaria.\n",
    "* bool(): Convierte un valor en booleano.\n",
    "* bytearray(): Devuelve un objeto de matriz de bytes.\n",
    "* bytes(): Devuelve un objeto de bytes.\n",
    "* callable(): Devuelve True si el objeto es llamable, de lo contrario devuelve False.\n",
    "* chr(): Devuelve un carácter Unicode del número entero especificado.\n",
    "* classmethod(): Convierte un método en un método de clase.\n",
    "* compile(): Compila el código fuente en un objeto de código o AST.\n",
    "* complex(): Devuelve un número complejo.\n",
    "* delattr(): Elimina el atributo especificado de un objeto.\n",
    "* dict(): Devuelve un diccionario.\n",
    "* dir(): Devuelve una lista de nombres de atributos válidos para el objeto especificado.\n",
    "* divmod(): Devuelve el cociente y el resto de la división de dos números.\n",
    "* enumerate(): Devuelve un objeto enumerado.\n",
    "* eval(): Evalúa y ejecuta una expresión o declaración de Python.\n",
    "* exec(): Ejecuta el código especificado.\n",
    "* filter(): Usa una función para filtrar un iterable.\n",
    "* float(): Devuelve un número de coma flotante.\n",
    "* format(): Formatea un valor especificado.\n",
    "* frozenset(): Devuelve un conjunto inmutable.\n",
    "* getattr(): Devuelve el valor del atributo especificado.\n",
    "* globals(): Devuelve el diccionario de variables globales.\n",
    "* hasattr(): Devuelve True si el objeto tiene el atributo especificado, de lo contrario devuelve False.\n",
    "* hash(): Devuelve el valor hash de un objeto.\n",
    "* help(): Ejecuta el sistema de ayuda integrado.\n",
    "* entre otras..."
   ],
   "metadata": {
    "collapsed": false
   },
   "id": "2ee5d065ad1d9250"
  },
  {
   "cell_type": "markdown",
   "source": [
    "## Métodos\n",
    "Los métodos son funciones que se pueden utilizar en objetos. Los métodos se pueden definir usando la palabra clave def. Los métodos se pueden llamar usando el nombre del objeto seguido de un punto y el nombre del método."
   ],
   "metadata": {
    "collapsed": false
   },
   "id": "dff00da5016b8f59"
  },
  {
   "cell_type": "markdown",
   "source": [
    "### Métodos de strings\n",
    "Los strings tienen una serie de métodos que se pueden utilizar para manipular strings. Los más populares son:\n",
    "* capitalize(): Convierte el primer carácter en mayúscula.\n",
    "* casefold(): Convierte la cadena en minúsculas.\n",
    "* center(): Devuelve una cadena centrada.\n",
    "* count(): Devuelve el número de veces que aparece un valor especificado en una cadena.\n",
    "* encode(): Devuelve una versión codificada de la cadena.\n",
    "* endswith(): Devuelve True si la cadena termina con el valor especificado, de lo contrario devuelve False.\n",
    "* expandtabs(): Establece el tamaño de la pestaña de la cadena.\n",
    "* find(): Busca en la cadena un valor especificado y devuelve la posición donde se encontró.\n",
    "* format(): Formatea un valor especificado en una cadena.\n",
    "* id(): Devuelve la identificación del objeto.\n",
    "* index(): Busca en la cadena un valor especificado y devuelve la posición donde se encontró.\n",
    "* sort(): Ordena los elementos de una lista.\n",
    "* split(): Divide la cadena en subcadenas si encuentra instancias del separador especificado.\n",
    "* strip(): Devuelve una versión recortada de la cadena.\n",
    "* swapcase(): Intercambia entre mayúsculas y minúsculas.\n",
    "* title(): Convierte el primer carácter de cada palabra en mayúsculas.\n",
    "* upper(): Convierte una cadena en mayúsculas.\n",
    "* zfill(): Rellena la cadena con un número especificado de ceros al principio.\n",
    "* entre otras..."
   ],
   "metadata": {
    "collapsed": false
   },
   "id": "fa7ffc06b742071c"
  },
  {
   "cell_type": "code",
   "outputs": [
    {
     "name": "stdout",
     "output_type": "stream",
     "text": [
      "Hello, world\n"
     ]
    }
   ],
   "source": [
    "# capitalize()\n",
    "a = \"hello, world\"\n",
    "print(a.capitalize())"
   ],
   "metadata": {
    "collapsed": false,
    "ExecuteTime": {
     "end_time": "2024-01-04T22:29:51.070449Z",
     "start_time": "2024-01-04T22:29:51.047699Z"
    }
   },
   "id": "6fb466e892488e12",
   "execution_count": 84
  },
  {
   "cell_type": "code",
   "outputs": [
    {
     "name": "stdout",
     "output_type": "stream",
     "text": [
      "hello, world\n"
     ]
    }
   ],
   "source": [
    "# casefold()\n",
    "a = \"Hello, World\"\n",
    "print(a.casefold())"
   ],
   "metadata": {
    "collapsed": false,
    "ExecuteTime": {
     "end_time": "2024-01-04T22:30:06.324471Z",
     "start_time": "2024-01-04T22:30:06.296202Z"
    }
   },
   "id": "6016df8a36e004f9",
   "execution_count": 86
  },
  {
   "cell_type": "code",
   "outputs": [
    {
     "name": "stdout",
     "output_type": "stream",
     "text": [
      "    Hello, World    \n"
     ]
    }
   ],
   "source": [
    "# center()\n",
    "a = \"Hello, World\"\n",
    "print(a.center(20))"
   ],
   "metadata": {
    "collapsed": false,
    "ExecuteTime": {
     "end_time": "2024-01-04T22:30:39.438149Z",
     "start_time": "2024-01-04T22:30:39.421518Z"
    }
   },
   "id": "144cfa2b71e90dc6",
   "execution_count": 87
  },
  {
   "cell_type": "code",
   "outputs": [
    {
     "name": "stdout",
     "output_type": "stream",
     "text": [
      "3\n"
     ]
    }
   ],
   "source": [
    "# count()\n",
    "a = \"Hello, World\"\n",
    "print(a.count(\"l\"))"
   ],
   "metadata": {
    "collapsed": false,
    "ExecuteTime": {
     "end_time": "2024-01-04T22:30:48.161969Z",
     "start_time": "2024-01-04T22:30:48.146974Z"
    }
   },
   "id": "2ceab10838f586c2",
   "execution_count": 88
  },
  {
   "cell_type": "code",
   "outputs": [
    {
     "name": "stdout",
     "output_type": "stream",
     "text": [
      "b'Hello, World'\n"
     ]
    }
   ],
   "source": [
    "# encode()\n",
    "a = \"Hello, World\"\n",
    "print(a.encode())"
   ],
   "metadata": {
    "collapsed": false,
    "ExecuteTime": {
     "end_time": "2024-01-04T22:30:54.825933Z",
     "start_time": "2024-01-04T22:30:54.819686Z"
    }
   },
   "id": "f112f76090e9d065",
   "execution_count": 89
  },
  {
   "cell_type": "code",
   "outputs": [
    {
     "name": "stdout",
     "output_type": "stream",
     "text": [
      "True\n"
     ]
    }
   ],
   "source": [
    "# endswith()\n",
    "a = \"Hello, World\"\n",
    "print(a.endswith(\"d\"))"
   ],
   "metadata": {
    "collapsed": false,
    "ExecuteTime": {
     "end_time": "2024-01-04T22:31:03.383820Z",
     "start_time": "2024-01-04T22:31:03.367014Z"
    }
   },
   "id": "b871da4968cb3371",
   "execution_count": 90
  },
  {
   "cell_type": "code",
   "outputs": [
    {
     "name": "stdout",
     "output_type": "stream",
     "text": [
      "Hello     World\n"
     ]
    }
   ],
   "source": [
    "# expandtabs()\n",
    "a = \"Hello\\tWorld\"\n",
    "print(a.expandtabs(10))"
   ],
   "metadata": {
    "collapsed": false,
    "ExecuteTime": {
     "end_time": "2024-01-04T22:31:21.205172Z",
     "start_time": "2024-01-04T22:31:21.167981Z"
    }
   },
   "id": "597def825f0f258b",
   "execution_count": 92
  },
  {
   "cell_type": "code",
   "outputs": [
    {
     "name": "stdout",
     "output_type": "stream",
     "text": [
      "7\n"
     ]
    }
   ],
   "source": [
    "# find()\n",
    "a = \"Hello, World\"\n",
    "print(a.find(\"World\"))"
   ],
   "metadata": {
    "collapsed": false,
    "ExecuteTime": {
     "end_time": "2024-01-04T22:31:29.651663Z",
     "start_time": "2024-01-04T22:31:29.605978Z"
    }
   },
   "id": "bd223eb5f695458c",
   "execution_count": 93
  },
  {
   "cell_type": "code",
   "outputs": [
    {
     "name": "stdout",
     "output_type": "stream",
     "text": [
      "Hello, World\n"
     ]
    }
   ],
   "source": [
    "# format()\n",
    "a = \"Hello, {}\"\n",
    "print(a.format(\"World\"))"
   ],
   "metadata": {
    "collapsed": false,
    "ExecuteTime": {
     "end_time": "2024-01-04T22:31:37.684144Z",
     "start_time": "2024-01-04T22:31:37.653057Z"
    }
   },
   "id": "8852c826bc05d1f1",
   "execution_count": 94
  },
  {
   "cell_type": "code",
   "outputs": [
    {
     "name": "stdout",
     "output_type": "stream",
     "text": [
      "4396698224\n"
     ]
    }
   ],
   "source": [
    "# id()\n",
    "a = \"Hello, World\"\n",
    "print(id(a))"
   ],
   "metadata": {
    "collapsed": false,
    "ExecuteTime": {
     "end_time": "2024-01-04T22:31:44.304739Z",
     "start_time": "2024-01-04T22:31:44.299890Z"
    }
   },
   "id": "e8b371d8a8401366",
   "execution_count": 95
  },
  {
   "cell_type": "code",
   "outputs": [
    {
     "name": "stdout",
     "output_type": "stream",
     "text": [
      "7\n"
     ]
    }
   ],
   "source": [
    "# index()\n",
    "a = \"Hello, World\"\n",
    "print(a.index(\"World\"))"
   ],
   "metadata": {
    "collapsed": false,
    "ExecuteTime": {
     "end_time": "2024-01-04T22:32:06.540684Z",
     "start_time": "2024-01-04T22:32:06.522076Z"
    }
   },
   "id": "9b8ba0b61d9ffb93",
   "execution_count": 96
  },
  {
   "cell_type": "code",
   "outputs": [
    {
     "name": "stdout",
     "output_type": "stream",
     "text": [
      "['apple', 'banana', 'cherry']\n"
     ]
    }
   ],
   "source": [
    "# sort()\n",
    "a = [\"banana\", \"cherry\", \"apple\"]\n",
    "a.sort()\n",
    "print(a)"
   ],
   "metadata": {
    "collapsed": false,
    "ExecuteTime": {
     "end_time": "2024-01-04T22:32:16.176097Z",
     "start_time": "2024-01-04T22:32:16.151626Z"
    }
   },
   "id": "af6a8839eccb983e",
   "execution_count": 98
  },
  {
   "cell_type": "code",
   "outputs": [
    {
     "name": "stdout",
     "output_type": "stream",
     "text": [
      "['Hello', ' World']\n"
     ]
    }
   ],
   "source": [
    "# split()\n",
    "a = \"Hello, World\"\n",
    "print(a.split(\",\"))"
   ],
   "metadata": {
    "collapsed": false,
    "ExecuteTime": {
     "end_time": "2024-01-04T22:32:23.343691Z",
     "start_time": "2024-01-04T22:32:23.315271Z"
    }
   },
   "id": "b58860a7ebab1b4f",
   "execution_count": 99
  },
  {
   "cell_type": "code",
   "outputs": [
    {
     "name": "stdout",
     "output_type": "stream",
     "text": [
      "Hello, World\n"
     ]
    }
   ],
   "source": [
    "# strip()\n",
    "a = \"   Hello, World   \"\n",
    "print(a.strip())"
   ],
   "metadata": {
    "collapsed": false,
    "ExecuteTime": {
     "end_time": "2024-01-04T22:32:29.813530Z",
     "start_time": "2024-01-04T22:32:29.795182Z"
    }
   },
   "id": "e693fefa1ab248d3",
   "execution_count": 100
  },
  {
   "cell_type": "code",
   "outputs": [
    {
     "name": "stdout",
     "output_type": "stream",
     "text": [
      "hELLO, wORLD\n"
     ]
    }
   ],
   "source": [
    "# swapcase()\n",
    "a = \"Hello, World\"\n",
    "print(a.swapcase())"
   ],
   "metadata": {
    "collapsed": false,
    "ExecuteTime": {
     "end_time": "2024-01-04T22:32:39.743689Z",
     "start_time": "2024-01-04T22:32:39.702517Z"
    }
   },
   "id": "be0a8f15ae432efc",
   "execution_count": 101
  },
  {
   "cell_type": "code",
   "outputs": [
    {
     "name": "stdout",
     "output_type": "stream",
     "text": [
      "Hello, World\n"
     ]
    }
   ],
   "source": [
    "# title()\n",
    "a = \"hello, world\"\n",
    "print(a.title())"
   ],
   "metadata": {
    "collapsed": false,
    "ExecuteTime": {
     "end_time": "2024-01-04T22:33:05.468355Z",
     "start_time": "2024-01-04T22:33:05.416549Z"
    }
   },
   "id": "1931b3580ce682b7",
   "execution_count": 103
  },
  {
   "cell_type": "code",
   "outputs": [
    {
     "name": "stdout",
     "output_type": "stream",
     "text": [
      "HELLO, WORLD\n"
     ]
    }
   ],
   "source": [
    "# upper()\n",
    "a = \"hello, world\"\n",
    "print(a.upper())"
   ],
   "metadata": {
    "collapsed": false,
    "ExecuteTime": {
     "end_time": "2024-01-04T22:33:15.824943Z",
     "start_time": "2024-01-04T22:33:15.806005Z"
    }
   },
   "id": "245d8109e6e6b34b",
   "execution_count": 104
  },
  {
   "cell_type": "code",
   "outputs": [
    {
     "name": "stdout",
     "output_type": "stream",
     "text": [
      "00000000hello, world\n"
     ]
    }
   ],
   "source": [
    "# zfill()\n",
    "a = \"hello, world\"\n",
    "print(a.zfill(20))"
   ],
   "metadata": {
    "collapsed": false,
    "ExecuteTime": {
     "end_time": "2024-01-04T22:33:22.776268Z",
     "start_time": "2024-01-04T22:33:22.765492Z"
    }
   },
   "id": "dd732999335fac20",
   "execution_count": 105
  },
  {
   "cell_type": "markdown",
   "source": [
    "### Métodos de listas\n",
    "Las listas tienen una serie de métodos que se pueden utilizar para manipular listas. Los más populares son:\n",
    "* append(): Agrega un elemento al final de la lista.\n",
    "* clear(): Elimina todos los elementos de la lista.\n",
    "* copy(): Devuelve una copia de la lista.\n",
    "* count(): Devuelve el número de elementos con el valor especificado.\n",
    "* extend(): Agrega los elementos de una lista (o cualquier iterable) al final de la lista actual.\n",
    "* index(): Devuelve el índice del primer elemento con el valor especificado.\n",
    "* insert(): Agrega un elemento en la posición especificada.\n",
    "* pop(): Elimina el elemento en la posición especificada.\n",
    "* remove(): Elimina el primer elemento con el valor especificado.\n",
    "* reverse(): Invierte el orden de la lista.\n",
    "* sort(): Ordena los elementos de una lista.\n",
    "* entre otras..."
   ],
   "metadata": {
    "collapsed": false
   },
   "id": "b8be6b39b9b591a4"
  },
  {
   "cell_type": "code",
   "outputs": [
    {
     "name": "stdout",
     "output_type": "stream",
     "text": [
      "['apple', 'banana', 'cherry', 'orange']\n"
     ]
    }
   ],
   "source": [
    "# append()\n",
    "a = [\"apple\", \"banana\", \"cherry\"]\n",
    "a.append(\"orange\")\n",
    "print(a)"
   ],
   "metadata": {
    "collapsed": false,
    "ExecuteTime": {
     "end_time": "2024-01-04T22:35:37.229376Z",
     "start_time": "2024-01-04T22:35:37.210181Z"
    }
   },
   "id": "f9a02e0c8ba3d1bd",
   "execution_count": 106
  },
  {
   "cell_type": "code",
   "outputs": [
    {
     "name": "stdout",
     "output_type": "stream",
     "text": [
      "[]\n"
     ]
    }
   ],
   "source": [
    "# clear()\n",
    "a = [\"apple\", \"banana\", \"cherry\"]\n",
    "a.clear()\n",
    "print(a)"
   ],
   "metadata": {
    "collapsed": false,
    "ExecuteTime": {
     "end_time": "2024-01-04T22:35:46.904220Z",
     "start_time": "2024-01-04T22:35:46.887682Z"
    }
   },
   "id": "e451b58afb4e046d",
   "execution_count": 107
  },
  {
   "cell_type": "code",
   "outputs": [
    {
     "name": "stdout",
     "output_type": "stream",
     "text": [
      "['apple', 'banana', 'cherry']\n"
     ]
    }
   ],
   "source": [
    "# copy()\n",
    "a = [\"apple\", \"banana\", \"cherry\"]\n",
    "b = a.copy()\n",
    "print(b)"
   ],
   "metadata": {
    "collapsed": false,
    "ExecuteTime": {
     "end_time": "2024-01-04T22:35:57.601400Z",
     "start_time": "2024-01-04T22:35:57.563583Z"
    }
   },
   "id": "6f59b4a0680296b8",
   "execution_count": 108
  },
  {
   "cell_type": "code",
   "outputs": [
    {
     "name": "stdout",
     "output_type": "stream",
     "text": [
      "1\n"
     ]
    }
   ],
   "source": [
    "# count()\n",
    "a = [\"apple\", \"banana\", \"cherry\"]\n",
    "print(a.count(\"banana\"))"
   ],
   "metadata": {
    "collapsed": false,
    "ExecuteTime": {
     "end_time": "2024-01-04T22:36:40.210960Z",
     "start_time": "2024-01-04T22:36:40.166156Z"
    }
   },
   "id": "a643ed3042b15afd",
   "execution_count": 112
  },
  {
   "cell_type": "code",
   "outputs": [
    {
     "name": "stdout",
     "output_type": "stream",
     "text": [
      "['apple', 'banana', 'cherry', 'orange', 'melon', 'mango']\n"
     ]
    }
   ],
   "source": [
    "# extend()\n",
    "a = [\"apple\", \"banana\", \"cherry\"]\n",
    "b = [\"orange\", \"melon\", \"mango\"]\n",
    "a.extend(b)\n",
    "print(a)"
   ],
   "metadata": {
    "collapsed": false,
    "ExecuteTime": {
     "end_time": "2024-01-04T22:36:15.096513Z",
     "start_time": "2024-01-04T22:36:15.069210Z"
    }
   },
   "id": "98398680b82a2429",
   "execution_count": 109
  },
  {
   "cell_type": "code",
   "outputs": [
    {
     "name": "stdout",
     "output_type": "stream",
     "text": [
      "1\n"
     ]
    }
   ],
   "source": [
    "# index()\n",
    "a = [\"apple\", \"banana\", \"cherry\"]\n",
    "print(a.index(\"banana\"))"
   ],
   "metadata": {
    "collapsed": false,
    "ExecuteTime": {
     "end_time": "2024-01-04T22:36:25.066416Z",
     "start_time": "2024-01-04T22:36:25.042274Z"
    }
   },
   "id": "4db3eeb6da5587a",
   "execution_count": 110
  },
  {
   "cell_type": "code",
   "outputs": [
    {
     "name": "stdout",
     "output_type": "stream",
     "text": [
      "['apple', 'orange', 'banana', 'cherry']\n"
     ]
    }
   ],
   "source": [
    "# insert()\n",
    "a = [\"apple\", \"banana\", \"cherry\"]\n",
    "a.insert(1, \"orange\")\n",
    "print(a)"
   ],
   "metadata": {
    "collapsed": false,
    "ExecuteTime": {
     "end_time": "2024-01-04T22:36:37.489112Z",
     "start_time": "2024-01-04T22:36:37.448042Z"
    }
   },
   "id": "12fd9b0f607ce5b4",
   "execution_count": 111
  },
  {
   "cell_type": "code",
   "outputs": [
    {
     "name": "stdout",
     "output_type": "stream",
     "text": [
      "['apple', 'cherry']\n"
     ]
    }
   ],
   "source": [
    "# pop()\n",
    "a = [\"apple\", \"banana\", \"cherry\"]\n",
    "a.pop(1)\n",
    "print(a)"
   ],
   "metadata": {
    "collapsed": false,
    "ExecuteTime": {
     "end_time": "2024-01-04T22:36:58.212545Z",
     "start_time": "2024-01-04T22:36:58.183071Z"
    }
   },
   "id": "95c758283c669d92",
   "execution_count": 113
  },
  {
   "cell_type": "code",
   "outputs": [
    {
     "name": "stdout",
     "output_type": "stream",
     "text": [
      "['apple', 'cherry']\n"
     ]
    }
   ],
   "source": [
    "# remove()\n",
    "a = [\"apple\", \"banana\", \"cherry\"]\n",
    "a.remove(\"banana\")\n",
    "print(a)"
   ],
   "metadata": {
    "collapsed": false,
    "ExecuteTime": {
     "end_time": "2024-01-04T22:37:07.085370Z",
     "start_time": "2024-01-04T22:37:07.005977Z"
    }
   },
   "id": "2260a72d90516357",
   "execution_count": 114
  },
  {
   "cell_type": "code",
   "outputs": [
    {
     "name": "stdout",
     "output_type": "stream",
     "text": [
      "['cherry', 'banana', 'apple']\n"
     ]
    }
   ],
   "source": [
    "# reverse()\n",
    "a = [\"apple\", \"banana\", \"cherry\"]\n",
    "a.reverse()\n",
    "print(a)"
   ],
   "metadata": {
    "collapsed": false,
    "ExecuteTime": {
     "end_time": "2024-01-04T22:37:14.497213Z",
     "start_time": "2024-01-04T22:37:14.469742Z"
    }
   },
   "id": "3fa320fde52087dc",
   "execution_count": 115
  },
  {
   "cell_type": "code",
   "outputs": [
    {
     "name": "stdout",
     "output_type": "stream",
     "text": [
      "['apple', 'banana', 'cherry']\n"
     ]
    }
   ],
   "source": [
    "# sort()\n",
    "a = [\"apple\", \"banana\", \"cherry\"]\n",
    "a.sort()\n",
    "print(a)"
   ],
   "metadata": {
    "collapsed": false,
    "ExecuteTime": {
     "end_time": "2024-01-04T22:37:22.802274Z",
     "start_time": "2024-01-04T22:37:22.760692Z"
    }
   },
   "id": "cb08f1dd993b1acd",
   "execution_count": 116
  },
  {
   "cell_type": "markdown",
   "source": [
    "### Métodos de diccionarios\n",
    "Los diccionarios tienen una serie de métodos que se pueden utilizar para manipular diccionarios. Los más populares son:\n",
    "* clear(): Elimina todos los elementos del diccionario.\n",
    "* copy(): Devuelve una copia del diccionario.\n",
    "* fromkeys(): Devuelve un diccionario con las claves y el valor especificados.\n",
    "* get(): Devuelve el valor del elemento con la clave especificada.\n",
    "* items(): Devuelve una lista que contiene una tupla para cada par clave-valor.\n",
    "* keys(): Devuelve una lista que contiene las claves del diccionario.\n",
    "* pop(): Elimina el elemento con la clave especificada.\n",
    "* popitem(): Elimina el último par clave-valor insertado.\n",
    "* setdefault(): Devuelve el valor del elemento con la clave especificada. Si la clave no existe, inserta la clave, con el valor especificado.\n",
    "* update(): Actualiza el diccionario con los pares clave-valor especificados.\n",
    "* values(): Devuelve una lista de todos los valores del diccionario.\n",
    "* entre otras..."
   ],
   "metadata": {
    "collapsed": false
   },
   "id": "14e633d9cd6f0107"
  },
  {
   "cell_type": "code",
   "outputs": [
    {
     "name": "stdout",
     "output_type": "stream",
     "text": [
      "{}\n"
     ]
    }
   ],
   "source": [
    "# clear()\n",
    "a = {\n",
    "  \"brand\": \"Ford\",\n",
    "  \"model\": \"Mustang\",\n",
    "  \"year\": 1964\n",
    "}\n",
    "a.clear()\n",
    "print(a)"
   ],
   "metadata": {
    "collapsed": false,
    "ExecuteTime": {
     "end_time": "2024-01-04T22:38:43.438622Z",
     "start_time": "2024-01-04T22:38:43.381275Z"
    }
   },
   "id": "1b3195684dcf7b6a",
   "execution_count": 119
  },
  {
   "cell_type": "code",
   "outputs": [
    {
     "name": "stdout",
     "output_type": "stream",
     "text": [
      "{'brand': 'Ford', 'model': 'Mustang', 'year': 1964}\n"
     ]
    }
   ],
   "source": [
    "# copy()\n",
    "a = {\n",
    "  \"brand\": \"Ford\",\n",
    "  \"model\": \"Mustang\",\n",
    "  \"year\": 1964\n",
    "}\n",
    "b = a.copy()\n",
    "print(b)"
   ],
   "metadata": {
    "collapsed": false,
    "ExecuteTime": {
     "end_time": "2024-01-04T22:38:51.368314Z",
     "start_time": "2024-01-04T22:38:51.319677Z"
    }
   },
   "id": "e0867a14a22a61bc",
   "execution_count": 120
  },
  {
   "cell_type": "code",
   "outputs": [
    {
     "name": "stdout",
     "output_type": "stream",
     "text": [
      "{'key1': 0, 'key2': 0, 'key3': 0}\n"
     ]
    }
   ],
   "source": [
    "# fromkeys()\n",
    "a = (\"key1\", \"key2\", \"key3\")\n",
    "b = 0\n",
    "c = dict.fromkeys(a, b)\n",
    "print(c)"
   ],
   "metadata": {
    "collapsed": false,
    "ExecuteTime": {
     "end_time": "2024-01-04T22:39:01.252831Z",
     "start_time": "2024-01-04T22:39:01.199062Z"
    }
   },
   "id": "7e078d499e7f8a8d",
   "execution_count": 121
  },
  {
   "cell_type": "code",
   "outputs": [
    {
     "name": "stdout",
     "output_type": "stream",
     "text": [
      "Mustang\n"
     ]
    }
   ],
   "source": [
    "# get()\n",
    "a = {\n",
    "  \"brand\": \"Ford\",\n",
    "  \"model\": \"Mustang\",\n",
    "  \"year\": 1964\n",
    "}\n",
    "print(a.get(\"model\"))"
   ],
   "metadata": {
    "collapsed": false,
    "ExecuteTime": {
     "end_time": "2024-01-04T22:39:08.419534Z",
     "start_time": "2024-01-04T22:39:08.381764Z"
    }
   },
   "id": "6d9f2d693ad2204a",
   "execution_count": 122
  },
  {
   "cell_type": "code",
   "outputs": [
    {
     "name": "stdout",
     "output_type": "stream",
     "text": [
      "dict_items([('brand', 'Ford'), ('model', 'Mustang'), ('year', 1964)])\n"
     ]
    }
   ],
   "source": [
    "# items()\n",
    "a = {\n",
    "  \"brand\": \"Ford\",\n",
    "  \"model\": \"Mustang\",\n",
    "  \"year\": 1964\n",
    "}\n",
    "print(a.items())"
   ],
   "metadata": {
    "collapsed": false,
    "ExecuteTime": {
     "end_time": "2024-01-04T22:39:18.980788Z",
     "start_time": "2024-01-04T22:39:18.933179Z"
    }
   },
   "id": "9f7c538629d02da0",
   "execution_count": 123
  },
  {
   "cell_type": "code",
   "outputs": [
    {
     "name": "stdout",
     "output_type": "stream",
     "text": [
      "dict_keys(['brand', 'model', 'year'])\n"
     ]
    }
   ],
   "source": [
    "# keys()\n",
    "a = {\n",
    "  \"brand\": \"Ford\",\n",
    "  \"model\": \"Mustang\",\n",
    "  \"year\": 1964\n",
    "}\n",
    "print(a.keys())"
   ],
   "metadata": {
    "collapsed": false,
    "ExecuteTime": {
     "end_time": "2024-01-04T22:39:32.475397Z",
     "start_time": "2024-01-04T22:39:32.405051Z"
    }
   },
   "id": "c205b29b00545f7b",
   "execution_count": 124
  },
  {
   "cell_type": "code",
   "outputs": [
    {
     "name": "stdout",
     "output_type": "stream",
     "text": [
      "{'brand': 'Ford', 'year': 1964}\n"
     ]
    }
   ],
   "source": [
    "# pop()\n",
    "a = {\n",
    "  \"brand\": \"Ford\",\n",
    "  \"model\": \"Mustang\",\n",
    "  \"year\": 1964\n",
    "}\n",
    "a.pop(\"model\")\n",
    "print(a)"
   ],
   "metadata": {
    "collapsed": false,
    "ExecuteTime": {
     "end_time": "2024-01-04T22:39:40.315425Z",
     "start_time": "2024-01-04T22:39:40.246561Z"
    }
   },
   "id": "95440d8658d6bbf5",
   "execution_count": 125
  },
  {
   "cell_type": "code",
   "outputs": [
    {
     "name": "stdout",
     "output_type": "stream",
     "text": [
      "{'brand': 'Ford', 'model': 'Mustang'}\n"
     ]
    }
   ],
   "source": [
    "# popitem()\n",
    "a = {\n",
    "  \"brand\": \"Ford\",\n",
    "  \"model\": \"Mustang\",\n",
    "  \"year\": 1964\n",
    "}\n",
    "a.popitem()\n",
    "print(a)"
   ],
   "metadata": {
    "collapsed": false,
    "ExecuteTime": {
     "end_time": "2024-01-04T22:39:48.843793Z",
     "start_time": "2024-01-04T22:39:48.805306Z"
    }
   },
   "id": "b9785b3d7670e68b",
   "execution_count": 126
  },
  {
   "cell_type": "code",
   "outputs": [
    {
     "name": "stdout",
     "output_type": "stream",
     "text": [
      "Mustang\n",
      "red\n",
      "{'brand': 'Ford', 'model': 'Mustang', 'year': 1964, 'color': 'red'}\n"
     ]
    }
   ],
   "source": [
    "# setdefault()\n",
    "a = {\n",
    "  \"brand\": \"Ford\",\n",
    "  \"model\": \"Mustang\",\n",
    "  \"year\": 1964\n",
    "}\n",
    "print(a.setdefault(\"model\", \"Bronco\"))\n",
    "print(a.setdefault(\"color\", \"red\"))\n",
    "print(a)"
   ],
   "metadata": {
    "collapsed": false,
    "ExecuteTime": {
     "end_time": "2024-01-04T22:40:01.983928Z",
     "start_time": "2024-01-04T22:40:01.912009Z"
    }
   },
   "id": "7973509181a0ec88",
   "execution_count": 127
  },
  {
   "cell_type": "code",
   "outputs": [
    {
     "name": "stdout",
     "output_type": "stream",
     "text": [
      "{'brand': 'Ford', 'model': 'Mustang', 'year': 1964, 'color': 'red'}\n"
     ]
    }
   ],
   "source": [
    "# update()\n",
    "a = {\n",
    "  \"brand\": \"Ford\",\n",
    "  \"model\": \"Mustang\",\n",
    "  \"year\": 1964\n",
    "}\n",
    "a.update({\"color\": \"red\"})\n",
    "print(a)"
   ],
   "metadata": {
    "collapsed": false,
    "ExecuteTime": {
     "end_time": "2024-01-04T22:40:11.419261Z",
     "start_time": "2024-01-04T22:40:11.380907Z"
    }
   },
   "id": "6026c086904b8537",
   "execution_count": 128
  },
  {
   "cell_type": "code",
   "outputs": [
    {
     "name": "stdout",
     "output_type": "stream",
     "text": [
      "dict_values(['Ford', 'Mustang', 1964])\n"
     ]
    }
   ],
   "source": [
    "# values()\n",
    "a = {\n",
    "  \"brand\": \"Ford\",\n",
    "  \"model\": \"Mustang\",\n",
    "  \"year\": 1964\n",
    "}\n",
    "print(a.values())"
   ],
   "metadata": {
    "collapsed": false,
    "ExecuteTime": {
     "end_time": "2024-01-04T22:40:17.402477Z",
     "start_time": "2024-01-04T22:40:17.345271Z"
    }
   },
   "id": "7857df0e5db6140c",
   "execution_count": 129
  },
  {
   "cell_type": "markdown",
   "source": [
    "## Control de flujo\n",
    "El control de flujo se utiliza para ejecutar diferentes acciones en función de diferentes condiciones. Python tiene las siguientes declaraciones de control de flujo:\n",
    "* if\n",
    "* elif\n",
    "* else\n",
    "* for\n",
    "* while\n",
    "* break\n",
    "* continue\n",
    "* pass"
   ],
   "metadata": {
    "collapsed": false
   },
   "id": "7e450faf07adae11"
  },
  {
   "cell_type": "markdown",
   "source": [
    "### Declaración if\n",
    "La declaración if se utiliza para ejecutar un bloque de código si una condición es verdadera. La declaración if se puede combinar con una declaración else para ejecutar un bloque de código alternativo si la condición es falsa. La declaración if se puede combinar con una declaración elif para ejecutar un bloque de código alternativo si la primera condición es falsa."
   ],
   "metadata": {
    "collapsed": false
   },
   "id": "a3ba43c8ab35678a"
  },
  {
   "cell_type": "code",
   "outputs": [
    {
     "name": "stdout",
     "output_type": "stream",
     "text": [
      "b es mayor que a\n"
     ]
    }
   ],
   "source": [
    "# if\n",
    "a = 33\n",
    "b = 200\n",
    "if b > a:\n",
    "    print(\"b es mayor que a\")\n"
   ],
   "metadata": {
    "collapsed": false,
    "ExecuteTime": {
     "end_time": "2024-01-04T22:44:00.008159Z",
     "start_time": "2024-01-04T22:43:59.947610Z"
    }
   },
   "id": "790b3c97e93a1447",
   "execution_count": 131
  },
  {
   "cell_type": "markdown",
   "source": [
    "### Declaración if else\n",
    "La declaración if else se utiliza para ejecutar un bloque de código si una condición es verdadera y otro bloque de código si la condición es falsa."
   ],
   "metadata": {
    "collapsed": false
   },
   "id": "e0b6fd4db8570b1"
  },
  {
   "cell_type": "code",
   "outputs": [
    {
     "name": "stdout",
     "output_type": "stream",
     "text": [
      "b no es mayor que a\n"
     ]
    }
   ],
   "source": [
    "# if else\n",
    "a = 33\n",
    "b = 20\n",
    "if b > a:\n",
    "    print(\"b es mayor que a\")\n",
    "else:\n",
    "    print(\"b no es mayor que a\")"
   ],
   "metadata": {
    "collapsed": false,
    "ExecuteTime": {
     "end_time": "2024-01-04T22:44:13.412409Z",
     "start_time": "2024-01-04T22:44:13.367311Z"
    }
   },
   "id": "9d8eeb4491ff901a",
   "execution_count": 132
  },
  {
   "cell_type": "markdown",
   "source": [
    "### Declaración if elif else\n",
    "La declaración if elif else se utiliza para ejecutar un bloque de código si la primera condición es verdadera, otro bloque de código si la segunda condición es verdadera y otro bloque de código si ninguna de las condiciones es verdadera."
   ],
   "metadata": {
    "collapsed": false
   },
   "id": "bd6a011dda8146a5"
  },
  {
   "cell_type": "code",
   "outputs": [
    {
     "name": "stdout",
     "output_type": "stream",
     "text": [
      "a y b son iguales\n"
     ]
    }
   ],
   "source": [
    "# if elif else\n",
    "a = 33\n",
    "b = 33\n",
    "if b > a:\n",
    "    print(\"b es mayor que a\")\n",
    "elif a == b:\n",
    "    print(\"a y b son iguales\")\n",
    "else:\n",
    "    print(\"a es mayor que b\")"
   ],
   "metadata": {
    "collapsed": false,
    "ExecuteTime": {
     "end_time": "2024-01-04T22:44:39.559183Z",
     "start_time": "2024-01-04T22:44:39.516738Z"
    }
   },
   "id": "21b5d903b2fed956",
   "execution_count": 133
  },
  {
   "cell_type": "markdown",
   "source": [
    "### Declaración for\n",
    "La declaración for se utiliza para iterar sobre una secuencia de elementos. La declaración for se puede combinar con una declaración else para ejecutar un bloque de código alternativo cuando la iteración se haya completado."
   ],
   "metadata": {
    "collapsed": false
   },
   "id": "a1eb9438d8534484"
  },
  {
   "cell_type": "code",
   "outputs": [
    {
     "name": "stdout",
     "output_type": "stream",
     "text": [
      "apple\n",
      "banana\n",
      "cherry\n"
     ]
    }
   ],
   "source": [
    "# for\n",
    "a = [\"apple\", \"banana\", \"cherry\"]\n",
    "for x in a:\n",
    "    print(x)"
   ],
   "metadata": {
    "collapsed": false,
    "ExecuteTime": {
     "end_time": "2024-01-04T22:45:01.419377Z",
     "start_time": "2024-01-04T22:45:01.401868Z"
    }
   },
   "id": "7bfd1dea040cf501",
   "execution_count": 134
  },
  {
   "cell_type": "markdown",
   "source": [
    "### Declaración for else\n",
    "La declaración for else se utiliza para ejecutar un bloque de código alternativo cuando la iteración se haya completado."
   ],
   "metadata": {
    "collapsed": false
   },
   "id": "a90f9b85f639a024"
  },
  {
   "cell_type": "code",
   "outputs": [
    {
     "name": "stdout",
     "output_type": "stream",
     "text": [
      "apple\n",
      "banana\n",
      "cherry\n",
      "La iteración se ha completado\n"
     ]
    }
   ],
   "source": [
    "# for else\n",
    "a = [\"apple\", \"banana\", \"cherry\"]\n",
    "for x in a:\n",
    "    print(x)\n",
    "else:\n",
    "    print(\"La iteración se ha completado\")"
   ],
   "metadata": {
    "collapsed": false,
    "ExecuteTime": {
     "end_time": "2024-01-04T22:45:31.744815Z",
     "start_time": "2024-01-04T22:45:31.663613Z"
    }
   },
   "id": "9f215360babb551d",
   "execution_count": 135
  },
  {
   "cell_type": "markdown",
   "source": [
    "### Lista de comprensión\n",
    "La lista de comprensión es una forma elegante de definir y crear listas en Python. La lista de comprensión se puede utilizar para crear una nueva lista a partir de una lista existente."
   ],
   "metadata": {
    "collapsed": false
   },
   "id": "7315296f41e0c5e6"
  },
  {
   "cell_type": "code",
   "outputs": [
    {
     "name": "stdout",
     "output_type": "stream",
     "text": [
      "[0, 1, 2, 3, 4, 5, 6, 7, 8, 9]\n"
     ]
    }
   ],
   "source": [
    "# Lista de comprensión\n",
    "a = [x for x in range(10)]\n",
    "print(a)"
   ],
   "metadata": {
    "collapsed": false,
    "ExecuteTime": {
     "end_time": "2024-01-04T22:46:10.615788Z",
     "start_time": "2024-01-04T22:46:10.565899Z"
    }
   },
   "id": "28902a1da71d60ac",
   "execution_count": 136
  },
  {
   "cell_type": "code",
   "outputs": [
    {
     "name": "stdout",
     "output_type": "stream",
     "text": [
      "[0, 1, 2, 3, 4]\n"
     ]
    }
   ],
   "source": [
    "# Lista de comprensión con condición\n",
    "a = [x for x in range(10) if x < 5]\n",
    "print(a)"
   ],
   "metadata": {
    "collapsed": false,
    "ExecuteTime": {
     "end_time": "2024-01-04T22:46:23.568153Z",
     "start_time": "2024-01-04T22:46:23.517091Z"
    }
   },
   "id": "a1efa858220abf2e",
   "execution_count": 138
  },
  {
   "cell_type": "code",
   "outputs": [
    {
     "name": "stdout",
     "output_type": "stream",
     "text": [
      "[0, 1, 2, 3, 4, 10, 12, 14, 16, 18]\n"
     ]
    }
   ],
   "source": [
    "# Lista de comprensión con condición y else\n",
    "a = [x if x < 5 else x * 2 for x in range(10)]\n",
    "print(a)"
   ],
   "metadata": {
    "collapsed": false,
    "ExecuteTime": {
     "end_time": "2024-01-04T22:46:33.939563Z",
     "start_time": "2024-01-04T22:46:33.888168Z"
    }
   },
   "id": "6eb2a8e2e705cfad",
   "execution_count": 139
  },
  {
   "cell_type": "code",
   "outputs": [
    {
     "name": "stdout",
     "output_type": "stream",
     "text": [
      "[0, 1, 2, 1, 2, 3, 2, 3, 4]\n"
     ]
    }
   ],
   "source": [
    "# Lista de comprensión con dos iterables\n",
    "a = [x + y for x in range(3) for y in range(3)]\n",
    "print(a)"
   ],
   "metadata": {
    "collapsed": false,
    "ExecuteTime": {
     "end_time": "2024-01-04T22:46:43.147450Z",
     "start_time": "2024-01-04T22:46:43.093674Z"
    }
   },
   "id": "d1a33333547fa46b",
   "execution_count": 140
  },
  {
   "cell_type": "code",
   "outputs": [
    {
     "name": "stdout",
     "output_type": "stream",
     "text": [
      "[0, 2, 4]\n"
     ]
    }
   ],
   "source": [
    "# Lista de comprensión con dos iterables y condición\n",
    "a = [x + y for x in range(3) for y in range(3) if x == y]\n",
    "print(a)"
   ],
   "metadata": {
    "collapsed": false,
    "ExecuteTime": {
     "end_time": "2024-01-04T22:46:51.056124Z",
     "start_time": "2024-01-04T22:46:51.005332Z"
    }
   },
   "id": "57e60beca0e7ac0d",
   "execution_count": 141
  },
  {
   "cell_type": "markdown",
   "source": [
    "### Declaración while\n",
    "La declaración while se utiliza para ejecutar un bloque de código mientras una condición sea verdadera. La declaración while se puede combinar con una declaración else para ejecutar un bloque de código alternativo cuando la condición ya no sea verdadera."
   ],
   "metadata": {
    "collapsed": false
   },
   "id": "4a900adda72ae971"
  },
  {
   "cell_type": "code",
   "outputs": [
    {
     "name": "stdout",
     "output_type": "stream",
     "text": [
      "1\n",
      "2\n",
      "3\n",
      "4\n",
      "5\n"
     ]
    }
   ],
   "source": [
    "# while\n",
    "i = 1\n",
    "while i < 6:\n",
    "    print(i)\n",
    "    i += 1"
   ],
   "metadata": {
    "collapsed": false,
    "ExecuteTime": {
     "end_time": "2024-01-04T22:47:21.184144Z",
     "start_time": "2024-01-04T22:47:21.126814Z"
    }
   },
   "id": "a0f85c68ed971cc2",
   "execution_count": 142
  },
  {
   "cell_type": "markdown",
   "source": [
    "### Declaración while else\n",
    "La declaración while else se utiliza para ejecutar un bloque de código alternativo cuando la condición ya no sea verdadera."
   ],
   "metadata": {
    "collapsed": false
   },
   "id": "8e9d46c13a3156bc"
  },
  {
   "cell_type": "code",
   "outputs": [
    {
     "name": "stdout",
     "output_type": "stream",
     "text": [
      "1\n",
      "2\n",
      "3\n",
      "4\n",
      "5\n",
      "i ya no es menor que 6\n"
     ]
    }
   ],
   "source": [
    "# while else\n",
    "i = 1\n",
    "while i < 6:\n",
    "    print(i)\n",
    "    i += 1\n",
    "else:\n",
    "    print(\"i ya no es menor que 6\")"
   ],
   "metadata": {
    "collapsed": false,
    "ExecuteTime": {
     "end_time": "2024-01-04T22:47:31.577724Z",
     "start_time": "2024-01-04T22:47:31.515150Z"
    }
   },
   "id": "4ba68bc77077285c",
   "execution_count": 143
  },
  {
   "cell_type": "markdown",
   "source": [
    "### Declaración break\n",
    "La declaración break se utiliza para salir de un bucle."
   ],
   "metadata": {
    "collapsed": false
   },
   "id": "786da450df69359f"
  },
  {
   "cell_type": "code",
   "outputs": [
    {
     "name": "stdout",
     "output_type": "stream",
     "text": [
      "1\n",
      "2\n",
      "3\n"
     ]
    }
   ],
   "source": [
    "# break\n",
    "i = 1\n",
    "while i < 6:\n",
    "    print(i)\n",
    "    if i == 3:\n",
    "        break\n",
    "    i += 1"
   ],
   "metadata": {
    "collapsed": false,
    "ExecuteTime": {
     "end_time": "2024-01-04T22:47:55.430682Z",
     "start_time": "2024-01-04T22:47:55.293462Z"
    }
   },
   "id": "6a8b32694675bac2",
   "execution_count": 144
  },
  {
   "cell_type": "code",
   "outputs": [
    {
     "name": "stdout",
     "output_type": "stream",
     "text": [
      "apple\n",
      "banana\n"
     ]
    }
   ],
   "source": [
    "# break en bucle for\n",
    "a = [\"apple\", \"banana\", \"cherry\"]\n",
    "for x in a:\n",
    "    print(x)\n",
    "    if x == \"banana\":\n",
    "        break"
   ],
   "metadata": {
    "collapsed": false,
    "ExecuteTime": {
     "end_time": "2024-01-04T22:48:03.246549Z",
     "start_time": "2024-01-04T22:48:03.193435Z"
    }
   },
   "id": "414782e093f18d86",
   "execution_count": 145
  },
  {
   "cell_type": "markdown",
   "source": [
    "### Declaración continue\n",
    "La declaración continue se utiliza para saltar a la siguiente iteración de un bucle."
   ],
   "metadata": {
    "collapsed": false
   },
   "id": "a6e51b6a9d961dff"
  },
  {
   "cell_type": "code",
   "outputs": [
    {
     "name": "stdout",
     "output_type": "stream",
     "text": [
      "1\n",
      "2\n",
      "4\n",
      "5\n",
      "6\n"
     ]
    }
   ],
   "source": [
    "# continue\n",
    "i = 0\n",
    "while i < 6:\n",
    "    i += 1\n",
    "    if i == 3:\n",
    "        continue\n",
    "    print(i)"
   ],
   "metadata": {
    "collapsed": false,
    "ExecuteTime": {
     "end_time": "2024-01-04T22:48:19.389288Z",
     "start_time": "2024-01-04T22:48:19.335806Z"
    }
   },
   "id": "6373d6ea7ca654c4",
   "execution_count": 146
  },
  {
   "cell_type": "markdown",
   "source": [
    "### Declaración pass\n",
    "La declaración pass se utiliza como marcador de posición cuando se requiere una declaración sintácticamente, pero no se requiere ninguna acción. Es muy útil cuando se trabaja con código no terminado."
   ],
   "metadata": {
    "collapsed": false
   },
   "id": "e423cd01216436e"
  },
  {
   "cell_type": "code",
   "outputs": [
    {
     "name": "stdout",
     "output_type": "stream",
     "text": [
      "1\n",
      "2\n",
      "3\n",
      "4\n",
      "5\n",
      "6\n"
     ]
    }
   ],
   "source": [
    "# pass\n",
    "i = 0\n",
    "while i < 6:\n",
    "    i += 1\n",
    "    if i == 3:\n",
    "        pass\n",
    "    print(i)"
   ],
   "metadata": {
    "collapsed": false,
    "ExecuteTime": {
     "end_time": "2024-01-04T22:49:39.138755Z",
     "start_time": "2024-01-04T22:49:39.070132Z"
    }
   },
   "id": "898e49c1c8ecedc0",
   "execution_count": 148
  },
  {
   "cell_type": "markdown",
   "source": [
    "## Módulos\n",
    "Los módulos son archivos que contienen definiciones de funciones y declaraciones de variables. Los módulos se pueden importar en otros módulos o en el intérprete interactivo de Python. Los módulos se pueden crear creando un archivo con extensión .py que contenga las definiciones de funciones y declaraciones de variables. Los módulos se pueden importar usando la palabra clave import.\n",
    "\n",
    "Los módulos más usados en Python son:\n",
    "* math: Proporciona funciones matemáticas.\n",
    "* random: Proporciona funciones para generar números aleatorios.\n",
    "* datetime: Proporciona clases para trabajar con fechas y horas.\n",
    "* os: Proporciona funciones para interactuar con el sistema operativo.\n",
    "* sys: Proporciona información sobre variables, funciones y métodos del intérprete de Python.\n",
    "* json: Proporciona funciones para trabajar con JSON.\n",
    "* csv: Proporciona funciones para trabajar con CSV.\n",
    "* entre otros..."
   ],
   "metadata": {
    "collapsed": false
   },
   "id": "5a45cdc7663daaba"
  },
  {
   "cell_type": "code",
   "outputs": [
    {
     "name": "stdout",
     "output_type": "stream",
     "text": [
      "3.141592653589793\n"
     ]
    }
   ],
   "source": [
    "# Importación de un módulo\n",
    "import math\n",
    "print(math.pi)\n"
   ],
   "metadata": {
    "collapsed": false,
    "ExecuteTime": {
     "end_time": "2024-01-04T22:51:51.518175Z",
     "start_time": "2024-01-04T22:51:51.453502Z"
    }
   },
   "id": "98a39eafe774eea",
   "execution_count": 149
  },
  {
   "cell_type": "code",
   "outputs": [
    {
     "name": "stdout",
     "output_type": "stream",
     "text": [
      "3.141592653589793\n"
     ]
    }
   ],
   "source": [
    "# Importación de un módulo con alias\n",
    "import math as m\n",
    "print(m.pi)"
   ],
   "metadata": {
    "collapsed": false,
    "ExecuteTime": {
     "end_time": "2024-01-04T22:51:58.412052Z",
     "start_time": "2024-01-04T22:51:58.327864Z"
    }
   },
   "id": "b36894aaf0a10f54",
   "execution_count": 150
  },
  {
   "cell_type": "code",
   "outputs": [
    {
     "name": "stdout",
     "output_type": "stream",
     "text": [
      "3.141592653589793\n"
     ]
    }
   ],
   "source": [
    "# Importación de un módulo con funciones específicas\n",
    "from math import pi\n",
    "print(pi)"
   ],
   "metadata": {
    "collapsed": false,
    "ExecuteTime": {
     "end_time": "2024-01-04T22:52:04.239515Z",
     "start_time": "2024-01-04T22:52:04.124787Z"
    }
   },
   "id": "c3089e325219703",
   "execution_count": 151
  },
  {
   "cell_type": "code",
   "outputs": [
    {
     "name": "stdout",
     "output_type": "stream",
     "text": [
      "3.141592653589793\n"
     ]
    }
   ],
   "source": [
    "# Importación de un módulo con funciones específicas y alias\n",
    "from math import pi as p\n",
    "print(p)"
   ],
   "metadata": {
    "collapsed": false,
    "ExecuteTime": {
     "end_time": "2024-01-04T22:52:10.589943Z",
     "start_time": "2024-01-04T22:52:10.526943Z"
    }
   },
   "id": "589e9bfc7bfb52",
   "execution_count": 152
  },
  {
   "cell_type": "code",
   "outputs": [
    {
     "name": "stdout",
     "output_type": "stream",
     "text": [
      "3.141592653589793\n"
     ]
    }
   ],
   "source": [
    "# Importación de un módulo con todas las funciones\n",
    "from math import *\n",
    "print(pi)"
   ],
   "metadata": {
    "collapsed": false,
    "ExecuteTime": {
     "end_time": "2024-01-04T22:52:38.753191Z",
     "start_time": "2024-01-04T22:52:38.666467Z"
    }
   },
   "id": "70c148804eb2fb3b",
   "execution_count": 155
  },
  {
   "cell_type": "markdown",
   "source": [
    "### Módulo math\n",
    "El módulo math proporciona funciones matemáticas. Las funciones más usadas son:\n",
    "* ceil(): Devuelve el valor entero más pequeño mayor o igual que un número.\n",
    "* floor(): Devuelve el valor entero más grande menor o igual que un número.\n",
    "* trunc(): Devuelve la parte entera de un número.\n",
    "* factorial(): Devuelve el factorial de un número.\n",
    "* gcd(): Devuelve el máximo común divisor de dos números.\n",
    "* exp(): Devuelve e elevado a la potencia de un número.\n",
    "* log(): Devuelve el logaritmo natural de un número.\n",
    "* log10(): Devuelve el logaritmo base 10 de un número.\n",
    "* pow(): Devuelve el valor de un número elevado a la potencia de otro número.\n",
    "* sqrt(): Devuelve la raíz cuadrada de un número.\n",
    "* sin(): Devuelve el seno de un ángulo.\n",
    "* cos(): Devuelve el coseno de un ángulo.\n",
    "* tan(): Devuelve la tangente de un ángulo.\n",
    "* asin(): Devuelve el arco seno de un valor.\n",
    "* acos(): Devuelve el arco coseno de un valor.\n",
    "* atan(): Devuelve el arco tangente de un valor.\n",
    "* atan2(): Devuelve el arco tangente de las coordenadas x e y.\n",
    "* hypot(): Devuelve la longitud de la hipotenusa de un triángulo rectángulo.\n",
    "* degrees(): Convierte un ángulo de radianes a grados.\n",
    "* radians(): Convierte un ángulo de grados a radianes.\n",
    "* entre otras..."
   ],
   "metadata": {
    "collapsed": false
   },
   "id": "c8867703f76b3ec9"
  },
  {
   "cell_type": "code",
   "outputs": [
    {
     "name": "stdout",
     "output_type": "stream",
     "text": [
      "ceil de 4.4:  5\n",
      "floor de 4.4:  4\n",
      "trunc de 4.4:  4\n",
      "factorial de 4:  24\n",
      "gcd de 4 y 6:  2\n",
      "exp de 4:  54.598150033144236\n",
      "log de 4:  1.3862943611198906\n",
      "log10 de 4:  0.6020599913279624\n",
      "pow de 4 elevado a 2:  16.0\n"
     ]
    }
   ],
   "source": [
    "# Veamos algunos ejemplos\n",
    "import math\n",
    "\n",
    "print(\"ceil de 4.4: \", math.ceil(4.4))\n",
    "print(\"floor de 4.4: \", math.floor(4.4))\n",
    "print(\"trunc de 4.4: \", math.trunc(4.4))\n",
    "print(\"factorial de 4: \", math.factorial(4))\n",
    "print(\"gcd de 4 y 6: \", math.gcd(4, 6))\n",
    "print(\"exp de 4: \", math.exp(4))\n",
    "print(\"log de 4: \", math.log(4))\n",
    "print(\"log10 de 4: \", math.log10(4))\n",
    "print(\"pow de 4 elevado a 2: \", math.pow(4, 2))"
   ],
   "metadata": {
    "collapsed": false,
    "ExecuteTime": {
     "end_time": "2024-01-04T22:56:02.748814Z",
     "start_time": "2024-01-04T22:56:02.676237Z"
    }
   },
   "id": "798af690d26a4563",
   "execution_count": 156
  },
  {
   "cell_type": "markdown",
   "source": [
    "### Módulo random\n",
    "El módulo random proporciona funciones para generar números aleatorios. Las funciones más usadas son:\n",
    "* random(): Devuelve un número aleatorio entre 0 y 1.\n",
    "* randint(): Devuelve un número aleatorio entre dos números especificados.\n",
    "* randrange(): Devuelve un número aleatorio entre dos números especificados, incluido el primer número pero no el segundo.\n",
    "* choice(): Devuelve un elemento aleatorio de una lista.\n",
    "* shuffle(): Mezcla los elementos de una lista.\n",
    "* sample(): Devuelve una lista con elementos aleatorios de una lista especificada.\n",
    "* entre otras..."
   ],
   "metadata": {
    "collapsed": false
   },
   "id": "e0075f448a34fe5c"
  },
  {
   "cell_type": "code",
   "outputs": [
    {
     "name": "stdout",
     "output_type": "stream",
     "text": [
      "random:  0.6332554290019906\n",
      "randint:  8\n",
      "randrange:  7\n",
      "choice:  banana\n",
      "shuffle:  None\n",
      "sample:  ['banana', 'cherry']\n"
     ]
    }
   ],
   "source": [
    "# Veamos algunos ejemplos\n",
    "import random\n",
    "\n",
    "print(\"random: \", random.random())\n",
    "print(\"randint: \", random.randint(1, 10))\n",
    "print(\"randrange: \", random.randrange(1, 10))\n",
    "print(\"choice: \", random.choice([\"apple\", \"banana\", \"cherry\"]))\n",
    "print(\"shuffle: \", random.shuffle([\"apple\", \"banana\", \"cherry\"]))\n",
    "print(\"sample: \", random.sample([\"apple\", \"banana\", \"cherry\"], k=2))"
   ],
   "metadata": {
    "collapsed": false,
    "ExecuteTime": {
     "end_time": "2024-01-04T22:57:04.006142Z",
     "start_time": "2024-01-04T22:57:03.937784Z"
    }
   },
   "id": "2c13df6e4cc8d4fc",
   "execution_count": 157
  },
  {
   "cell_type": "markdown",
   "source": [
    "### Módulo datetime\n",
    "El módulo datetime proporciona clases para trabajar con fechas y horas. Las clases más usadas son:\n",
    "* date(): Devuelve una fecha.\n",
    "* time(): Devuelve una hora.\n",
    "* datetime(): Devuelve una fecha y una hora.\n",
    "* timedelta(): Devuelve la diferencia entre dos fechas y horas.\n",
    "* entre otras...\n"
   ],
   "metadata": {
    "collapsed": false
   },
   "id": "49a57ae1789fe0d0"
  },
  {
   "cell_type": "code",
   "outputs": [
    {
     "name": "stdout",
     "output_type": "stream",
     "text": [
      "date:  2020-05-17\n",
      "time:  12:30:15\n",
      "datetime:  2020-05-17 12:30:15\n",
      "timedelta:  7 days, 0:00:00\n"
     ]
    }
   ],
   "source": [
    "# Veamos algunos ejemplos\n",
    "import datetime\n",
    "\n",
    "print(\"date: \", datetime.date(2020, 5, 17))\n",
    "print(\"time: \", datetime.time(12, 30, 15))\n",
    "print(\"datetime: \", datetime.datetime(2020, 5, 17, 12, 30, 15))\n",
    "print(\"timedelta: \", datetime.timedelta(days=7))"
   ],
   "metadata": {
    "collapsed": false,
    "ExecuteTime": {
     "end_time": "2024-01-04T22:57:39.397935Z",
     "start_time": "2024-01-04T22:57:39.296246Z"
    }
   },
   "id": "3247f5a8b7c90130",
   "execution_count": 158
  },
  {
   "cell_type": "markdown",
   "source": [
    "### Módulo os\n",
    "El módulo os proporciona funciones para interactuar con el sistema operativo. Las funciones más usadas son:\n",
    "* chdir(): Cambia el directorio de trabajo actual.\n",
    "* getcwd(): Devuelve el directorio de trabajo actual.\n",
    "* listdir(): Devuelve una lista que contiene los nombres de los archivos y directorios en el directorio especificado.\n",
    "* mkdir(): Crea un directorio.\n",
    "* remove(): Elimina el archivo especificado.\n",
    "* rmdir(): Elimina el directorio especificado.\n",
    "* rename(): Cambia el nombre del archivo o directorio especificado.\n",
    "* entre otras..."
   ],
   "metadata": {
    "collapsed": false
   },
   "id": "e06a392232898f6"
  },
  {
   "cell_type": "code",
   "outputs": [
    {
     "name": "stdout",
     "output_type": "stream",
     "text": [
      "getcwd:  /Users/jcrvz/Library/Mobile Documents/com~apple~CloudDocs/Professor/Conferences/IMPULSE DATA & AI/Taller\n",
      "listdir:  ['Taller_1.ipynb', '.DS_Store', 'test', '.git', '.idea']\n"
     ]
    }
   ],
   "source": [
    "# Veamos algunos ejemplos\n",
    "import os\n",
    "\n",
    "print(\"getcwd: \", os.getcwd())\n",
    "print(\"listdir: \", os.listdir())\n",
    "\n"
   ],
   "metadata": {
    "collapsed": false,
    "ExecuteTime": {
     "end_time": "2024-01-04T22:59:07.994929Z",
     "start_time": "2024-01-04T22:59:07.926184Z"
    }
   },
   "id": "aad3a0c1af92ce8f",
   "execution_count": 161
  },
  {
   "cell_type": "markdown",
   "source": [
    "### Módulo sys\n",
    "El módulo sys proporciona información sobre variables, funciones y métodos del intérprete de Python. Las funciones más usadas son:\n",
    "* argv: Devuelve una lista de argumentos pasados al script.\n",
    "* exit(): Termina el script.\n",
    "* entre otras..."
   ],
   "metadata": {
    "collapsed": false
   },
   "id": "744d787d2f4b310f"
  },
  {
   "cell_type": "code",
   "outputs": [
    {
     "data": {
      "text/plain": "['__breakpointhook__',\n '__displayhook__',\n '__doc__',\n '__excepthook__',\n '__interactivehook__',\n '__loader__',\n '__name__',\n '__package__',\n '__spec__',\n '__stderr__',\n '__stdin__',\n '__stdout__',\n '__unraisablehook__',\n '_base_executable',\n '_clear_type_cache',\n '_current_exceptions',\n '_current_frames',\n '_deactivate_opcache',\n '_debugmallocstats',\n '_framework',\n '_getframe',\n '_git',\n '_home',\n '_xoptions',\n 'abiflags',\n 'addaudithook',\n 'api_version',\n 'argv',\n 'audit',\n 'base_exec_prefix',\n 'base_prefix',\n 'breakpointhook',\n 'builtin_module_names',\n 'byteorder',\n 'call_tracing',\n 'copyright',\n 'displayhook',\n 'dont_write_bytecode',\n 'exc_info',\n 'excepthook',\n 'exec_prefix',\n 'executable',\n 'exit',\n 'flags',\n 'float_info',\n 'float_repr_style',\n 'get_asyncgen_hooks',\n 'get_coroutine_origin_tracking_depth',\n 'get_int_max_str_digits',\n 'getallocatedblocks',\n 'getdefaultencoding',\n 'getdlopenflags',\n 'getfilesystemencodeerrors',\n 'getfilesystemencoding',\n 'getprofile',\n 'getrecursionlimit',\n 'getrefcount',\n 'getsizeof',\n 'getswitchinterval',\n 'gettrace',\n 'hash_info',\n 'hexversion',\n 'implementation',\n 'int_info',\n 'intern',\n 'is_finalizing',\n 'last_traceback',\n 'last_type',\n 'last_value',\n 'maxsize',\n 'maxunicode',\n 'meta_path',\n 'modules',\n 'orig_argv',\n 'path',\n 'path_hooks',\n 'path_importer_cache',\n 'platform',\n 'platlibdir',\n 'prefix',\n 'ps1',\n 'ps2',\n 'ps3',\n 'pycache_prefix',\n 'set_asyncgen_hooks',\n 'set_coroutine_origin_tracking_depth',\n 'set_int_max_str_digits',\n 'setdlopenflags',\n 'setprofile',\n 'setrecursionlimit',\n 'setswitchinterval',\n 'settrace',\n 'stderr',\n 'stdin',\n 'stdlib_module_names',\n 'stdout',\n 'thread_info',\n 'unraisablehook',\n 'version',\n 'version_info',\n 'warnoptions']"
     },
     "execution_count": 163,
     "metadata": {},
     "output_type": "execute_result"
    }
   ],
   "source": [
    "# Veamos algunos ejemplos\n",
    "import sys\n",
    "\n",
    "dir(sys)"
   ],
   "metadata": {
    "collapsed": false,
    "ExecuteTime": {
     "end_time": "2024-01-04T23:00:26.096954Z",
     "start_time": "2024-01-04T23:00:25.968051Z"
    }
   },
   "id": "7c39ce7d6d5a4f07",
   "execution_count": 163
  },
  {
   "cell_type": "markdown",
   "source": [
    "### Módulo json\n",
    "El módulo json proporciona funciones para trabajar con JSON. Las funciones más usadas son:\n",
    "* dumps(): Convierte un objeto de Python en una cadena JSON.\n",
    "* loads(): Convierte una cadena JSON en un objeto de Python.\n",
    "* entre otras...\n"
   ],
   "metadata": {
    "collapsed": false
   },
   "id": "3f5cb481a9c0132"
  },
  {
   "cell_type": "code",
   "outputs": [
    {
     "name": "stdout",
     "output_type": "stream",
     "text": [
      "dumps:  {\"name\": \"John\", \"age\": 30}\n",
      "loads:  {'name': 'John', 'age': 30}\n"
     ]
    }
   ],
   "source": [
    "# Veamos algunos ejemplos\n",
    "import json\n",
    "\n",
    "print(\"dumps: \", json.dumps({\"name\": \"John\", \"age\": 30}))\n",
    "print(\"loads: \", json.loads('{\"name\": \"John\", \"age\": 30}'))"
   ],
   "metadata": {
    "collapsed": false,
    "ExecuteTime": {
     "end_time": "2024-01-04T23:01:18.108182Z",
     "start_time": "2024-01-04T23:01:18.037759Z"
    }
   },
   "id": "f18655862f9d31f3",
   "execution_count": 164
  },
  {
   "cell_type": "code",
   "outputs": [
    {
     "name": "stdout",
     "output_type": "stream",
     "text": [
      "{\"name\": \"John\", \"age\": 30, \"married\": true, \"divorced\": false, \"children\": [\"Ann\", \"Billy\"], \"pets\": null, \"cars\": [{\"model\": \"BMW 230\", \"mpg\": 27.5}, {\"model\": \"Ford Edge\", \"mpg\": 24.1}]}\n"
     ]
    }
   ],
   "source": [
    "# Veamos un ejemplo más complejo\n",
    "import json\n",
    "\n",
    "x = {\n",
    "  \"name\": \"John\",\n",
    "  \"age\": 30,\n",
    "  \"married\": True,\n",
    "  \"divorced\": False,\n",
    "  \"children\": (\"Ann\",\"Billy\"),\n",
    "  \"pets\": None,\n",
    "  \"cars\": [\n",
    "    {\"model\": \"BMW 230\", \"mpg\": 27.5},\n",
    "    {\"model\": \"Ford Edge\", \"mpg\": 24.1}\n",
    "  ]\n",
    "}\n",
    "print(json.dumps(x))"
   ],
   "metadata": {
    "collapsed": false,
    "ExecuteTime": {
     "end_time": "2024-01-04T23:01:50.081744Z",
     "start_time": "2024-01-04T23:01:49.999371Z"
    }
   },
   "id": "c964a47284ecda39",
   "execution_count": 165
  },
  {
   "cell_type": "markdown",
   "source": [
    "## Lectura y escritura de archivos\n",
    "Python tiene una serie de funciones para trabajar con archivos. Las funciones más usadas son:\n",
    "* open(): Abre un archivo y devuelve un objeto de archivo.\n",
    "* read(): Lee el contenido de un archivo.\n",
    "* readline(): Lee una línea de un archivo.\n",
    "* write(): Escribe el contenido de un archivo.\n",
    "* close(): Cierra un archivo.\n",
    "* entre otras..."
   ],
   "metadata": {
    "collapsed": false
   },
   "id": "5ec239ded3f7ad4e"
  },
  {
   "cell_type": "code",
   "outputs": [
    {
     "name": "stdout",
     "output_type": "stream",
     "text": [
      "Bienvenidos a la IMPULSE AI Conferencia Anual de Inteligencia Artificial en Latam! Este evento, organizado por Impulse AI (AII), tiene como objetivo promover a América Latina como un área de liderazgo mundial en IA, datos y análisis reuniendo a partes interesadas de la academia, la industria y las empresas para discutir los últimos desarrollos, compartir las mejores prácticas y fomentar la colaboración.\n",
      "\n",
      "Este año, el evento se llevará a cabo en el Hotel Sheraton Maria Isabel en la Ciudad de México los días 12 y 13 de septiembre. Durante los dos días, se llevarán a cabo conferencias magistrales, paneles de discusión y presentaciones de investigaciones y desarrollos en IA, datos y analisis por parte de expertos y profesionales de la región.\n",
      "\n",
      "Al asistir al congreso, tendrá la oportunidad de encontrar áreas donde podrá ofrecer contribuciones únicas y significativas usando Data Science, convertirse en un fuerte Data Scientist y Strategist, obtener importantes contactos que ampliarán su red y sus oportunidades de trabajo, identificar oportunidades de negocio para el uso de la IA, datos y análisis para conocer las últimas tendencias y tecnologías.\n",
      "\n",
      "El congreso también apoya la educación y el desarrollo profesional, la contratación y creación de talento, la diversidad e inclusión, y el apoyo a las instituciones académicas, otros \"Meet-ups\" locales, organizaciones y creadores de comunidades.\n"
     ]
    }
   ],
   "source": [
    "# Lectura de un archivo\n",
    "f = open(\"demofile.txt\", \"r\")\n",
    "print(f.read())"
   ],
   "metadata": {
    "collapsed": false,
    "ExecuteTime": {
     "end_time": "2024-01-04T23:18:17.361296Z",
     "start_time": "2024-01-04T23:18:17.294169Z"
    }
   },
   "id": "caf51ea1df2ab243",
   "execution_count": 167
  },
  {
   "cell_type": "code",
   "outputs": [
    {
     "name": "stdout",
     "output_type": "stream",
     "text": [
      "Bienvenidos a la IMPULSE AI Conferencia Anual de Inteligencia Artificial en Latam!\n",
      "\n",
      "Este evento, organizado por Impulse AI (AII),\n"
     ]
    }
   ],
   "source": [
    "# Lectura de un archivo línea a línea\n",
    "f = open(\"demofile.txt\", \"r\")\n",
    "print(f.readline())\n",
    "print(f.readline())"
   ],
   "metadata": {
    "collapsed": false,
    "ExecuteTime": {
     "end_time": "2024-01-04T23:19:45.022564Z",
     "start_time": "2024-01-04T23:19:44.954359Z"
    }
   },
   "id": "6b692417cd72d59b",
   "execution_count": 169
  },
  {
   "cell_type": "code",
   "outputs": [
    {
     "name": "stdout",
     "output_type": "stream",
     "text": [
      "Bienvenidos a la IMPULSE AI Conferencia Anual de Inteligencia Artificial en Latam!\n",
      "Este evento, organizado por Impulse AI (AII),\n",
      "tiene como objetivo promover a América Latina como un área de liderazgo mundial en IA,\n",
      "datos y análisis reuniendo a partes interesadas de la academia,\n",
      "la industria y las empresas para discutir los últimos desarrollos,\n",
      "compartir las mejores prácticas y fomentar la colaboración.\n",
      "\n",
      "Este año, el evento se llevará a cabo en el Hotel Sheraton Maria Isabel en la Ciudad de México los días 12 y 13 de septiembre.\n",
      "Durante los dos días, se llevarán a cabo conferencias magistrales,\n",
      "paneles de discusión y presentaciones de investigaciones y desarrollos en IA,\n",
      "datos y analisis por parte de expertos y profesionales de la región.\n",
      "\n",
      "Al asistir al congreso, tendrá la oportunidad de encontrar áreas donde podrá ofrecer contribuciones únicas y\n",
      "significativas usando Data Science, convertirse en un fuerte Data Scientist y Strategist,\n",
      "obtener importantes contactos que ampliarán su red y sus oportunidades de trabajo,\n",
      "identificar oportunidades de negocio para el uso de la IA, datos y análisis para conocer las últimas\n",
      "tendencias y tecnologías.\n",
      "\n",
      "El congreso también apoya la educación y el desarrollo profesional, la contratación y creación de talento,\n",
      "la diversidad e inclusión, y el apoyo a las instituciones académicas, otros \"Meet-ups\" locales,\n",
      "organizaciones y creadores de comunidades.\n"
     ]
    }
   ],
   "source": [
    "# Lectura usando with open\n",
    "with open(\"demofile.txt\", \"r\") as f:\n",
    "    print(f.read())\n"
   ],
   "metadata": {
    "collapsed": false,
    "ExecuteTime": {
     "end_time": "2024-01-04T23:20:08.963231Z",
     "start_time": "2024-01-04T23:20:08.898102Z"
    }
   },
   "id": "52e43c3dfc230c27",
   "execution_count": 170
  },
  {
   "cell_type": "code",
   "outputs": [],
   "source": [
    "# Escritura de un archivo\n",
    "f = open(\"demofile.txt\", \"r\")\n",
    "\n",
    "f_2 = open(\"demofile_2.txt\", \"w\")\n",
    "f_2.write(f.read().upper())\n",
    "\n",
    "f.close()\n",
    "f_2.close()"
   ],
   "metadata": {
    "collapsed": false,
    "ExecuteTime": {
     "end_time": "2024-01-04T23:22:01.786414Z",
     "start_time": "2024-01-04T23:22:01.670757Z"
    }
   },
   "id": "179e180141867a72",
   "execution_count": 172
  },
  {
   "cell_type": "code",
   "outputs": [],
   "source": [
    "# Escritura usando with open\n",
    "with open(\"demofile.txt\", \"r\") as f:\n",
    "    with open(\"demofile_2.txt\", \"w\") as f_2:\n",
    "        f_2.write(f.read().upper())\n"
   ],
   "metadata": {
    "collapsed": false,
    "ExecuteTime": {
     "end_time": "2024-01-04T23:23:10.996037Z",
     "start_time": "2024-01-04T23:23:10.903434Z"
    }
   },
   "id": "ee539bd9b0096dd5",
   "execution_count": 175
  },
  {
   "cell_type": "code",
   "outputs": [
    {
     "name": "stdout",
     "output_type": "stream",
     "text": [
      "BIENVENIDOS A LA IMPULSE AI CONFERENCIA ANUAL DE INTELIGENCIA ARTIFICIAL EN LATAM!\n",
      "ESTE EVENTO, ORGANIZADO POR IMPULSE AI (AII),\n",
      "TIENE COMO OBJETIVO PROMOVER A AMÉRICA LATINA COMO UN ÁREA DE LIDERAZGO MUNDIAL EN IA,\n",
      "DATOS Y ANÁLISIS REUNIENDO A PARTES INTERESADAS DE LA ACADEMIA,\n",
      "LA INDUSTRIA Y LAS EMPRESAS PARA DISCUTIR LOS ÚLTIMOS DESARROLLOS,\n",
      "COMPARTIR LAS MEJORES PRÁCTICAS Y FOMENTAR LA COLABORACIÓN.\n",
      "\n",
      "ESTE AÑO, EL EVENTO SE LLEVARÁ A CABO EN EL HOTEL SHERATON MARIA ISABEL EN LA CIUDAD DE MÉXICO LOS DÍAS 12 Y 13 DE SEPTIEMBRE.\n",
      "DURANTE LOS DOS DÍAS, SE LLEVARÁN A CABO CONFERENCIAS MAGISTRALES,\n",
      "PANELES DE DISCUSIÓN Y PRESENTACIONES DE INVESTIGACIONES Y DESARROLLOS EN IA,\n",
      "DATOS Y ANALISIS POR PARTE DE EXPERTOS Y PROFESIONALES DE LA REGIÓN.\n",
      "\n",
      "AL ASISTIR AL CONGRESO, TENDRÁ LA OPORTUNIDAD DE ENCONTRAR ÁREAS DONDE PODRÁ OFRECER CONTRIBUCIONES ÚNICAS Y\n",
      "SIGNIFICATIVAS USANDO DATA SCIENCE, CONVERTIRSE EN UN FUERTE DATA SCIENTIST Y STRATEGIST,\n",
      "OBTENER IMPORTANTES CONTACTOS QUE AMPLIARÁN SU RED Y SUS OPORTUNIDADES DE TRABAJO,\n",
      "IDENTIFICAR OPORTUNIDADES DE NEGOCIO PARA EL USO DE LA IA, DATOS Y ANÁLISIS PARA CONOCER LAS ÚLTIMAS\n",
      "TENDENCIAS Y TECNOLOGÍAS.\n",
      "\n",
      "EL CONGRESO TAMBIÉN APOYA LA EDUCACIÓN Y EL DESARROLLO PROFESIONAL, LA CONTRATACIÓN Y CREACIÓN DE TALENTO,\n",
      "LA DIVERSIDAD E INCLUSIÓN, Y EL APOYO A LAS INSTITUCIONES ACADÉMICAS, OTROS \"MEET-UPS\" LOCALES,\n",
      "ORGANIZACIONES Y CREADORES DE COMUNIDADES.\n"
     ]
    }
   ],
   "source": [
    "# Veamos el contenido del archivo demofile_2.txt\n",
    "with open(\"demofile_2.txt\", \"r\") as f:\n",
    "    print(f.read())"
   ],
   "metadata": {
    "collapsed": false,
    "ExecuteTime": {
     "end_time": "2024-01-04T23:23:11.707385Z",
     "start_time": "2024-01-04T23:23:11.629632Z"
    }
   },
   "id": "ac249bfd526ba6a9",
   "execution_count": 176
  },
  {
   "cell_type": "code",
   "outputs": [],
   "source": [
    "# Escritura con append\n",
    "with open(\"demofile_2.txt\", \"a\") as f:\n",
    "    f.write(\"Now the file has more content!\")"
   ],
   "metadata": {
    "collapsed": false,
    "ExecuteTime": {
     "end_time": "2024-01-04T23:23:47.724028Z",
     "start_time": "2024-01-04T23:23:47.627045Z"
    }
   },
   "id": "7bc8d156c67477a",
   "execution_count": 177
  },
  {
   "cell_type": "code",
   "outputs": [
    {
     "name": "stdout",
     "output_type": "stream",
     "text": [
      "BIENVENIDOS A LA IMPULSE AI CONFERENCIA ANUAL DE INTELIGENCIA ARTIFICIAL EN LATAM!\n",
      "ESTE EVENTO, ORGANIZADO POR IMPULSE AI (AII),\n",
      "TIENE COMO OBJETIVO PROMOVER A AMÉRICA LATINA COMO UN ÁREA DE LIDERAZGO MUNDIAL EN IA,\n",
      "DATOS Y ANÁLISIS REUNIENDO A PARTES INTERESADAS DE LA ACADEMIA,\n",
      "LA INDUSTRIA Y LAS EMPRESAS PARA DISCUTIR LOS ÚLTIMOS DESARROLLOS,\n",
      "COMPARTIR LAS MEJORES PRÁCTICAS Y FOMENTAR LA COLABORACIÓN.\n",
      "\n",
      "ESTE AÑO, EL EVENTO SE LLEVARÁ A CABO EN EL HOTEL SHERATON MARIA ISABEL EN LA CIUDAD DE MÉXICO LOS DÍAS 12 Y 13 DE SEPTIEMBRE.\n",
      "DURANTE LOS DOS DÍAS, SE LLEVARÁN A CABO CONFERENCIAS MAGISTRALES,\n",
      "PANELES DE DISCUSIÓN Y PRESENTACIONES DE INVESTIGACIONES Y DESARROLLOS EN IA,\n",
      "DATOS Y ANALISIS POR PARTE DE EXPERTOS Y PROFESIONALES DE LA REGIÓN.\n",
      "\n",
      "AL ASISTIR AL CONGRESO, TENDRÁ LA OPORTUNIDAD DE ENCONTRAR ÁREAS DONDE PODRÁ OFRECER CONTRIBUCIONES ÚNICAS Y\n",
      "SIGNIFICATIVAS USANDO DATA SCIENCE, CONVERTIRSE EN UN FUERTE DATA SCIENTIST Y STRATEGIST,\n",
      "OBTENER IMPORTANTES CONTACTOS QUE AMPLIARÁN SU RED Y SUS OPORTUNIDADES DE TRABAJO,\n",
      "IDENTIFICAR OPORTUNIDADES DE NEGOCIO PARA EL USO DE LA IA, DATOS Y ANÁLISIS PARA CONOCER LAS ÚLTIMAS\n",
      "TENDENCIAS Y TECNOLOGÍAS.\n",
      "\n",
      "EL CONGRESO TAMBIÉN APOYA LA EDUCACIÓN Y EL DESARROLLO PROFESIONAL, LA CONTRATACIÓN Y CREACIÓN DE TALENTO,\n",
      "LA DIVERSIDAD E INCLUSIÓN, Y EL APOYO A LAS INSTITUCIONES ACADÉMICAS, OTROS \"MEET-UPS\" LOCALES,\n",
      "ORGANIZACIONES Y CREADORES DE COMUNIDADES.Now the file has more content!\n"
     ]
    }
   ],
   "source": [
    "# Veamos el contenido del archivo demofile_2.txt\n",
    "with open(\"demofile_2.txt\", \"r\") as f:\n",
    "    print(f.read())"
   ],
   "metadata": {
    "collapsed": false,
    "ExecuteTime": {
     "end_time": "2024-01-04T23:23:51.939719Z",
     "start_time": "2024-01-04T23:23:51.844299Z"
    }
   },
   "id": "8aec5fce518cb38e",
   "execution_count": 178
  },
  {
   "cell_type": "markdown",
   "source": [
    "## Clases y objetos\n",
    "Las clases se utilizan para crear objetos. Un objeto es una instancia de una clase. Una clase es como un constructor de objetos o un \"plano\" para crear objetos. Las clases se definen utilizando la palabra clave class. Los objetos se crean utilizando la palabra clave class seguida del nombre de la clase.\n",
    "\n",
    "Veamos brevemente un ejemplo de una clase y un objeto:"
   ],
   "metadata": {
    "collapsed": false
   },
   "id": "6c9cae4868e068f8"
  },
  {
   "cell_type": "code",
   "outputs": [],
   "source": [
    "# Definición de una clase\n",
    "class Perro:\n",
    "    tiene_pulgas = False\n",
    "    def __init__(self, nombre, edad):\n",
    "        \"\"\"\n",
    "        Constructor de la clase Perro\n",
    "        :param nombre: \n",
    "        :param edad: \n",
    "        \"\"\"\n",
    "        self.nombre = nombre\n",
    "        self.edad = edad\n",
    "\n",
    "    def ladrar(self):\n",
    "        \"\"\"\n",
    "        Método de la clase Perro\n",
    "        :return: \n",
    "        \"\"\"\n",
    "        print(\"Guau\")\n",
    "        \n",
    "    def rascarse(self):\n",
    "        \"\"\"\n",
    "        Método de la clase Perro\n",
    "        :return: \n",
    "        \"\"\"\n",
    "        if self.tiene_pulgas:\n",
    "            print(self.nombre, \"se rasca\")\n",
    "        else:\n",
    "            print(self.nombre, \"no se rasca\")"
   ],
   "metadata": {
    "collapsed": false,
    "ExecuteTime": {
     "end_time": "2024-01-04T23:29:36.065530Z",
     "start_time": "2024-01-04T23:29:35.973469Z"
    }
   },
   "id": "fd70926f8602679d",
   "execution_count": 190
  },
  {
   "cell_type": "code",
   "outputs": [
    {
     "name": "stdout",
     "output_type": "stream",
     "text": [
      "Firulais\n",
      "5\n",
      "Guau\n",
      "Firulais no se rasca\n"
     ]
    }
   ],
   "source": [
    "# Creación de un objeto\n",
    "p = Perro(\"Firulais\", 5)\n",
    "print(p.nombre)\n",
    "print(p.edad)\n",
    "p.ladrar()\n",
    "p.rascarse()"
   ],
   "metadata": {
    "collapsed": false,
    "ExecuteTime": {
     "end_time": "2024-01-04T23:29:37.094940Z",
     "start_time": "2024-01-04T23:29:36.979940Z"
    }
   },
   "id": "2ab082b14594b89d",
   "execution_count": 191
  },
  {
   "cell_type": "code",
   "outputs": [
    {
     "name": "stdout",
     "output_type": "stream",
     "text": [
      "Firulais se rasca\n"
     ]
    }
   ],
   "source": [
    "p.tiene_pulgas = True\n",
    "p.rascarse()"
   ],
   "metadata": {
    "collapsed": false,
    "ExecuteTime": {
     "end_time": "2024-01-04T23:29:41.186290Z",
     "start_time": "2024-01-04T23:29:41.083503Z"
    }
   },
   "id": "d665e98da130f3f1",
   "execution_count": 192
  },
  {
   "cell_type": "code",
   "outputs": [],
   "source": [
    "# Veamos otro ejemplo\n",
    "class Persona:\n",
    "    def __init__(self, nombre, edad):\n",
    "        self.nombre = nombre\n",
    "        self.edad = edad\n",
    "\n",
    "    def saludar(self):\n",
    "        print(\"Hola, mi nombre es \" + self.nombre + \" y tengo \" + str(self.edad) + \" años\")\n",
    "    "
   ],
   "metadata": {
    "collapsed": false,
    "ExecuteTime": {
     "end_time": "2024-01-04T23:25:57.429795Z",
     "start_time": "2024-01-04T23:25:57.319670Z"
    }
   },
   "id": "c29adb7ac8c2eda5",
   "execution_count": 181
  },
  {
   "cell_type": "code",
   "outputs": [
    {
     "name": "stdout",
     "output_type": "stream",
     "text": [
      "Hola, mi nombre es Juan y tengo 22 años\n"
     ]
    }
   ],
   "source": [
    "# Creación de un objeto\n",
    "p = Persona(\"Juan\", 22)\n",
    "p.saludar()"
   ],
   "metadata": {
    "collapsed": false,
    "ExecuteTime": {
     "end_time": "2024-01-04T23:26:06.655709Z",
     "start_time": "2024-01-04T23:26:06.559384Z"
    }
   },
   "id": "832556cacd0a90c0",
   "execution_count": 182
  },
  {
   "cell_type": "markdown",
   "source": [],
   "metadata": {
    "collapsed": false
   },
   "id": "2ee906446a054d6d"
  }
 ],
 "metadata": {
  "kernelspec": {
   "display_name": "Python 3",
   "language": "python",
   "name": "python3"
  },
  "language_info": {
   "codemirror_mode": {
    "name": "ipython",
    "version": 2
   },
   "file_extension": ".py",
   "mimetype": "text/x-python",
   "name": "python",
   "nbconvert_exporter": "python",
   "pygments_lexer": "ipython2",
   "version": "2.7.6"
  }
 },
 "nbformat": 4,
 "nbformat_minor": 5
}
